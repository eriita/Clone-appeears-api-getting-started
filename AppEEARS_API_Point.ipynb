{
 "cells": [
  {
   "cell_type": "markdown",
   "metadata": {},
   "source": [
    "# Getting Started with the AppEEARS API: Submitting and Downloading a Point Request\n",
    "### This tutorial demonstrates how to use Python to connect to the AppEEARS API \n",
    "The Application for Extracting and Exploring Analysis Ready Samples ([AppEEARS](https://lpdaacsvc.cr.usgs.gov/appeears/)) offers a simple and efficient way to access and transform geospatial data from a variety of federal data archives in an easy-to-use web application interface. AppEEARS enables users to subset [geospatial data](https://lpdaacsvc.cr.usgs.gov/appeears/products) spatially, temporally, and by band/layer for point and area samples. AppEEARS returns not only the requested data, but also the associated quality values, and offers interactive visualizations with summary statistics in the web interface.  The [AppEEARS API](https://lpdaacsvc.cr.usgs.gov/appeears/api/) offers users **programmatic access** to all features available in AppEEARS, with the exception of visualizations. The API features are demonstrated in this notebook.  \n",
    "***\n",
    "### Example: Submit a point request with multiple points in U.S. National Parks for extracting vegetation and land surface temperature data    \n",
    "Connect to the AppEEARS API, query the list of available products, submit a point sample request, download the request, become familiar with the AppEEARS Quality API, and import the results into Python for visualization.  AppEEARS point requests allow users to subset their desired data using latitude/longitude geographic coordinate pairs (points) for a time period of interest, and for specific data layers within data products. AppEEARS returns the valid data from the parameters defined within the sample request.  \n",
    "\n",
    "#### Data Used in the Example: \n",
    "- Data layers: \n",
    "    - Combined MODIS Leaf Area Index (LAI)  \n",
    "        - [MCD15A3H.006](https://doi.org/10.5067/MODIS/MCD15A3H.006), 500m, 4 day: 'Lai_500m'      \n",
    "    - Terra MODIS Land Surface Temperature    \n",
    "        - [MOD11A2.006](https://doi.org/10.5067/MODIS/MOD11A2.006), 1000m, 8 day: 'LST_Day_1km', 'LST_Night_1km'       \n",
    "***  \n",
    "# Topics Covered:\n",
    "1. **Getting Started**  \n",
    "    1a. Enable Access to the API  \n",
    "    1b. Set Up the Working Environment    \n",
    "    1c. Login  \n",
    "2. **Query Available Products [Products API]**  \n",
    "    2a. Search and Explore Available Products [List Products]  \n",
    "    2b. Search and Explore Available Layers [List Layers]      \n",
    "3. **Submit a Point Request [Tasks]**  \n",
    "    3a. Compile a JSON [Task Object]  \n",
    "    3b. Submit a Task Request [Submit Task]  \n",
    "    3c. Retrieve Task Status [Retrieve Task]  \n",
    "4. **Download a Request [Bundle API]**    \n",
    "    4a. Explore Files in Request Output [List Files]    \n",
    "    4b. Download Files in a Request (Automation) [Download File]   \n",
    "5. **Explore AppEEARS Quality API [Quality API]**  \n",
    "    5a. List Quality Layers [List Quality Layers]    \n",
    "    5b. Show Quality Values [List Quality Values]   \n",
    "    5c. Decode Quality Values [Decode Quality Values]   \n",
    "6. **BONUS: Import Request Output and Visualize**    \n",
    "    6a. Import CSV     \n",
    "    6b. Plot Results (Line/Scatter Plots)  \n",
    "***\n",
    "### Dependencies:\n",
    "- This tutorial was tested using Python 3.6.1.  \n",
    "- A [NASA Earthdata Login](https://urs.earthdata.nasa.gov/) account is required to complete this tutorial. You can create an account at the link provided.    \n",
    "***\n",
    "### AppEEARS Information:\n",
    "To access AppEEARS, visit: https://lpdaacsvc.cr.usgs.gov/appeears/  \n",
    "> For comprehensive documentation of the full functionality of the AppEEARS API, please see the AppEEARS [API Documentation](https://lpdaacsvc.cr.usgs.gov/appeears/api/).   \n",
    "  \n",
    "Throughout the tutorial, specific sections of the API documentation can be accessed by clicking on the bracketed [] links in the section headings. \n",
    "\n",
    "***\n",
    "### Source Code used to Generate this Tutorial:\n",
    "- [Jupyter Notebook](https://git.earthdata.nasa.gov/projects/LPDUR/repos/cole-sandbox/browse/.ipynb_checkpoints/AppEEARS_GeoTIFF_TS-checkpoint.ipynb) "
   ]
  },
  {
   "cell_type": "markdown",
   "metadata": {},
   "source": [
    "***"
   ]
  },
  {
   "cell_type": "markdown",
   "metadata": {},
   "source": [
    "# 1. Getting Started \n",
    "<div class=\"alert alert-block alert-warning\" >\n",
    "<b>NOTE:</b> If this is your first time using the AppEEARS API, you must first enable API access by following the instructions provided below. \n",
    "</div> "
   ]
  },
  {
   "cell_type": "markdown",
   "metadata": {},
   "source": [
    "***\n",
    "## 1a. Enable Access to the API\n",
    "#### AppEEARS API access requires the same [NASA Earthdata Login](https://urs.earthdata.nasa.gov/) as the AρρEEARS user interface. In addition to having a valid NASA Earthdata Login account, the API feature must be enabled for the user within AρρEEARS.\n",
    "#### To enable access to the AppEEARS API, navigate to the [AppEEARS website](https://lpdaacsvc.cr.usgs.gov/appeears/). Click the *Sign In* button in the top right portion of the AppEEARS landing page screen.  \n",
    "![AppEEARS Sign In](https://lpdaacsvc.cr.usgs.gov/assets/images/help/image001.73bb446d.png)  \n",
    "#### Once you are signed in, click the *Manage User* icon in the top right portion of the AppEEARS landing page screen and select *Settings*. \n",
    "![Manage User -> Settings](https://lpdaacsvc.cr.usgs.gov/assets/images/help/api/image001.30a681c0.png)      \n",
    "#### Select the *Enable API* box to gain access to the AppEEARS API.  \n",
    "![Enable API Access](https://lpdaacsvc.cr.usgs.gov/assets/images/help/api/image002.2262e4d3.png)"
   ]
  },
  {
   "cell_type": "markdown",
   "metadata": {},
   "source": [
    "***\n",
    "## 1b. Set Up the Working Environment\n",
    "#### Next, import the required packages, set the input/working directory, and create an output directory for the results."
   ]
  },
  {
   "cell_type": "code",
   "execution_count": null,
   "metadata": {
    "collapsed": true
   },
   "outputs": [],
   "source": [
    "# Import packages\n",
    "import requests as r\n",
    "import getpass, pprint, time, os, cgi"
   ]
  },
  {
   "cell_type": "markdown",
   "metadata": {},
   "source": [
    "#### If you are missing any of the packages above, download them in order to use the full functionality of this tutorial. "
   ]
  },
  {
   "cell_type": "code",
   "execution_count": null,
   "metadata": {
    "collapsed": true
   },
   "outputs": [],
   "source": [
    "# Set input directory, change working directory\n",
    "inDir = 'C:/Users/ckrehbiel/Documents/cole-sandbox/Basic_API/'            # IMPORTANT: Update to reflect directory on your OS\n",
    "os.chdir(inDir)                                 # Change to working directory\n",
    "\n",
    "# below, set the AppEEARS API to a variable (this URL also will take you to the AppEEARS API documentation)\n",
    "api = 'https://lpdaacsvc.cr.usgs.gov/appeears/api/'   # https://lpdaacsvc.cr.usgs.gov/appeears/api/"
   ]
  },
  {
   "cell_type": "markdown",
   "metadata": {},
   "source": [
    "<div class=\"alert alert-block alert-warning\" >\n",
    "<b>If you plan to execute this tutorial on your own OS, `inDir` above needs to be changed.</b>\n",
    "</div> "
   ]
  },
  {
   "cell_type": "markdown",
   "metadata": {},
   "source": [
    "***\n",
    "## 1c. Login\n",
    "#### To submit a request, you must first login to the AppEEARS API. Use the `getpass` package to enter your NASA Earthdata login **Username** and **Password**. When prompted after executing the code block below, enter your username followed by your password."
   ]
  },
  {
   "cell_type": "code",
   "execution_count": null,
   "metadata": {
    "collapsed": true
   },
   "outputs": [],
   "source": [
    "user = getpass.getpass(prompt = 'Enter NASA Earthdata Login Username: ')      # Input NASA Earthdata Login Username\n",
    "password = getpass.getpass(prompt = 'Enter NASA Earthdata Login Password: ')  # Input NASA Earthdata Login Password"
   ]
  },
  {
   "cell_type": "markdown",
   "metadata": {},
   "source": [
    "#### Use the `requests` package to post your username and password. A successful login will provide you with a token to be used later in this tutorial to submit a request. For more information or if you are experiencing difficulties, please see the [API Documentation](https://lpdaacsvc.cr.usgs.gov/appeears/api/?language=Python%203#login)"
   ]
  },
  {
   "cell_type": "code",
   "execution_count": null,
   "metadata": {},
   "outputs": [],
   "source": [
    "token_response = r.post('{}login'.format(api), auth=(user, password)).json() # Insert base API URL, call the login service, provide credentials & return json\n",
    "del user, password                                                           # Remove user and password information upon a successful login \n",
    "token_response                                                               # Print response"
   ]
  },
  {
   "cell_type": "markdown",
   "metadata": {},
   "source": [
    "#### Above, you should see a Bearer token. Notice that this token will expire approximately 48 hours after being acquired. \n",
    "***\n",
    "# 2. Query Available Products [[Product API](https://lpdaacsvc.cr.usgs.gov/appeears/api/?language=Python%203#product)]\n",
    "## 2a. Search and Explore Available Products [[List Products](https://lpdaacsvc.cr.usgs.gov/appeears/api/?language=Python%203#list-products)]\n",
    "#### The product API provides details about all of the products and layers available in AppEEARS. Below, call the product API to list all of the products available in AppEEARS."
   ]
  },
  {
   "cell_type": "code",
   "execution_count": null,
   "metadata": {},
   "outputs": [],
   "source": [
    "product_response = r.get('{}product'.format(api)).json()                         # request all products in the product service\n",
    "print('AppEEARS currently supports {} products.'.format(len(product_response)))  # Print the number of products available in AppEEARS"
   ]
  },
  {
   "cell_type": "markdown",
   "metadata": {},
   "source": [
    "#### Next, create a dictionary indexed by product name, making it easier to query a specific product."
   ]
  },
  {
   "cell_type": "code",
   "execution_count": null,
   "metadata": {},
   "outputs": [],
   "source": [
    "products = {p['ProductAndVersion']: p for p in product_response} # Create a dictionary indexed by the product name and version\n",
    "products['MCD15A3H.006']                                         # Print information for MCD15A3H.006 LAI/FPAR Product"
   ]
  },
  {
   "cell_type": "markdown",
   "metadata": {},
   "source": [
    "#### The product service provides many useful details, including if a product is currently available in AppEEARS, a description, and information on the spatial and temporal resolution. "
   ]
  },
  {
   "cell_type": "markdown",
   "metadata": {},
   "source": [
    "#### Below, make a list of all product+version names, and search for products containing *LAI* in their description. "
   ]
  },
  {
   "cell_type": "code",
   "execution_count": null,
   "metadata": {},
   "outputs": [],
   "source": [
    "prodNames = {p['ProductAndVersion'] for p in product_response} # Make list of all products (including version)\n",
    "\n",
    "# Make a for loop to search list of products 'Description' for the acronym 'LAI'\n",
    "for p in prodNames:                                            \n",
    "    if 'Leaf Area Index' in products[p]['Description']:\n",
    "        pprint.pprint(products[p])                             # Print the information for each product containing LAI in its description"
   ]
  },
  {
   "cell_type": "markdown",
   "metadata": {},
   "source": [
    "#### Using the information above, start a list of desired products by using the highest temporal resolution LAI product available, `MCD15A3H.006`.  "
   ]
  },
  {
   "cell_type": "code",
   "execution_count": null,
   "metadata": {
    "collapsed": true
   },
   "outputs": [],
   "source": [
    "prods = ['MCD15A3H.006']     # Start a list for products to be requested, beginning with MCD15A3H.006\n",
    "prods.append('MOD11A2.006')  # Append the MOD11A2.006 8 day LST product to the list of products desired"
   ]
  },
  {
   "cell_type": "markdown",
   "metadata": {},
   "source": [
    "***\n",
    "# 2b. Search and Explore Available Layers [[List Layers](https://lpdaacsvc.cr.usgs.gov/appeears/api/?language=Python%203#list-layers)]\n",
    "#### The product API allows you to call all of the layers available for a given product. Each product is referenced by its `ProductAndVersion` property. For a list of the layer names only, print the keys from the dictionary above. "
   ]
  },
  {
   "cell_type": "code",
   "execution_count": null,
   "metadata": {},
   "outputs": [],
   "source": [
    "lst_response = r.get('{}product/{}'.format(api, prods[1])).json()  # request all layers for the second product (index 1) in the product list: MOD11A2.006\n",
    "list(lst_response.keys())"
   ]
  },
  {
   "cell_type": "markdown",
   "metadata": {},
   "source": [
    "#### Use the dictionary key `'LST_Day_1km'` to see the information for that layer in the response."
   ]
  },
  {
   "cell_type": "code",
   "execution_count": null,
   "metadata": {},
   "outputs": [],
   "source": [
    "lst_response['LST_Day_1km']                                                       # Print layer response"
   ]
  },
  {
   "cell_type": "markdown",
   "metadata": {},
   "source": [
    "#### AppEEARS also allows subsetting data spectrally (by band). Create a tupled list with the product name and the specific layers desired. "
   ]
  },
  {
   "cell_type": "code",
   "execution_count": null,
   "metadata": {
    "collapsed": true
   },
   "outputs": [],
   "source": [
    "layers = [(prods[1],'LST_Day_1km'),(prods[1],'LST_Night_1km')]  # Create tupled list linking desired product with desired layers"
   ]
  },
  {
   "cell_type": "markdown",
   "metadata": {},
   "source": [
    "#### Next, request the layers for the `MCD15A3H.006` product."
   ]
  },
  {
   "cell_type": "code",
   "execution_count": null,
   "metadata": {},
   "outputs": [],
   "source": [
    "lai_response = r.get('{}product/{}'.format(api, prods[0])).json()  # request all layers for the first product (index 0) in the product list: MCD15A3H.006\n",
    "list(lai_response.keys())                                          # Print the LAI layer names "
   ]
  },
  {
   "cell_type": "code",
   "execution_count": null,
   "metadata": {},
   "outputs": [],
   "source": [
    "lai_response['Lai_500m']['Description']  # Make sure the correct layer is requested"
   ]
  },
  {
   "cell_type": "markdown",
   "metadata": {},
   "source": [
    "#### Above, `Lai_500m` is the desired layer within the `MCD15A3h.006` product. \n",
    "#### Next, append `Lai_500m` to the tupled list of desired product/layers. "
   ]
  },
  {
   "cell_type": "code",
   "execution_count": null,
   "metadata": {
    "collapsed": true
   },
   "outputs": [],
   "source": [
    "layers.append((prods[0],'Lai_500m'))"
   ]
  },
  {
   "cell_type": "markdown",
   "metadata": {},
   "source": [
    "#### Below, take the tupled list (layers) and create a dictionary to store each layer+product combination. This will make it easier to insert into the json file used to submit a request in Section 3. "
   ]
  },
  {
   "cell_type": "code",
   "execution_count": null,
   "metadata": {},
   "outputs": [],
   "source": [
    "prodLayer = []\n",
    "for l in layers:\n",
    "    prodLayer.append({\n",
    "            \"layer\": l[1],\n",
    "            \"product\": l[0]\n",
    "          })\n",
    "prodLayer"
   ]
  },
  {
   "cell_type": "markdown",
   "metadata": {},
   "source": [
    "***\n",
    "# 3. Submit a Point Request [[List Layers](https://lpdaacsvc.cr.usgs.gov/appeears/api/?language=Python%203#list-layers)]\n",
    "#### The **Submit task** API call provides a way to submit a new request to be processed. It can accept data via JSON, query string, or a combination of both. In the example below, compile a json and submit a request. Tasks in AppEEARS correspond to each request associated with your user account. Therefore, each of the calls to this service requires an authentication token (see Section 1C.), which is stored in a header below. "
   ]
  },
  {
   "cell_type": "code",
   "execution_count": null,
   "metadata": {
    "collapsed": true
   },
   "outputs": [],
   "source": [
    "token = token_response['token']                      # Save login token to a variable\n",
    "head = {'Authorization': 'Bearer {}'.format(token)}  # Create a header to store token information, needed to submit a request below"
   ]
  },
  {
   "cell_type": "markdown",
   "metadata": {},
   "source": [
    "---\n",
    "## 3a. Compile a JSON [[Task Object](https://lpdaacsvc.cr.usgs.gov/appeears/api/?language=Python%203#task-object)]\n",
    "#### In this section, begin by setting up the information needed to compile an acceptable json for submitting an AppEEARS point request. For detailed information on required json parameters, see the [API Documentation](https://lpdaacsvc.cr.usgs.gov/appeears/api/?language=Python%203#tasks). "
   ]
  },
  {
   "cell_type": "code",
   "execution_count": null,
   "metadata": {},
   "outputs": [],
   "source": [
    "task_name = input('Enter a Task Name: ') # user-defined name of the task 'NPS Vegetation' "
   ]
  },
  {
   "cell_type": "code",
   "execution_count": null,
   "metadata": {
    "collapsed": true
   },
   "outputs": [],
   "source": [
    "task_type = ['point','area']  # Type of task, area or  point\n",
    "startDate = '01-01-2017'      # Start of the date range for  which to extract data: MM-DD-YYYY\n",
    "endDate = '12-31-2017'        # End of the date range for  which to extract data: MM-DD-YYYY\n",
    "recurring = False             # Specify True for a recurring date range\n",
    "# yearRange = [2000, 2016] if recurring = True, set yearRange and change start and end date to MM-DD"
   ]
  },
  {
   "cell_type": "markdown",
   "metadata": {},
   "source": [
    "#### For point requests, the coordinates property must also be inside the task object. Below, define a GeoJSON object containing the latitude and longitude (geographic projection) points desired. Optionally, set id and category properties to further identify your selected coordinates.\n"
   ]
  },
  {
   "cell_type": "code",
   "execution_count": null,
   "metadata": {
    "collapsed": true
   },
   "outputs": [],
   "source": [
    "coordinates = [{\n",
    "        \"id\": \"0\",\n",
    "        \"longitude\": \"-112.127134\",\n",
    "        \"latitude\": \"36.206228\",\n",
    "        \"category\": \"Grand Canyon\"\n",
    "        }, {\n",
    "        \"id\": \"1\", \n",
    "        \"longitude\": \"-112.973760\",\n",
    "        \"latitude\": \"37.289327\",\n",
    "        \"category\": \"Zion\"\n",
    "        }]\n"
   ]
  },
  {
   "cell_type": "markdown",
   "metadata": {},
   "source": [
    "#### Finally, compile the JSON to be submitted as a point request."
   ]
  },
  {
   "cell_type": "code",
   "execution_count": null,
   "metadata": {},
   "outputs": [],
   "source": [
    "task = {\n",
    "    'task_type': task_type[0],\n",
    "    'task_name': task_name,\n",
    "    'params': {\n",
    "         'dates': [\n",
    "         {\n",
    "             'startDate': startDate,\n",
    "             'endDate': endDate\n",
    "         }],\n",
    "         'layers': prodLayer,\n",
    "         'coordinates': coordinates\n",
    "    }\n",
    "}\n",
    "pprint.pprint(task)"
   ]
  },
  {
   "cell_type": "markdown",
   "metadata": {},
   "source": [
    "***\n",
    "## 3b. Submit a Task Request [[Submit Task](https://lpdaacsvc.cr.usgs.gov/appeears/api/?language=Python%203#submit-task)]\n",
    "#### Below, post a call to the API task service, using the `task` json created above."
   ]
  },
  {
   "cell_type": "code",
   "execution_count": null,
   "metadata": {},
   "outputs": [],
   "source": [
    "task_response = r.post('{}task'.format(api), json=task, headers=head).json()  # Post the json to the API task service, and return the response as a json\n",
    "task_response                                                                 # Print task response"
   ]
  },
  {
   "cell_type": "markdown",
   "metadata": {},
   "source": [
    "***\n",
    "## 3c. Retrieve Task Status [[Retrieve Task](https://lpdaacsvc.cr.usgs.gov/appeears/api/?language=Python%203#retrieve-task)]\n",
    "#### This API call will list all of the requests associated with your user account, automatically sorted by date descending with the most recent requests listed first. "
   ]
  },
  {
   "cell_type": "markdown",
   "metadata": {},
   "source": [
    "#### The AppEEARS API contains some helpful formatting resources. Below, limit the API response to 4 and set `pretty` to True to format the response as an organized json, making it easier to read. Additional information on AppEEARS API [Pagination](https://lpdaacsvc.cr.usgs.gov/appeears/api/?language=Python%203#pagination) and [formatting](https://lpdaacsvc.cr.usgs.gov/appeears/api/?language=Python%203#formatting) can be found in the API documentation. "
   ]
  },
  {
   "cell_type": "code",
   "execution_count": null,
   "metadata": {
    "collapsed": true
   },
   "outputs": [],
   "source": [
    "params = {'limit': 4, 'pretty': True} # Limit API response to 4 most recent entries, and return as pretty json"
   ]
  },
  {
   "cell_type": "code",
   "execution_count": null,
   "metadata": {},
   "outputs": [],
   "source": [
    "tasks_response = r.get('{}task'.format(api),params = params, headers=head).json() # Query the task service setting the params and header containing user token\n",
    "tasks_response                                                                    # Print tasks response"
   ]
  },
  {
   "cell_type": "markdown",
   "metadata": {},
   "source": [
    "#### Next, take the task id returned from the `task_response` that was generated when submitting your request, and use the AppEEARS API status service to check the status of your request."
   ]
  },
  {
   "cell_type": "code",
   "execution_count": null,
   "metadata": {},
   "outputs": [],
   "source": [
    "task_id = task_response['task_id']                                               # Set task id from request submission\n",
    "status_response = r.get('{}status/{}'.format(api, task_id), headers=head).json() # Call status service with specific task ID and user credentials, return json\n",
    "status_response                                                                  # Print response"
   ]
  },
  {
   "cell_type": "markdown",
   "metadata": {},
   "source": [
    "#### Above, if your request is still processing, you can find information on the status of how close it is to completing. \n",
    "#### Below, call the task service for your request every 20 seconds to check the status of your request."
   ]
  },
  {
   "cell_type": "code",
   "execution_count": null,
   "metadata": {},
   "outputs": [],
   "source": [
    "# Ping API until request is complete, then continue to Section 4\n",
    "starttime = time.time()\n",
    "while r.get('{}task/{}'.format(api, task_id), headers=head).json()['status'] != 'done':\n",
    "    print(r.get('{}task/{}'.format(api, task_id), headers=head).json()['status'])\n",
    "    time.sleep(20.0 - ((time.time() - starttime) % 20.0))\n",
    "print(r.get('{}task/{}'.format(api, task_id), headers=head).json()['status'])"
   ]
  },
  {
   "cell_type": "markdown",
   "metadata": {},
   "source": [
    "***\n",
    "# 4. Download a Request [[Bundle API](https://lpdaacsvc.cr.usgs.gov/appeears/api/?language=Python%203#bundle)]\n",
    "#### Before downloading the request output, set up an output directory to store the output files, and examine the files contained in the request output. "
   ]
  },
  {
   "cell_type": "code",
   "execution_count": null,
   "metadata": {
    "collapsed": true
   },
   "outputs": [],
   "source": [
    "destDir = os.path.join(inDir, task_name)                # Set up output directory using input directory and task name\n",
    "if not os.path.exists(destDir):os.makedirs(destDir)     # Create the output directory"
   ]
  },
  {
   "cell_type": "markdown",
   "metadata": {},
   "source": [
    "---\n",
    "## 4a. Explore Files in Request Output [[List Files](https://lpdaacsvc.cr.usgs.gov/appeears/api/?language=Python%203#list-files)]\n",
    "#### The bundle API provides information about completed tasks. For any completed task, a bundle can be queried to return the files contained as a part of the task request. Below, call the bundle API and return all of the output files."
   ]
  },
  {
   "cell_type": "code",
   "execution_count": null,
   "metadata": {},
   "outputs": [],
   "source": [
    "bundle = r.get('{}bundle/{}'.format(api,task_id)).json()  # Call API and return bundle contents for the task_id as json\n",
    "bundle                                                    # Print bundle contents"
   ]
  },
  {
   "cell_type": "markdown",
   "metadata": {},
   "source": [
    "***\n",
    "## 4b. Download Files in a Request (Automation) [[Download File](https://lpdaacsvc.cr.usgs.gov/appeears/api/?language=Python%203#download-file)]\n",
    "#### Now, use the contents of the bundle to select the file name and id and store as a dictionary. "
   ]
  },
  {
   "cell_type": "code",
   "execution_count": null,
   "metadata": {},
   "outputs": [],
   "source": [
    "files = {}                                                       # Create empty dictionary\n",
    "for f in bundle['files']: files[f['file_id']] = f['file_name']   # Fill dictionary with file_id as keys and file_name as values\n",
    "files    "
   ]
  },
  {
   "cell_type": "markdown",
   "metadata": {},
   "source": [
    "#### Use the `files` dictionary and a for loop to automate downloading all of the output files into the output directory. "
   ]
  },
  {
   "cell_type": "code",
   "execution_count": null,
   "metadata": {},
   "outputs": [],
   "source": [
    "for f in files:\n",
    "    dl = r.get('{}bundle/{}/{}'.format(api, task_id, f),stream=True)                                 # Get a stream to the bundle file\n",
    "    filename = os.path.basename(cgi.parse_header(dl.headers['Content-Disposition'])[1]['filename'])  # Parse the filename from the Content-Disposition header \n",
    "    filepath = os.path.join(destDir, filename)                                                       # Create output file path\n",
    "    with open(filepath, 'wb') as f:                                                                  # Write file to dest dir\n",
    "        for data in dl.iter_content(chunk_size=8192): f.write(data) \n",
    "print('Downloaded files can be found at: {}'.format(destDir))"
   ]
  },
  {
   "cell_type": "markdown",
   "metadata": {},
   "source": [
    "***\n",
    "# 5. Explore AppEEARS Quality API [[Quality API](https://lpdaacsvc.cr.usgs.gov/appeears/api/?language=Python%203#quality)]\n",
    "#### The quality API provides quality details about all of the data products available in AppEEARS. Below are examples of how to query the quality API for listing quality products, layers, and values. The final example (Section 5c.) demonstrates how AppEEARS quality services can be leveraged to decode pertinent quality values for your data.\n",
    "#### First, reset pagination to include `offset` which allows you to set the number of results to skip before starting to return information. Next, make a call to list all of the data product layers and where the associated quality product and layer information is located."
   ]
  },
  {
   "cell_type": "code",
   "execution_count": null,
   "metadata": {},
   "outputs": [],
   "source": [
    "params = {'limit': 6, 'pretty': True, 'offset': 20}                     # Limit response to 6 most recent entries, start w/ 20th entry, and return pretty json\n",
    "quality_response = r.get('{}quality'.format(api), params=params).json() # Call quality API using pagination and return json\n",
    "quality_response"
   ]
  },
  {
   "cell_type": "markdown",
   "metadata": {},
   "source": [
    "---\n",
    "## 5a. List Quality Layers [[List Quality Layers](https://lpdaacsvc.cr.usgs.gov/appeears/api/?language=Python%203#list-quality-layers)]\n",
    "#### This API call will list all of the quality layer information for a product."
   ]
  },
  {
   "cell_type": "code",
   "execution_count": 1,
   "metadata": {},
   "outputs": [
    {
     "ename": "NameError",
     "evalue": "name 'r' is not defined",
     "output_type": "error",
     "traceback": [
      "\u001b[1;31m---------------------------------------------------------------------------\u001b[0m",
      "\u001b[1;31mNameError\u001b[0m                                 Traceback (most recent call last)",
      "\u001b[1;32m<ipython-input-1-3539be90f9fc>\u001b[0m in \u001b[0;36m<module>\u001b[1;34m()\u001b[0m\n\u001b[0;32m      1\u001b[0m \u001b[0mproduct\u001b[0m \u001b[1;33m=\u001b[0m \u001b[1;34m'MCD15A3H.006'\u001b[0m                                        \u001b[1;31m# Product used in the example\u001b[0m\u001b[1;33m\u001b[0m\u001b[0m\n\u001b[1;32m----> 2\u001b[1;33m \u001b[0mql_response\u001b[0m \u001b[1;33m=\u001b[0m \u001b[0mr\u001b[0m\u001b[1;33m.\u001b[0m\u001b[0mget\u001b[0m\u001b[1;33m(\u001b[0m\u001b[1;34m'{}quality/{}'\u001b[0m\u001b[1;33m.\u001b[0m\u001b[0mformat\u001b[0m\u001b[1;33m(\u001b[0m\u001b[0mapi\u001b[0m\u001b[1;33m,\u001b[0m\u001b[0mproduct\u001b[0m\u001b[1;33m)\u001b[0m\u001b[1;33m)\u001b[0m\u001b[1;33m.\u001b[0m\u001b[0mjson\u001b[0m\u001b[1;33m(\u001b[0m\u001b[1;33m)\u001b[0m  \u001b[1;31m# Call API to retrieve quality layers for selected product\u001b[0m\u001b[1;33m\u001b[0m\u001b[0m\n\u001b[0m\u001b[0;32m      3\u001b[0m \u001b[0mql_response\u001b[0m                                                     \u001b[1;31m# Print response\u001b[0m\u001b[1;33m\u001b[0m\u001b[0m\n",
      "\u001b[1;31mNameError\u001b[0m: name 'r' is not defined"
     ]
    }
   ],
   "source": [
    "product = 'MCD15A3H.006'                                        # Product used in the example\n",
    "ql_response = r.get('{}quality/{}'.format(api,product)).json()  # Call API to retrieve quality layers for selected product\n",
    "ql_response                                                     # Print response"
   ]
  },
  {
   "cell_type": "markdown",
   "metadata": {},
   "source": [
    "---\n",
    "## 5b. Show Quality Values [[List Quality Values](https://lpdaacsvc.cr.usgs.gov/appeears/api/?language=Python%203#list-quality-values)]\n",
    "#### This API call will list all of the values for a given quality layer."
   ]
  },
  {
   "cell_type": "code",
   "execution_count": null,
   "metadata": {},
   "outputs": [],
   "source": [
    "qlayer = ql_response[1]['QualityLayers'][0]                                # Set quality layer from ql_response for 'Lai_500m' above\n",
    "qv_response = r.get('{}quality/{}/{}'.format(api, product, qlayer)).json()  # Call API for list of list of bit-word quality values\n",
    "qv_response                                                                # Print response"
   ]
  },
  {
   "cell_type": "markdown",
   "metadata": {},
   "source": [
    "---\n",
    "## 5c. Decode Quality Values [[Decode Quality Values](https://lpdaacsvc.cr.usgs.gov/appeears/api/?language=Python%203#decode-quality-values)]\n",
    "#### This API call will decode the bits for a given quality value."
   ]
  },
  {
   "cell_type": "code",
   "execution_count": null,
   "metadata": {},
   "outputs": [],
   "source": [
    "val = 1                                                                            # Set a specific value\n",
    "q_response = r.get('{}quality/{}/{}/{}'.format(api, product, qlayer, val)).json()  # Call quality API for specific value\n",
    "q_response                                                                         # Print Response"
   ]
  },
  {
   "cell_type": "markdown",
   "metadata": {},
   "source": [
    "***\n",
    "# 6. BONUS: Import Request Output and Visualize\n",
    "#### Here, import the CSV file containing the results from your request, and create some basic visualizations using `matplotlib`."
   ]
  },
  {
   "cell_type": "code",
   "execution_count": null,
   "metadata": {},
   "outputs": [],
   "source": [
    "# Import Packages\n",
    "import matplotlib.pyplot as plt\n",
    "import pandas as pd\n",
    "import numpy as np\n",
    "list(files.values())  # List files downloaded"
   ]
  },
  {
   "cell_type": "markdown",
   "metadata": {},
   "source": [
    "---\n",
    "## 6a. Import CSV\n",
    "#### Use the `Pandas` package to import the CSV of results from the AppEEARS request. \n"
   ]
  },
  {
   "cell_type": "code",
   "execution_count": null,
   "metadata": {},
   "outputs": [],
   "source": [
    "df = pd.read_csv(os.path.join(destDir,'NPS-Vegetation-MOD11A2-006-results.csv')) # Import CSV to a Pandas dataframe\n",
    "df.columns                                                                       # Print dataframe column names"
   ]
  },
  {
   "cell_type": "markdown",
   "metadata": {},
   "source": [
    "#### Select the MOD11A2.006 LST Day column for the data from Grand Canyon National Park."
   ]
  },
  {
   "cell_type": "code",
   "execution_count": null,
   "metadata": {},
   "outputs": [],
   "source": [
    "lstDay_GC = df['MOD11A2_006_LST_Day_1km'][df.Category == 'Grand Canyon']  # Filter dataframe for the pixel from GC and only keep LST Day 1 km column\n",
    "dates = df['Date']                                                        # Create list of dates\n",
    "lst_response.keys()                                                      # Print the response from the product service call from earlier in the tutorial"
   ]
  },
  {
   "cell_type": "code",
   "execution_count": null,
   "metadata": {},
   "outputs": [],
   "source": [
    "lst_response['LST_Day_1km']  # Print product information service for the desired layer"
   ]
  },
  {
   "cell_type": "markdown",
   "metadata": {},
   "source": [
    "#### We will need to use the product service information to find the fill value and units for visualization purposes. "
   ]
  },
  {
   "cell_type": "code",
   "execution_count": null,
   "metadata": {
    "collapsed": true
   },
   "outputs": [],
   "source": [
    "lstFill = lst_response['LST_Day_1km']['FillValue']  # Set fill value\n",
    "units = lst_response['LST_Day_1km']['Units']        # Set units"
   ]
  },
  {
   "cell_type": "markdown",
   "metadata": {},
   "source": [
    "---\n",
    "## 6b. Plot Results (Line/Scatter Plots)\n",
    "#### Next, plot a time series of daytime LST for the selected point in Grand Canyon National Park for 2017. "
   ]
  },
  {
   "cell_type": "code",
   "execution_count": null,
   "metadata": {
    "collapsed": true
   },
   "outputs": [],
   "source": [
    "# Set matplotlib plots inline\n",
    "%matplotlib inline "
   ]
  },
  {
   "cell_type": "markdown",
   "metadata": {},
   "source": [
    "#### Below, filter the LST data to exclude fill values, and plot as a time series with some additional formatting. "
   ]
  },
  {
   "cell_type": "code",
   "execution_count": null,
   "metadata": {},
   "outputs": [],
   "source": [
    "fig = plt.figure(1, figsize=(25, 7.5))                                             # Set the figure size\n",
    "plt.style.use(\"dark_background\")                                                   # Set default background to black instead of white\n",
    "ax = fig.add_subplot(111)                                                          # Create a subplot\n",
    "ax.plot(lstDay_GC[lstDay_GC!=lstFill], 'k', lw=2.5, color='#1f77b4')               # Filter out fill values and plot as a blue line\n",
    "ax.plot(lstDay_GC[lstDay_GC!=lstFill], 'bo', ms=10, color='#1f77b4', alpha = 0.5)  # Filter out fill values and plot as a blue circle\n",
    "ax.set_xticks((np.arange(0,len(lstDay_GC))))                                       # Set the x ticks\n",
    "ax.set_xticklabels(dates, rotation=45,fontsize=10)                                 # Set the x tick labels\n",
    "ax.set_yticks((np.arange(250,325, 10)))                                            # Arrange the y ticks\n",
    "ax.set_yticklabels(np.arange(250,325, 10),fontsize=12,fontweight='bold')           # Set the Y tick labels\n",
    "ax.set_xlabel('Date',fontsize=16,fontweight='bold')                                # Set x-axis label\n",
    "ax.set_ylabel(\"{}({})\".format('LST_Day_1km', units),fontsize=16,fontweight='bold') # Set y-axis label\n",
    "ax.set_title('Time Series',fontsize=20,fontweight='bold');                         # Set title"
   ]
  },
  {
   "cell_type": "markdown",
   "metadata": {},
   "source": [
    "#### Next, add the LST Night values for Grand Canyon NP, and create a time series plot with both `LST_Day_1km` and `LST_Night_1km`."
   ]
  },
  {
   "cell_type": "code",
   "execution_count": null,
   "metadata": {},
   "outputs": [],
   "source": [
    "lstNight_GC = df['MOD11A2_006_LST_Night_1km'][df.Category == 'Grand Canyon']                 # Filter df for the pixel from GC, only keep LST Night column\n",
    "fig = plt.figure(1, figsize=(25, 7.5))                                                       # Set the figure size\n",
    "plt.style.use(\"dark_background\")                                                             # Set default background to black instead of white\n",
    "ax = fig.add_subplot(111)                                                                    # Create a subplot\n",
    "ax.plot(lstDay_GC[lstDay_GC!=lstFill], 'k', lw=2.5, color='#1f77b4')                         # Filter out fill values and plot as a blue line\n",
    "ax.plot(lstNight_GC[lstNight_GC!=lstFill], 'k', lw=2.5, color='#e60000')                     # Filter out fill values and plot as a red line\n",
    "ax.legend(('LST_Day_1km', 'LST_Night_1km'),loc='upper left')                                 # Add a legend\n",
    "ax.plot(lstDay_GC[lstDay_GC!=lstFill], 'bo', ms=10, color='#1f77b4', alpha = 0.5)            # Filter out fill values and plot as a blue circle\n",
    "ax.plot(lstNight_GC[lstNight_GC!=lstFill], 'bo', ms=10, color='#e60000', alpha = 0.5)        # Filter out fill values and plot as a red circle\n",
    "ax.set_xticks((np.arange(0,len(lstDay_GC))))                                                 # Set the x ticks\n",
    "ax.set_xticklabels(dates, rotation=45,fontsize=10)                                           # Set the x tick labels\n",
    "ax.set_yticks((np.arange(250,325, 10)))                                                      # Arrange the y ticks\n",
    "ax.set_yticklabels(np.arange(250,325, 10),fontsize=12,fontweight='bold')                     # Set the Y tick labels\n",
    "ax.set_xlabel('Date',fontsize=16,fontweight='bold')                                          # Set x-axis label\n",
    "ax.set_ylabel(\"{}({})\".format('LST_Day_1km', units),fontsize=16,fontweight='bold')           # Set y-axis label\n",
    "ax.set_title('Daytime and Nighttime LST at Grand Canyon NP',fontsize=20,fontweight='bold');  # Set title"
   ]
  },
  {
   "cell_type": "markdown",
   "metadata": {},
   "source": [
    "#### Finally, bring in the daytime LST data from Zion National park, and compare with daytime LST at Grand Canyon National Park, shown below in a scatterplot using `matplotlib`."
   ]
  },
  {
   "cell_type": "code",
   "execution_count": null,
   "metadata": {},
   "outputs": [],
   "source": [
    "lstDay_Z = df['MOD11A2_006_LST_Day_1km'][df.Category == 'Zion']                                         # Filter df for pixel from Zion, only keep LST Day\n",
    "lstDay_Z[lstDay_Z==lstFill] = np.nan                                                                    # Set fill values = nan for plotting purposes\n",
    "lstDay_GC[lstDay_GC==lstFill] = np.nan                                                                  # Set fill values = nan for plotting purposes\n",
    "fig = plt.figure(1, figsize=(10, 7.5))                                                                  # Set the figure size                   \n",
    "plt.style.use(\"dark_background\")                                                                        # Set default background to black\n",
    "fig.suptitle('MODIS LST: Grand Canyon vs. Zion National Park, 2017',fontsize=20,fontweight='bold')      # Add a title for the plot\n",
    "ax = fig.add_subplot(111)                                                                               # Add subplot\n",
    "ax.set_ylabel(\"{} {} ({})\".format('Grand Canyon:', 'LST_Day_1km', units),fontsize=16,fontweight='bold') # Set y-axis label\n",
    "ax.set_xlabel(\"{} {} ({})\".format('Zion:','LST_Day_1km', units),fontsize=16,fontweight='bold')          # Set x-axis label\n",
    "ax.scatter(lstDay_GC, lstDay_Z , alpha=1, c='#1f77b4', edgecolors='none', s=50, label=\"LST_Day\");       # Plot values for both points"
   ]
  },
  {
   "cell_type": "markdown",
   "metadata": {},
   "source": [
    "### This example can provide a template to use for your own research workflows. Leveraging the AppEEARS API for searching, extracting, and formatting analysis ready data, and importing it directly into Python means that you can keep your entire research workflow in a single software program, from start to finish. "
   ]
  },
  {
   "cell_type": "markdown",
   "metadata": {},
   "source": [
    "***\n",
    "<div class=\"alert alert-block alert-info\">\n",
    "<h1> Contact Information </h1> \n",
    "<h3> Material written by Cole Krehbiel$^{1}$ </h3>\n",
    "<b>Contact:</b> LPDAAC@usgs.gov  \n",
    "<b>Voice:</b> +1-605-594-6116  \n",
    "<b>Organization:</b> Land Processes Distributed Active Archive Center (LP DAAC)  \n",
    "<b>Website:</b> https://lpdaac.usgs.gov/  \n",
    "<b>Date last modified:</b> 03-30-2018  \n",
    "\n",
    "$^{1}$Innovate! Inc., contractor to the U.S. Geological Survey, Earth Resources Observation and Science (EROS) Center, Sioux Falls, South Dakota, 57198-001, USA. Work performed under USGS contract G15PD00467 for LP DAAC$^{2}$.\n",
    "\n",
    "$^{2}$LP DAAC Work performed under NASA contract NNG14HH33I. "
   ]
  }
 ],
 "metadata": {
  "kernelspec": {
   "display_name": "Python 3",
   "language": "python",
   "name": "python3"
  },
  "language_info": {
   "codemirror_mode": {
    "name": "ipython",
    "version": 3
   },
   "file_extension": ".py",
   "mimetype": "text/x-python",
   "name": "python",
   "nbconvert_exporter": "python",
   "pygments_lexer": "ipython3",
   "version": "3.6.1"
  }
 },
 "nbformat": 4,
 "nbformat_minor": 2
}
