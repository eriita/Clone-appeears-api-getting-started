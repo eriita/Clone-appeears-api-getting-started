{
 "cells": [
  {
   "cell_type": "markdown",
   "metadata": {},
   "source": [
    "# Getting Started with the AρρEEARS API: Submitting and Downloading a Point Request\n",
    "### This tutorial demonstrates how to use Python to connect to the AρρEEARS API \n",
    "The Application for Extracting and Exploring Analysis Ready Samples ([AρρEEARS](https://lpdaacsvc.cr.usgs.gov/appeears/)) offers a simple and efficient way to access and transform geospatial data from a variety of federal data archives in an easy-to-use web application interface. AρρEEARS enables users to subset [geospatial data](https://lpdaacsvc.cr.usgs.gov/appeears/products) spatially, temporally, and by band/layer for point and area samples. AρρEEARS returns not only the requested data, but also the associated quality values, and offers interactive visualizations with summary statistics in the web interface.  The [AρρEEARS API](https://lpdaacsvc.cr.usgs.gov/appeears/api/) offers users **programmatic access** to all features available in AρρEEARS, with the exception of visualizations. The API features are demonstrated in this notebook.  \n",
    "***\n",
    "### Example: Submit a point request with multiple points in U.S. National Parks for extracting vegetation and land surface temperature data    \n",
    "Connect to the AρρEEARS API, query the list of available products, submit a point sample request, download the request, become familiar with the AρρEEARS Quality API, and import the results into Python for visualization.  AρρEEARS point requests allow users to subset their desired data using latitude/longitude geographic coordinate pairs (points) for a time period of interest, and for specific data layers within data products. AρρEEARS returns the valid data from the parameters defined within the sample request.  \n",
    "\n",
    "#### Data Used in the Example: \n",
    "- Data layers: \n",
    "    - Combined MODIS Leaf Area Index (LAI)  \n",
    "        - [MCD15A3H.006](https://doi.org/10.5067/MODIS/MCD15A3H.006), 500m, 4 day: 'Lai_500m'      \n",
    "    - Terra MODIS Land Surface Temperature    \n",
    "        - [MOD11A2.006](https://doi.org/10.5067/MODIS/MOD11A2.006), 1000m, 8 day: 'LST_Day_1km', 'LST_Night_1km'       \n",
    "***  \n",
    "# Topics Covered:\n",
    "1. **Getting Started**  \n",
    "    1a. Set Up the Working Environment  \n",
    "    1b. Login [Login]    \n",
    "2. **Query Available Products [Products API]**  \n",
    "    2a. Search and Explore Available Products [List Products]  \n",
    "    2b. Search and Explore Available Layers [List Layers]      \n",
    "3. **Submit a Point Request [Tasks]**  \n",
    "    3a. Compile a JSON [Task Object]  \n",
    "    3b. Submit a Task Request [Submit Task]  \n",
    "    3c. Retrieve Task Status [Retrieve Task]  \n",
    "4. **Download a Request [Bundle API]**    \n",
    "    4a. Explore Files in Request Output [List Files]    \n",
    "    4b. Download Files in a Request (Automation) [Download File]   \n",
    "5. **Explore AρρEEARS Quality API [Quality API]**  \n",
    "    5a. List Quality Layers [List Quality Layers]    \n",
    "    5b. Show Quality Values [List Quality Values]   \n",
    "    5c. Decode Quality Values [Decode Quality Values]   \n",
    "6. **BONUS: Import Request Output and Visualize**    \n",
    "    6a. Import CSV     \n",
    "    6b. Plot Results (Line/Scatter Plots)  \n",
    "***\n",
    "### Dependencies:\n",
    "- This tutorial was tested using Python 3.6.1.  \n",
    "- A [NASA Earthdata Login](https://urs.earthdata.nasa.gov/) account is required to complete this tutorial. You can create an account at the link provided.    \n",
    "***\n",
    "### AρρEEARS Information:\n",
    "To access AρρEEARS, visit: https://lpdaacsvc.cr.usgs.gov/appeears/  \n",
    "> For comprehensive documentation of the full functionality of the AρρEEARS API, please see the AρρEEARS [API Documentation](https://lpdaacsvc.cr.usgs.gov/appeears/api/).   \n",
    "  \n",
    "Throughout the tutorial, specific sections of the API documentation can be accessed by clicking on the bracketed [] links in the section headings. \n",
    "\n",
    "***\n",
    "### Source Code used to Generate this Tutorial:\n",
    "- [Jupyter Notebook](https://git.earthdata.nasa.gov/projects/LPDUR/repos/appeears-api-getting-started/browse/AppEEARS_API_Point.ipynb) "
   ]
  },
  {
   "cell_type": "markdown",
   "metadata": {},
   "source": [
    "***"
   ]
  },
  {
   "cell_type": "markdown",
   "metadata": {},
   "source": [
    "# 1. Getting Started "
   ]
  },
  {
   "cell_type": "markdown",
   "metadata": {},
   "source": [
    "***\n",
    "## 1a. Set Up the Working Environment\n",
    "#### Import the required packages and set the input/working directory."
   ]
  },
  {
   "cell_type": "code",
   "execution_count": 1,
   "metadata": {
    "collapsed": true
   },
   "outputs": [],
   "source": [
    "# Import packages\n",
    "import requests as r\n",
    "import getpass, pprint, time, os, cgi"
   ]
  },
  {
   "cell_type": "markdown",
   "metadata": {},
   "source": [
    "#### If you are missing any of the packages above, download them in order to use the full functionality of this tutorial. "
   ]
  },
  {
   "cell_type": "code",
   "execution_count": 2,
   "metadata": {
    "collapsed": true
   },
   "outputs": [],
   "source": [
    "# Set input directory, change working directory\n",
    "inDir = 'C:/appeears-api-getting-started/'           # IMPORTANT: Update to reflect directory on your OS\n",
    "os.chdir(inDir)                                      # Change to working directory\n",
    "api = 'https://lpdaacsvc.cr.usgs.gov/appeears/api/'  # Set the AρρEEARS API to a variable"
   ]
  },
  {
   "cell_type": "markdown",
   "metadata": {},
   "source": [
    "<div class=\"alert alert-block alert-warning\" >\n",
    "<b>If you plan to execute this tutorial on your own OS, `inDir` above needs to be changed.</b>\n",
    "</div> "
   ]
  },
  {
   "cell_type": "markdown",
   "metadata": {},
   "source": [
    "***\n",
    "## 1b. Login [[Login](https://lpdaacsvc.cr.usgs.gov/appeears/api/?language=Python%203#login)]\n",
    "#### To submit a request, you must first login to the AρρEEARS API. Use the `getpass` package to enter your NASA Earthdata login **Username** and **Password**. When prompted after executing the code block below, enter your username followed by your password."
   ]
  },
  {
   "cell_type": "code",
   "execution_count": 3,
   "metadata": {
    "collapsed": true
   },
   "outputs": [],
   "source": [
    "user = getpass.getpass(prompt = 'Enter NASA Earthdata Login Username: ')      # Input NASA Earthdata Login Username\n",
    "password = getpass.getpass(prompt = 'Enter NASA Earthdata Login Password: ')  # Input NASA Earthdata Login Password"
   ]
  },
  {
   "cell_type": "markdown",
   "metadata": {},
   "source": [
    "#### Use the `requests` package to post your username and password. A successful login will provide you with a token to be used later in this tutorial to submit a request. For more information or if you are experiencing difficulties, please see the [API Documentation](https://lpdaacsvc.cr.usgs.gov/appeears/api/?language=Python%203#login). "
   ]
  },
  {
   "cell_type": "code",
   "execution_count": 4,
   "metadata": {},
   "outputs": [
    {
     "data": {
      "text/plain": [
       "{'expiration': '2018-04-20T19:09:30Z',\n",
       " 'token': 'qAuEjsZX7bR0uym1b5h5_PHO81bROfAneJ0nfOwVeS9H61aZBZVmbRbM99vrfV_ND7iByiCJSKyGTCEWD9FZow',\n",
       " 'token_type': 'Bearer'}"
      ]
     },
     "execution_count": 4,
     "metadata": {},
     "output_type": "execute_result"
    }
   ],
   "source": [
    "token_response = r.post('{}login'.format(api), auth=(user, password)).json() # Insert API URL, call login service, provide credentials & return json\n",
    "del user, password                                                           # Remove user and password information\n",
    "token_response                                                               # Print response"
   ]
  },
  {
   "cell_type": "markdown",
   "metadata": {},
   "source": [
    "#### Above, you should see a Bearer token. Notice that this token will expire approximately 48 hours after being acquired. \n",
    "***\n",
    "# 2. Query Available Products [[Product API](https://lpdaacsvc.cr.usgs.gov/appeears/api/?language=Python%203#product)]\n",
    "## 2a. Search and Explore Available Products [[List Products](https://lpdaacsvc.cr.usgs.gov/appeears/api/?language=Python%203#list-products)]\n",
    "#### The product API provides details about all of the products and layers available in AρρEEARS. Below, call the product API to list all of the products available in AρρEEARS."
   ]
  },
  {
   "cell_type": "code",
   "execution_count": 5,
   "metadata": {},
   "outputs": [
    {
     "name": "stdout",
     "output_type": "stream",
     "text": [
      "AρρEEARS currently supports 87 products.\n"
     ]
    }
   ],
   "source": [
    "product_response = r.get('{}product'.format(api)).json()                         # request all products in the product service\n",
    "print('AρρEEARS currently supports {} products.'.format(len(product_response)))  # Print no. products available in AρρEEARS"
   ]
  },
  {
   "cell_type": "markdown",
   "metadata": {},
   "source": [
    "#### Next, create a dictionary indexed by product name, making it easier to query a specific product."
   ]
  },
  {
   "cell_type": "code",
   "execution_count": 6,
   "metadata": {},
   "outputs": [
    {
     "data": {
      "text/plain": [
       "{'Available': True,\n",
       " 'DOI': '10.5067/MODIS/MCD15A3H.006',\n",
       " 'Deleted': False,\n",
       " 'Description': 'Leaf Area Index (LAI) and Fractional Photosynthetically Active Radiation (FPAR)',\n",
       " 'DocLink': 'https://doi.org/10.5067/MODIS/MCD15A3H.006',\n",
       " 'Platform': 'Combined MODIS',\n",
       " 'Product': 'MCD15A3H',\n",
       " 'ProductAndVersion': 'MCD15A3H.006',\n",
       " 'RasterType': 'Tile',\n",
       " 'Resolution': '500m',\n",
       " 'Source': 'LP DAAC',\n",
       " 'TemporalExtentEnd': 'Present',\n",
       " 'TemporalExtentStart': '2002-07-04',\n",
       " 'TemporalGranularity': '4 day',\n",
       " 'Version': '006'}"
      ]
     },
     "execution_count": 6,
     "metadata": {},
     "output_type": "execute_result"
    }
   ],
   "source": [
    "products = {p['ProductAndVersion']: p for p in product_response} # Create a dictionary indexed by product name & version\n",
    "products['MCD15A3H.006']                                         # Print information for MCD15A3H.006 LAI/FPAR Product"
   ]
  },
  {
   "cell_type": "markdown",
   "metadata": {},
   "source": [
    "#### The product service provides many useful details, including if a product is currently available in AρρEEARS, a description, and information on the spatial and temporal resolution. "
   ]
  },
  {
   "cell_type": "markdown",
   "metadata": {},
   "source": [
    "#### Below, make a list of all product+version names, and search for products containing *Leaf Area Index* in their description. "
   ]
  },
  {
   "cell_type": "code",
   "execution_count": 7,
   "metadata": {},
   "outputs": [
    {
     "name": "stdout",
     "output_type": "stream",
     "text": [
      "{'Available': True,\n",
      " 'DOI': '10.5067/MODIS/MCD15A2H.006',\n",
      " 'Deleted': False,\n",
      " 'Description': 'Leaf Area Index (LAI) and Fractional Photosynthetically '\n",
      "                'Active Radiation (FPAR)',\n",
      " 'DocLink': 'https://doi.org/10.5067/MODIS/MCD15A2H.006',\n",
      " 'Platform': 'Combined MODIS',\n",
      " 'Product': 'MCD15A2H',\n",
      " 'ProductAndVersion': 'MCD15A2H.006',\n",
      " 'RasterType': 'Tile',\n",
      " 'Resolution': '500m',\n",
      " 'Source': 'LP DAAC',\n",
      " 'TemporalExtentEnd': 'Present',\n",
      " 'TemporalExtentStart': '2002-07-04',\n",
      " 'TemporalGranularity': '8 day',\n",
      " 'Version': '006'}\n",
      "{'Available': True,\n",
      " 'DOI': '10.5067/MODIS/MOD15A2H.006',\n",
      " 'Deleted': False,\n",
      " 'Description': 'Leaf Area Index (LAI) and Fractional Photosynthetically '\n",
      "                'Active Radiation (FPAR)',\n",
      " 'DocLink': 'https://doi.org/10.5067/MODIS/MOD15A2H.006',\n",
      " 'Platform': 'Terra MODIS',\n",
      " 'Product': 'MOD15A2H',\n",
      " 'ProductAndVersion': 'MOD15A2H.006',\n",
      " 'RasterType': 'Tile',\n",
      " 'Resolution': '500m',\n",
      " 'Source': 'LP DAAC',\n",
      " 'TemporalExtentEnd': 'Present',\n",
      " 'TemporalExtentStart': '2000-02-18',\n",
      " 'TemporalGranularity': '8 day',\n",
      " 'Version': '006'}\n",
      "{'Available': True,\n",
      " 'DOI': '10.5067/MODIS/MYD15A2H.006',\n",
      " 'Deleted': False,\n",
      " 'Description': 'Leaf Area Index (LAI) and Fractional Photosynthetically '\n",
      "                'Active Radiation (FPAR)',\n",
      " 'DocLink': 'https://doi.org/10.5067/MODIS/MYD15A2H.006',\n",
      " 'Platform': 'Aqua MODIS',\n",
      " 'Product': 'MYD15A2H',\n",
      " 'ProductAndVersion': 'MYD15A2H.006',\n",
      " 'RasterType': 'Tile',\n",
      " 'Resolution': '500m',\n",
      " 'Source': 'LP DAAC',\n",
      " 'TemporalExtentEnd': 'Present',\n",
      " 'TemporalExtentStart': '2002-07-04',\n",
      " 'TemporalGranularity': '8 day',\n",
      " 'Version': '006'}\n",
      "{'Available': True,\n",
      " 'DOI': '10.5067/MODIS/MCD15A3H.006',\n",
      " 'Deleted': False,\n",
      " 'Description': 'Leaf Area Index (LAI) and Fractional Photosynthetically '\n",
      "                'Active Radiation (FPAR)',\n",
      " 'DocLink': 'https://doi.org/10.5067/MODIS/MCD15A3H.006',\n",
      " 'Platform': 'Combined MODIS',\n",
      " 'Product': 'MCD15A3H',\n",
      " 'ProductAndVersion': 'MCD15A3H.006',\n",
      " 'RasterType': 'Tile',\n",
      " 'Resolution': '500m',\n",
      " 'Source': 'LP DAAC',\n",
      " 'TemporalExtentEnd': 'Present',\n",
      " 'TemporalExtentStart': '2002-07-04',\n",
      " 'TemporalGranularity': '4 day',\n",
      " 'Version': '006'}\n"
     ]
    }
   ],
   "source": [
    "prodNames = {p['ProductAndVersion'] for p in product_response} # Make list of all products (including version)\n",
    "for p in prodNames:                                            # Make for loop to search list of products 'Description' for a keyword                \n",
    "    if 'Leaf Area Index' in products[p]['Description']:\n",
    "        pprint.pprint(products[p])                             # Print info for each product containing LAI in its description"
   ]
  },
  {
   "cell_type": "markdown",
   "metadata": {},
   "source": [
    "#### Using the info above, start a list of desired products by using the highest temporal resolution LAI product, `MCD15A3H.006`.  "
   ]
  },
  {
   "cell_type": "code",
   "execution_count": 8,
   "metadata": {
    "collapsed": true
   },
   "outputs": [
    {
     "data": {
      "text/plain": [
       "['MCD15A3H.006', 'MOD11A2.006']"
      ]
     },
     "execution_count": 8,
     "metadata": {},
     "output_type": "execute_result"
    }
   ],
   "source": [
    "prods = ['MCD15A3H.006']     # Start a list for products to be requested, beginning with MCD15A3H.006\n",
    "prods.append('MOD11A2.006')  # Append MOD11A2.006 8 day LST product to the list of products desired\n",
    "prods                        # Print list "
   ]
  },
  {
   "cell_type": "markdown",
   "metadata": {},
   "source": [
    "***\n",
    "# 2b. Search and Explore Available Layers [[List Layers](https://lpdaacsvc.cr.usgs.gov/appeears/api/?language=Python%203#list-layers)]\n",
    "#### The product API allows you to call all of the layers available for a given product. Each product is referenced by its `ProductAndVersion` property. For a list of the layer names only, print the keys from the dictionary below. "
   ]
  },
  {
   "cell_type": "code",
   "execution_count": 9,
   "metadata": {},
   "outputs": [
    {
     "data": {
      "text/plain": [
       "['Clear_sky_days',\n",
       " 'Clear_sky_nights',\n",
       " 'Day_view_angl',\n",
       " 'Day_view_time',\n",
       " 'Emis_31',\n",
       " 'Emis_32',\n",
       " 'LST_Day_1km',\n",
       " 'LST_Night_1km',\n",
       " 'Night_view_angl',\n",
       " 'Night_view_time',\n",
       " 'QC_Day',\n",
       " 'QC_Night']"
      ]
     },
     "execution_count": 9,
     "metadata": {},
     "output_type": "execute_result"
    }
   ],
   "source": [
    "lst_response = r.get('{}product/{}'.format(api, prods[1])).json()  # Request layers for the 2nd product (index 1) in the list: MOD11A2.006\n",
    "list(lst_response.keys())"
   ]
  },
  {
   "cell_type": "markdown",
   "metadata": {},
   "source": [
    "#### Use the dictionary key `'LST_Day_1km'` to see the information for that layer in the response."
   ]
  },
  {
   "cell_type": "code",
   "execution_count": 10,
   "metadata": {},
   "outputs": [
    {
     "data": {
      "text/plain": [
       "{'AddOffset': 0.0,\n",
       " 'Available': True,\n",
       " 'DataType': 'float32',\n",
       " 'Description': 'Day Land Surface Temperature',\n",
       " 'Dimensions': ['time', 'YDim', 'XDim'],\n",
       " 'FillValue': 0,\n",
       " 'Layer': 'LST_Day_1km',\n",
       " 'OrigDataType': 'uint16',\n",
       " 'OrigValidMax': 65535,\n",
       " 'OrigValidMin': 7500,\n",
       " 'QualityLayers': \"['QC_Day']\",\n",
       " 'QualityProductAndVersion': 'MOD11A2.006',\n",
       " 'ScaleFactor': 0.02,\n",
       " 'Units': 'Kelvin',\n",
       " 'ValidMax': 1310.699951,\n",
       " 'ValidMin': 150.0,\n",
       " 'XSize': 1200,\n",
       " 'YSize': 1200}"
      ]
     },
     "execution_count": 10,
     "metadata": {},
     "output_type": "execute_result"
    }
   ],
   "source": [
    "lst_response['LST_Day_1km'] # Print layer response"
   ]
  },
  {
   "cell_type": "markdown",
   "metadata": {},
   "source": [
    "#### AρρEEARS also allows subsetting data spectrally (by band). Create a tupled list with product name and specific layers desired. "
   ]
  },
  {
   "cell_type": "code",
   "execution_count": 11,
   "metadata": {
    "collapsed": true
   },
   "outputs": [],
   "source": [
    "layers = [(prods[1],'LST_Day_1km'),(prods[1],'LST_Night_1km')]  # Create tupled list linking desired product with desired layers"
   ]
  },
  {
   "cell_type": "markdown",
   "metadata": {},
   "source": [
    "#### Next, request the layers for the `MCD15A3H.006` product."
   ]
  },
  {
   "cell_type": "code",
   "execution_count": 12,
   "metadata": {},
   "outputs": [
    {
     "data": {
      "text/plain": [
       "['FparExtra_QC',\n",
       " 'FparLai_QC',\n",
       " 'FparStdDev_500m',\n",
       " 'Fpar_500m',\n",
       " 'LaiStdDev_500m',\n",
       " 'Lai_500m']"
      ]
     },
     "execution_count": 12,
     "metadata": {},
     "output_type": "execute_result"
    }
   ],
   "source": [
    "lai_response = r.get('{}product/{}'.format(api, prods[0])).json()  # Request layers for the 1st product (index 0) in the list: MCD15A3H.006\n",
    "list(lai_response.keys())                                          # Print the LAI layer names "
   ]
  },
  {
   "cell_type": "code",
   "execution_count": 13,
   "metadata": {},
   "outputs": [
    {
     "data": {
      "text/plain": [
       "'Leaf area index'"
      ]
     },
     "execution_count": 13,
     "metadata": {},
     "output_type": "execute_result"
    }
   ],
   "source": [
    "lai_response['Lai_500m']['Description']  # Make sure the correct layer is requested"
   ]
  },
  {
   "cell_type": "markdown",
   "metadata": {},
   "source": [
    "#### Above, `Lai_500m` is the desired layer within the `MCD15A3h.006` product. \n",
    "#### Next, append `Lai_500m` to the tupled list of desired product/layers. "
   ]
  },
  {
   "cell_type": "code",
   "execution_count": 14,
   "metadata": {
    "collapsed": true
   },
   "outputs": [],
   "source": [
    "layers.append((prods[0],'Lai_500m')) # Append to tupled list linking desired product with desired layers"
   ]
  },
  {
   "cell_type": "markdown",
   "metadata": {},
   "source": [
    "#### Below, take the tupled list (layers) and create a list of dictionaries to store each layer+product combination. This will make it easier to insert into the json file used to submit a request in Section 3. "
   ]
  },
  {
   "cell_type": "code",
   "execution_count": 15,
   "metadata": {},
   "outputs": [
    {
     "data": {
      "text/plain": [
       "[{'layer': 'LST_Day_1km', 'product': 'MOD11A2.006'},\n",
       " {'layer': 'LST_Night_1km', 'product': 'MOD11A2.006'},\n",
       " {'layer': 'Lai_500m', 'product': 'MCD15A3H.006'}]"
      ]
     },
     "execution_count": 15,
     "metadata": {},
     "output_type": "execute_result"
    }
   ],
   "source": [
    "prodLayer = []\n",
    "for l in layers:\n",
    "    prodLayer.append({\n",
    "            \"layer\": l[1],\n",
    "            \"product\": l[0]\n",
    "          })\n",
    "prodLayer"
   ]
  },
  {
   "cell_type": "markdown",
   "metadata": {},
   "source": [
    "***\n",
    "# 3. Submit a Point Request [[List Layers](https://lpdaacsvc.cr.usgs.gov/appeears/api/?language=Python%203#list-layers)]\n",
    "#### The **Submit task** API call provides a way to submit a new request to be processed. It can accept data via JSON, query string, or a combination of both. In the example below, compile a json and submit a request. Tasks in AρρEEARS correspond to each request associated with your user account. Therefore, each of the calls to this service requires an authentication token (see Section 1c.), which is stored in a header below. "
   ]
  },
  {
   "cell_type": "code",
   "execution_count": 16,
   "metadata": {
    "collapsed": true
   },
   "outputs": [],
   "source": [
    "token = token_response['token']                      # Save login token to a variable\n",
    "head = {'Authorization': 'Bearer {}'.format(token)}  # Create a header to store token information, needed to submit request"
   ]
  },
  {
   "cell_type": "markdown",
   "metadata": {},
   "source": [
    "---\n",
    "## 3a. Compile a JSON [[Task Object](https://lpdaacsvc.cr.usgs.gov/appeears/api/?language=Python%203#task-object)]\n",
    "#### In this section, begin by setting up the information needed to compile an acceptable json for submitting an AρρEEARS point request. For detailed information on required json parameters, see the [API Documentation](https://lpdaacsvc.cr.usgs.gov/appeears/api/?language=Python%203#tasks). "
   ]
  },
  {
   "cell_type": "code",
   "execution_count": 17,
   "metadata": {
    "collapsed": true
   },
   "outputs": [],
   "source": [
    "task_name = input('Enter a Task Name: ') # User-defined name of the task 'NPS Vegetation' used here"
   ]
  },
  {
   "cell_type": "code",
   "execution_count": 18,
   "metadata": {
    "collapsed": true
   },
   "outputs": [],
   "source": [
    "task_type = ['point','area']  # Type of task, area or  point\n",
    "startDate = '01-01-2017'      # Start of the date range for  which to extract data: MM-DD-YYYY\n",
    "endDate = '12-31-2017'        # End of the date range for  which to extract data: MM-DD-YYYY\n",
    "recurring = False             # Specify True for a recurring date range\n",
    "#yearRange = [2000,2016]    # If recurring = True, set yearRange, change start/end date to MM-DD"
   ]
  },
  {
   "cell_type": "markdown",
   "metadata": {},
   "source": [
    "#### For point requests, the coordinates property must also be inside the task object. Below, define a GeoJSON object containing the latitude and longitude (geographic projection) points desired. Optionally, set `id` and `category` properties to further identify your selected coordinates.\n"
   ]
  },
  {
   "cell_type": "code",
   "execution_count": 19,
   "metadata": {
    "collapsed": true
   },
   "outputs": [],
   "source": [
    "coordinates = [{\n",
    "        \"id\": \"0\",\n",
    "        \"longitude\": \"-112.127134\",\n",
    "        \"latitude\": \"36.206228\",\n",
    "        \"category\": \"Grand Canyon\"\n",
    "        }, {\n",
    "        \"id\": \"1\", \n",
    "        \"longitude\": \"-112.973760\",\n",
    "        \"latitude\": \"37.289327\",\n",
    "        \"category\": \"Zion\"\n",
    "        }]"
   ]
  },
  {
   "cell_type": "markdown",
   "metadata": {},
   "source": [
    "#### Finally, compile the JSON to be submitted as a point request, inserting additional parameters needed to complete the request."
   ]
  },
  {
   "cell_type": "code",
   "execution_count": 20,
   "metadata": {},
   "outputs": [
    {
     "name": "stdout",
     "output_type": "stream",
     "text": [
      "{'params': {'coordinates': [{'category': 'Grand Canyon',\n",
      "                             'id': '0',\n",
      "                             'latitude': '36.206228',\n",
      "                             'longitude': '-112.127134'},\n",
      "                            {'category': 'Zion',\n",
      "                             'id': '1',\n",
      "                             'latitude': '37.289327',\n",
      "                             'longitude': '-112.973760'}],\n",
      "            'dates': [{'endDate': '12-31-2017', 'startDate': '01-01-2017'}],\n",
      "            'layers': [{'layer': 'LST_Day_1km', 'product': 'MOD11A2.006'},\n",
      "                       {'layer': 'LST_Night_1km', 'product': 'MOD11A2.006'},\n",
      "                       {'layer': 'Lai_500m', 'product': 'MCD15A3H.006'}]},\n",
      " 'task_name': 'NPS Vegetation',\n",
      " 'task_type': 'point'}\n"
     ]
    }
   ],
   "source": [
    "task = {\n",
    "    'task_type': task_type[0],\n",
    "    'task_name': task_name,\n",
    "    'params': {\n",
    "         'dates': [\n",
    "         {\n",
    "             'startDate': startDate,\n",
    "             'endDate': endDate\n",
    "         }],\n",
    "         'layers': prodLayer,\n",
    "         'coordinates': coordinates\n",
    "    }\n",
    "}\n",
    "pprint.pprint(task)"
   ]
  },
  {
   "cell_type": "markdown",
   "metadata": {},
   "source": [
    "***\n",
    "## 3b. Submit a Task Request [[Submit Task](https://lpdaacsvc.cr.usgs.gov/appeears/api/?language=Python%203#submit-task)]\n",
    "#### Below, post a call to the API **task service**, using the `task` json created above."
   ]
  },
  {
   "cell_type": "code",
   "execution_count": 21,
   "metadata": {},
   "outputs": [
    {
     "data": {
      "text/plain": [
       "{'status': 'pending', 'task_id': '56fe72fd-980a-4bee-b51d-43871824670a'}"
      ]
     },
     "execution_count": 21,
     "metadata": {},
     "output_type": "execute_result"
    }
   ],
   "source": [
    "task_response = r.post('{}task'.format(api), json=task, headers=head).json()  # Post json to API task service, return response as json\n",
    "task_response                                                                 # Print task response"
   ]
  },
  {
   "cell_type": "markdown",
   "metadata": {},
   "source": [
    "***\n",
    "## 3c. Retrieve Task Status [[Retrieve Task](https://lpdaacsvc.cr.usgs.gov/appeears/api/?language=Python%203#retrieve-task)]\n",
    "#### This API call will list all of the requests associated with your user account, automatically sorted by date descending with the most recent requests listed first. "
   ]
  },
  {
   "cell_type": "markdown",
   "metadata": {},
   "source": [
    "#### The AρρEEARS API contains some helpful formatting resources. Below, limit the API response to 2 entries and set `pretty` to True to format the response as an organized json, making it easier to read. Additional information on AρρEEARS API [pagination](https://lpdaacsvc.cr.usgs.gov/appeears/api/?language=Python%203#pagination) and [formatting](https://lpdaacsvc.cr.usgs.gov/appeears/api/?language=Python%203#formatting) can be found in the API documentation. "
   ]
  },
  {
   "cell_type": "code",
   "execution_count": 22,
   "metadata": {
    "collapsed": true
   },
   "outputs": [],
   "source": [
    "params = {'limit': 2, 'pretty': True} # Limit API response to 2 most recent entries, return as pretty json"
   ]
  },
  {
   "cell_type": "code",
   "execution_count": 23,
   "metadata": {},
   "outputs": [
    {
     "data": {
      "text/plain": [
       "[{'api_version': 'v1',\n",
       "  'created': '2018-04-19T14:48:56.468000',\n",
       "  'error': None,\n",
       "  'expires_on': None,\n",
       "  'params': {'dates': [{'endDate': '12-31-2017', 'startDate': '01-01-2017'}],\n",
       "   'layers': [{'layer': 'LST_Day_1km', 'product': 'MOD11A2.006'},\n",
       "    {'layer': 'LST_Night_1km', 'product': 'MOD11A2.006'},\n",
       "    {'layer': 'Lai_500m', 'product': 'MCD15A3H.006'}]},\n",
       "  'retry_at': None,\n",
       "  'status': 'processing',\n",
       "  'svc_version': '2.7',\n",
       "  'task_id': '56fe72fd-980a-4bee-b51d-43871824670a',\n",
       "  'task_name': 'NPS Vegetation',\n",
       "  'task_type': 'point',\n",
       "  'updated': '2018-04-19T14:48:57.011000',\n",
       "  'user_id': 'lpdaac2018@gmail.com',\n",
       "  'web_version': None},\n",
       " {'api_version': 'v1',\n",
       "  'attempts': 1,\n",
       "  'created': '2018-04-19T14:32:10.629000',\n",
       "  'error': None,\n",
       "  'expires_on': None,\n",
       "  'params': {'dates': [{'endDate': '07-31-2017', 'startDate': '07-01-2017'}],\n",
       "   'layers': [{'layer': 'LST_Day_1km', 'product': 'MOD11A2.006'},\n",
       "    {'layer': 'LST_Night_1km', 'product': 'MOD11A2.006'},\n",
       "    {'layer': 'Lai_500m', 'product': 'MCD15A3H.006'},\n",
       "    {'layer': 'Band1', 'product': 'SRTMGL1.003'}]},\n",
       "  'retry_at': None,\n",
       "  'status': 'done',\n",
       "  'svc_version': '2.7',\n",
       "  'task_id': '5ab03e68-9096-4c3d-a4b8-e35542129a1d',\n",
       "  'task_name': 'NPS Vegetation Area',\n",
       "  'task_type': 'area',\n",
       "  'updated': '2018-04-19T14:33:34.410000',\n",
       "  'user_id': 'lpdaac2018@gmail.com',\n",
       "  'web_version': None}]"
      ]
     },
     "execution_count": 23,
     "metadata": {},
     "output_type": "execute_result"
    }
   ],
   "source": [
    "tasks_response = r.get('{}task'.format(api),params = params, headers=head).json() # Query task service setting params & header\n",
    "tasks_response                                                                    # Print tasks response"
   ]
  },
  {
   "cell_type": "markdown",
   "metadata": {},
   "source": [
    "#### Next, take the task id returned from the `task_response` that was generated when submitting your request, and use the AρρEEARS API **status service** to check the status of your request."
   ]
  },
  {
   "cell_type": "code",
   "execution_count": 24,
   "metadata": {},
   "outputs": [
    {
     "data": {
      "text/plain": [
       "{'progress': {'details': [{'desc': 'Initializing',\n",
       "    'pct_complete': 100,\n",
       "    'step': 1},\n",
       "   {'desc': 'Downloading', 'pct_complete': 68, 'step': 2},\n",
       "   {'desc': 'Combining Data', 'pct_complete': 0, 'step': 3},\n",
       "   {'desc': 'Extracting Quality', 'pct_complete': 0, 'step': 4},\n",
       "   {'desc': 'Finalizing', 'pct_complete': 0, 'step': 5}],\n",
       "  'summary': 32},\n",
       " 'status_id': 'fb7fe275-fac4-4ce2-8629-8e08791fdecf',\n",
       " 'status_type': 'task',\n",
       " 'task_id': '56fe72fd-980a-4bee-b51d-43871824670a',\n",
       " 'updated': '2018-04-19T14:49:12.222000',\n",
       " 'user_id': 'lpdaac2018@gmail.com'}"
      ]
     },
     "execution_count": 24,
     "metadata": {},
     "output_type": "execute_result"
    }
   ],
   "source": [
    "task_id = task_response['task_id']                                               # Set task id from request submission\n",
    "status_response = r.get('{}status/{}'.format(api, task_id), headers=head).json() # Call status service w/ specific task ID & username\n",
    "status_response                                                                  # Print response"
   ]
  },
  {
   "cell_type": "markdown",
   "metadata": {},
   "source": [
    "#### Above, if your request is still processing, you can find information on the status of how close it is to completing. \n",
    "#### Below, call the task service for your request every 20 seconds to check the status of your request."
   ]
  },
  {
   "cell_type": "code",
   "execution_count": 25,
   "metadata": {},
   "outputs": [
    {
     "name": "stdout",
     "output_type": "stream",
     "text": [
      "processing\n",
      "done\n"
     ]
    }
   ],
   "source": [
    "# Ping API until request is complete, then continue to Section 4\n",
    "starttime = time.time()\n",
    "while r.get('{}task/{}'.format(api, task_id), headers=head).json()['status'] != 'done':\n",
    "    print(r.get('{}task/{}'.format(api, task_id), headers=head).json()['status'])\n",
    "    time.sleep(20.0 - ((time.time() - starttime) % 20.0))\n",
    "print(r.get('{}task/{}'.format(api, task_id), headers=head).json()['status'])"
   ]
  },
  {
   "cell_type": "markdown",
   "metadata": {},
   "source": [
    "***\n",
    "# 4. Download a Request [[Bundle API](https://lpdaacsvc.cr.usgs.gov/appeears/api/?language=Python%203#bundle)]\n",
    "#### Before downloading the request output, set up an output directory to store the output files, and examine the files contained in the request. "
   ]
  },
  {
   "cell_type": "code",
   "execution_count": 26,
   "metadata": {
    "collapsed": true
   },
   "outputs": [],
   "source": [
    "destDir = os.path.join(inDir, task_name)                # Set up output directory using input directory and task name\n",
    "if not os.path.exists(destDir):os.makedirs(destDir)     # Create the output directory"
   ]
  },
  {
   "cell_type": "markdown",
   "metadata": {},
   "source": [
    "---\n",
    "## 4a. Explore Files in Request Output [[List Files](https://lpdaacsvc.cr.usgs.gov/appeears/api/?language=Python%203#list-files)]\n",
    "#### The bundle API provides information about completed tasks. For any completed task, a bundle can be queried to return the files contained as a part of the task request. Below, call the bundle API and return all of the output files."
   ]
  },
  {
   "cell_type": "code",
   "execution_count": 27,
   "metadata": {},
   "outputs": [
    {
     "data": {
      "text/plain": [
       "{'bundle_type': 'point',\n",
       " 'created': '2018-04-19T14:51:18.487000',\n",
       " 'files': [{'file_id': '778c9e14-6c7c-41ed-ab56-c593a24c5782',\n",
       "   'file_name': 'NPS-Vegetation-MCD15A3H-006-results.csv',\n",
       "   'file_size': 62980,\n",
       "   'file_type': 'csv',\n",
       "   'sha256': 'd4d2173fb30dce7ae4cbde76bae6f82d1f81a566d4d1265a22296977d48b5bfe'},\n",
       "  {'file_id': 'b8d7059d-0627-474f-9b0b-5ae0c11ce392',\n",
       "   'file_name': 'NPS-Vegetation-MOD11A2-006-results.csv',\n",
       "   'file_size': 43481,\n",
       "   'file_type': 'csv',\n",
       "   'sha256': '755be03c60d1071755beebbd86985f876c7549258c92e1e3f7fe6ff021ac9a17'},\n",
       "  {'file_id': '1b2bb7a9-6e6a-46d1-b341-194a9ef73357',\n",
       "   'file_name': 'NPS-Vegetation-granule-list.txt',\n",
       "   'file_size': 32108,\n",
       "   'file_type': 'txt',\n",
       "   'sha256': '29736e91b923cc6089b0d49b8375e26f0fd74c4b9506bc8f24f54499e3dba95d'},\n",
       "  {'file_id': '868ac89b-920c-454d-9996-c543c47182ce',\n",
       "   'file_name': 'NPS-Vegetation-request.json',\n",
       "   'file_size': 820,\n",
       "   'file_type': 'json',\n",
       "   'sha256': '87d15d2a4a63357784eb9da56be0d658bf959286fa84a6fe5936fb436840d1d1'},\n",
       "  {'file_id': '331701da-9fb4-47cd-a4f7-144b50fdf2e0',\n",
       "   'file_name': 'NPS-Vegetation-MCD15A3H-006-metadata.xml',\n",
       "   'file_size': 16404,\n",
       "   'file_type': 'xml',\n",
       "   'sha256': 'd433be577cce71ccae9d3d772fdde33b5b3198d9e2171476083668b16ceb2a3a'},\n",
       "  {'file_id': '63e74622-5aa6-4833-8c87-db37ef44e821',\n",
       "   'file_name': 'NPS-Vegetation-MOD11A2-006-metadata.xml',\n",
       "   'file_size': 16367,\n",
       "   'file_type': 'xml',\n",
       "   'sha256': 'ca91afe1012a004e3677709e6319371843db447d8d1b8363ddd533da2d16ac4d'},\n",
       "  {'file_id': 'a341198e-883b-4660-a0d3-148cc142fdb3',\n",
       "   'file_name': 'README.txt',\n",
       "   'file_size': 11539,\n",
       "   'file_type': 'txt',\n",
       "   'sha256': '9043ff47f5d8d4a42597c528deb9bb36949bc271de45ddeba7a5797bf8ee47d0'}],\n",
       " 'task_id': '56fe72fd-980a-4bee-b51d-43871824670a',\n",
       " 'updated': '2018-04-19T14:49:23.445000'}"
      ]
     },
     "execution_count": 27,
     "metadata": {},
     "output_type": "execute_result"
    }
   ],
   "source": [
    "bundle = r.get('{}bundle/{}'.format(api,task_id)).json()  # Call API and return bundle contents for the task_id as json\n",
    "bundle                                                    # Print bundle contents"
   ]
  },
  {
   "cell_type": "markdown",
   "metadata": {},
   "source": [
    "***\n",
    "## 4b. Download Files in a Request (Automation) [[Download File](https://lpdaacsvc.cr.usgs.gov/appeears/api/?language=Python%203#download-file)]\n",
    "#### Now, use the contents of the bundle to select the file name and id and store as a dictionary. "
   ]
  },
  {
   "cell_type": "code",
   "execution_count": 28,
   "metadata": {},
   "outputs": [
    {
     "data": {
      "text/plain": [
       "{'1b2bb7a9-6e6a-46d1-b341-194a9ef73357': 'NPS-Vegetation-granule-list.txt',\n",
       " '331701da-9fb4-47cd-a4f7-144b50fdf2e0': 'NPS-Vegetation-MCD15A3H-006-metadata.xml',\n",
       " '63e74622-5aa6-4833-8c87-db37ef44e821': 'NPS-Vegetation-MOD11A2-006-metadata.xml',\n",
       " '778c9e14-6c7c-41ed-ab56-c593a24c5782': 'NPS-Vegetation-MCD15A3H-006-results.csv',\n",
       " '868ac89b-920c-454d-9996-c543c47182ce': 'NPS-Vegetation-request.json',\n",
       " 'a341198e-883b-4660-a0d3-148cc142fdb3': 'README.txt',\n",
       " 'b8d7059d-0627-474f-9b0b-5ae0c11ce392': 'NPS-Vegetation-MOD11A2-006-results.csv'}"
      ]
     },
     "execution_count": 28,
     "metadata": {},
     "output_type": "execute_result"
    }
   ],
   "source": [
    "files = {}                                                       # Create empty dictionary\n",
    "for f in bundle['files']: files[f['file_id']] = f['file_name']   # Fill dictionary with file_id as keys and file_name as values\n",
    "files                                                            # Print dictionary"
   ]
  },
  {
   "cell_type": "markdown",
   "metadata": {},
   "source": [
    "#### Use the `files` dictionary and a `for` loop to automate downloading all of the output files into the output directory. "
   ]
  },
  {
   "cell_type": "code",
   "execution_count": 29,
   "metadata": {},
   "outputs": [
    {
     "name": "stdout",
     "output_type": "stream",
     "text": [
      "Downloaded files can be found at: C:/Users/ckrehbiel/Documents/appeears-api-getting-started/NPS Vegetation\n"
     ]
    }
   ],
   "source": [
    "for f in files:\n",
    "    dl = r.get('{}bundle/{}/{}'.format(api, task_id, f),stream=True)                                 # Get a stream to the bundle file\n",
    "    filename = os.path.basename(cgi.parse_header(dl.headers['Content-Disposition'])[1]['filename'])  # Parse name from Content-Disposition header \n",
    "    filepath = os.path.join(destDir, filename)                                                       # Create output file path\n",
    "    with open(filepath, 'wb') as f:                                                                  # Write file to dest dir\n",
    "        for data in dl.iter_content(chunk_size=8192): f.write(data) \n",
    "print('Downloaded files can be found at: {}'.format(destDir))"
   ]
  },
  {
   "cell_type": "markdown",
   "metadata": {},
   "source": [
    "***\n",
    "# 5. Explore AρρEEARS Quality API [[Quality API](https://lpdaacsvc.cr.usgs.gov/appeears/api/?language=Python%203#quality)]\n",
    "#### The quality API provides quality details about all of the data products available in AρρEEARS. Below are examples of how to query the quality API for listing quality products, layers, and values. The final example (Section 5c.) demonstrates how AρρEEARS quality services can be leveraged to decode pertinent quality values for your data.\n",
    "#### First, reset pagination to include `offset` which allows you to set the number of results to skip before starting to return entries. Next, make a call to list all of the data product layers and the associated quality product and layer information."
   ]
  },
  {
   "cell_type": "code",
   "execution_count": 30,
   "metadata": {},
   "outputs": [
    {
     "data": {
      "text/plain": [
       "[{'Layer': 'Fpar_500m',\n",
       "  'ProductAndVersion': 'MCD15A2H.006',\n",
       "  'QualityLayers': ['FparLai_QC'],\n",
       "  'QualityProductAndVersion': 'MCD15A2H.006'},\n",
       " {'Layer': 'Lai_500m',\n",
       "  'ProductAndVersion': 'MCD15A2H.006',\n",
       "  'QualityLayers': ['FparLai_QC'],\n",
       "  'QualityProductAndVersion': 'MCD15A2H.006'},\n",
       " {'Layer': 'Fpar_1km',\n",
       "  'ProductAndVersion': 'MCD15A3.005',\n",
       "  'QualityLayers': ['FparLai_QC'],\n",
       "  'QualityProductAndVersion': 'MCD15A3.005'},\n",
       " {'Layer': 'Lai_1km',\n",
       "  'ProductAndVersion': 'MCD15A3.005',\n",
       "  'QualityLayers': ['FparLai_QC'],\n",
       "  'QualityProductAndVersion': 'MCD15A3.005'},\n",
       " {'Layer': 'Fpar_500m',\n",
       "  'ProductAndVersion': 'MCD15A3H.006',\n",
       "  'QualityLayers': ['FparLai_QC'],\n",
       "  'QualityProductAndVersion': 'MCD15A3H.006'},\n",
       " {'Layer': 'Lai_500m',\n",
       "  'ProductAndVersion': 'MCD15A3H.006',\n",
       "  'QualityLayers': ['FparLai_QC'],\n",
       "  'QualityProductAndVersion': 'MCD15A3H.006'}]"
      ]
     },
     "execution_count": 30,
     "metadata": {},
     "output_type": "execute_result"
    }
   ],
   "source": [
    "params = {'limit': 6, 'pretty': True, 'offset': 20}                     # Limit to 6 entries, start w/ 20th entry, return pretty json\n",
    "quality_response = r.get('{}quality'.format(api), params=params).json() # Call quality API using pagination and return json\n",
    "quality_response                                                        # Print response"
   ]
  },
  {
   "cell_type": "markdown",
   "metadata": {},
   "source": [
    "---\n",
    "## 5a. List Quality Layers [[List Quality Layers](https://lpdaacsvc.cr.usgs.gov/appeears/api/?language=Python%203#list-quality-layers)]\n",
    "#### This API call will list all of the quality layer information for a product."
   ]
  },
  {
   "cell_type": "code",
   "execution_count": 31,
   "metadata": {},
   "outputs": [
    {
     "data": {
      "text/plain": [
       "[{'Layer': 'Fpar_500m',\n",
       "  'ProductAndVersion': 'MCD15A3H.006',\n",
       "  'QualityLayers': ['FparLai_QC'],\n",
       "  'QualityProductAndVersion': 'MCD15A3H.006'},\n",
       " {'Layer': 'Lai_500m',\n",
       "  'ProductAndVersion': 'MCD15A3H.006',\n",
       "  'QualityLayers': ['FparLai_QC'],\n",
       "  'QualityProductAndVersion': 'MCD15A3H.006'}]"
      ]
     },
     "execution_count": 31,
     "metadata": {},
     "output_type": "execute_result"
    }
   ],
   "source": [
    "product = 'MCD15A3H.006'                                        # Product used in the example\n",
    "ql_response = r.get('{}quality/{}'.format(api,product)).json()  # Call API to retrieve quality layers for selected product\n",
    "ql_response                                                     # Print response"
   ]
  },
  {
   "cell_type": "markdown",
   "metadata": {},
   "source": [
    "---\n",
    "## 5b. Show Quality Values [[List Quality Values](https://lpdaacsvc.cr.usgs.gov/appeears/api/?language=Python%203#list-quality-values)]\n",
    "#### This API call will list all of the values for a given quality layer."
   ]
  },
  {
   "cell_type": "code",
   "execution_count": 32,
   "metadata": {},
   "outputs": [
    {
     "data": {
      "text/plain": [
       "[{'Acceptable': True,\n",
       "  'Description': 'Good quality (main algorithm with or without saturation)',\n",
       "  'Name': 'MODLAND',\n",
       "  'ProductAndVersion': 'MCD15A3H.006',\n",
       "  'QualityLayer': 'FparLai_QC',\n",
       "  'Value': 0},\n",
       " {'Acceptable': False,\n",
       "  'Description': 'Other Quality (back-up algorithm or fill values)',\n",
       "  'Name': 'MODLAND',\n",
       "  'ProductAndVersion': 'MCD15A3H.006',\n",
       "  'QualityLayer': 'FparLai_QC',\n",
       "  'Value': 1},\n",
       " {'Acceptable': None,\n",
       "  'Description': 'Terra',\n",
       "  'Name': 'Sensor',\n",
       "  'ProductAndVersion': 'MCD15A3H.006',\n",
       "  'QualityLayer': 'FparLai_QC',\n",
       "  'Value': 0},\n",
       " {'Acceptable': None,\n",
       "  'Description': 'Aqua',\n",
       "  'Name': 'Sensor',\n",
       "  'ProductAndVersion': 'MCD15A3H.006',\n",
       "  'QualityLayer': 'FparLai_QC',\n",
       "  'Value': 1},\n",
       " {'Acceptable': None,\n",
       "  'Description': 'Detectors apparently fine for up to 50% of channels 1, 2',\n",
       "  'Name': 'DeadDetector',\n",
       "  'ProductAndVersion': 'MCD15A3H.006',\n",
       "  'QualityLayer': 'FparLai_QC',\n",
       "  'Value': 0},\n",
       " {'Acceptable': None,\n",
       "  'Description': 'Dead detectors caused >50% adjacent detector retrieval',\n",
       "  'Name': 'DeadDetector',\n",
       "  'ProductAndVersion': 'MCD15A3H.006',\n",
       "  'QualityLayer': 'FparLai_QC',\n",
       "  'Value': 1},\n",
       " {'Acceptable': None,\n",
       "  'Description': 'Significant clouds NOT present (clear)',\n",
       "  'Name': 'CloudState',\n",
       "  'ProductAndVersion': 'MCD15A3H.006',\n",
       "  'QualityLayer': 'FparLai_QC',\n",
       "  'Value': 0},\n",
       " {'Acceptable': None,\n",
       "  'Description': 'Significant clouds WERE present',\n",
       "  'Name': 'CloudState',\n",
       "  'ProductAndVersion': 'MCD15A3H.006',\n",
       "  'QualityLayer': 'FparLai_QC',\n",
       "  'Value': 1},\n",
       " {'Acceptable': None,\n",
       "  'Description': 'Mixed cloud present in pixel',\n",
       "  'Name': 'CloudState',\n",
       "  'ProductAndVersion': 'MCD15A3H.006',\n",
       "  'QualityLayer': 'FparLai_QC',\n",
       "  'Value': 2},\n",
       " {'Acceptable': None,\n",
       "  'Description': 'Cloud state not defined, assumed clear',\n",
       "  'Name': 'CloudState',\n",
       "  'ProductAndVersion': 'MCD15A3H.006',\n",
       "  'QualityLayer': 'FparLai_QC',\n",
       "  'Value': 3},\n",
       " {'Acceptable': None,\n",
       "  'Description': 'Main (RT) method used, best result possible (no saturation)',\n",
       "  'Name': 'SCF_QC',\n",
       "  'ProductAndVersion': 'MCD15A3H.006',\n",
       "  'QualityLayer': 'FparLai_QC',\n",
       "  'Value': 0},\n",
       " {'Acceptable': None,\n",
       "  'Description': 'Main (RT) method used with saturation. Good, very usable',\n",
       "  'Name': 'SCF_QC',\n",
       "  'ProductAndVersion': 'MCD15A3H.006',\n",
       "  'QualityLayer': 'FparLai_QC',\n",
       "  'Value': 1},\n",
       " {'Acceptable': None,\n",
       "  'Description': 'Main (RT) method failed due to bad geometry, empirical algorithm used',\n",
       "  'Name': 'SCF_QC',\n",
       "  'ProductAndVersion': 'MCD15A3H.006',\n",
       "  'QualityLayer': 'FparLai_QC',\n",
       "  'Value': 2},\n",
       " {'Acceptable': None,\n",
       "  'Description': 'Main (RT) method failed due to problems other than geometry, empirical algorithm used',\n",
       "  'Name': 'SCF_QC',\n",
       "  'ProductAndVersion': 'MCD15A3H.006',\n",
       "  'QualityLayer': 'FparLai_QC',\n",
       "  'Value': 3},\n",
       " {'Acceptable': None,\n",
       "  'Description': \"Pixel not produced at all, value couldn't be retrieved (possible reasons: bad L1B data, unusable MOD09GA data)\",\n",
       "  'Name': 'SCF_QC',\n",
       "  'ProductAndVersion': 'MCD15A3H.006',\n",
       "  'QualityLayer': 'FparLai_QC',\n",
       "  'Value': 4}]"
      ]
     },
     "execution_count": 32,
     "metadata": {},
     "output_type": "execute_result"
    }
   ],
   "source": [
    "qlayer = ql_response[1]['QualityLayers'][0]                                # Set quality layer from ql_response for 'Lai_500m'\n",
    "qv_response = r.get('{}quality/{}/{}'.format(api, product, qlayer)).json() # Call API for list of bit-word quality values\n",
    "qv_response                                                                # Print response"
   ]
  },
  {
   "cell_type": "markdown",
   "metadata": {},
   "source": [
    "---\n",
    "## 5c. Decode Quality Values [[Decode Quality Values](https://lpdaacsvc.cr.usgs.gov/appeears/api/?language=Python%203#decode-quality-values)]\n",
    "#### This API call will decode the bits for a given quality value."
   ]
  },
  {
   "cell_type": "code",
   "execution_count": 33,
   "metadata": {},
   "outputs": [
    {
     "data": {
      "text/plain": [
       "{'Binary Representation': '0b00000001',\n",
       " 'CloudState': {'bits': '0b00',\n",
       "  'description': 'Significant clouds NOT present (clear)'},\n",
       " 'DeadDetector': {'bits': '0b0',\n",
       "  'description': 'Detectors apparently fine for up to 50% of channels 1, 2'},\n",
       " 'MODLAND': {'bits': '0b1',\n",
       "  'description': 'Other Quality (back-up algorithm or fill values)'},\n",
       " 'SCF_QC': {'bits': '0b000',\n",
       "  'description': 'Main (RT) method used, best result possible (no saturation)'},\n",
       " 'Sensor': {'bits': '0b0', 'description': 'Terra'}}"
      ]
     },
     "execution_count": 33,
     "metadata": {},
     "output_type": "execute_result"
    }
   ],
   "source": [
    "val = 1                                                                            # Set a specific value\n",
    "q_response = r.get('{}quality/{}/{}/{}'.format(api, product, qlayer, val)).json()  # Call quality API for specific value\n",
    "q_response                                                                         # Print response"
   ]
  },
  {
   "cell_type": "markdown",
   "metadata": {},
   "source": [
    "***\n",
    "# 6. BONUS: Import Request Output and Visualize\n",
    "#### Here, import the CSV file containing the results from your request, and create some basic visualizations using the `matplotlib` package."
   ]
  },
  {
   "cell_type": "code",
   "execution_count": 34,
   "metadata": {},
   "outputs": [
    {
     "data": {
      "text/plain": [
       "['NPS-Vegetation-MCD15A3H-006-results.csv',\n",
       " 'NPS-Vegetation-MOD11A2-006-results.csv',\n",
       " 'NPS-Vegetation-granule-list.txt',\n",
       " 'NPS-Vegetation-request.json',\n",
       " 'NPS-Vegetation-MCD15A3H-006-metadata.xml',\n",
       " 'NPS-Vegetation-MOD11A2-006-metadata.xml',\n",
       " 'README.txt']"
      ]
     },
     "execution_count": 34,
     "metadata": {},
     "output_type": "execute_result"
    }
   ],
   "source": [
    "# Import Packages\n",
    "import matplotlib.pyplot as plt\n",
    "import pandas as pd\n",
    "import numpy as np\n",
    "list(files.values())  # List files downloaded"
   ]
  },
  {
   "cell_type": "markdown",
   "metadata": {},
   "source": [
    "---\n",
    "## 6a. Import CSV\n",
    "#### Use the `Pandas` package to import the CSV file containing the results from the AρρEEARS request. "
   ]
  },
  {
   "cell_type": "code",
   "execution_count": 35,
   "metadata": {},
   "outputs": [
    {
     "data": {
      "text/plain": [
       "Index(['Category', 'ID', 'Latitude', 'Longitude', 'Date', 'MODIS_Tile',\n",
       "       'MOD11A2_006_Line_Y_1km', 'MOD11A2_006_Sample_X_1km',\n",
       "       'MOD11A2_006_LST_Day_1km', 'MOD11A2_006_LST_Night_1km',\n",
       "       'MOD11A2_006_QC_Day', 'MOD11A2_006_QC_Night',\n",
       "       'MOD11A2_006_QC_Day_bitmask', 'MOD11A2_006_QC_Day_MODLAND',\n",
       "       'MOD11A2_006_QC_Day_MODLAND_Description',\n",
       "       'MOD11A2_006_QC_Day_Data_Quality_flag',\n",
       "       'MOD11A2_006_QC_Day_Data_Quality_flag_Description',\n",
       "       'MOD11A2_006_QC_Day_Emis_Error_flag',\n",
       "       'MOD11A2_006_QC_Day_Emis_Error_flag_Description',\n",
       "       'MOD11A2_006_QC_Day_LST_Error_Flag',\n",
       "       'MOD11A2_006_QC_Day_LST_Error_Flag_Description',\n",
       "       'MOD11A2_006_QC_Night_bitmask', 'MOD11A2_006_QC_Night_MODLAND',\n",
       "       'MOD11A2_006_QC_Night_MODLAND_Description',\n",
       "       'MOD11A2_006_QC_Night_Data_Quality_flag',\n",
       "       'MOD11A2_006_QC_Night_Data_Quality_flag_Description',\n",
       "       'MOD11A2_006_QC_Night_Emis_Error_flag',\n",
       "       'MOD11A2_006_QC_Night_Emis_Error_flag_Description',\n",
       "       'MOD11A2_006_QC_Night_LST_Error_Flag',\n",
       "       'MOD11A2_006_QC_Night_LST_Error_Flag_Description'],\n",
       "      dtype='object')"
      ]
     },
     "execution_count": 35,
     "metadata": {},
     "output_type": "execute_result"
    }
   ],
   "source": [
    "df = pd.read_csv(os.path.join(destDir,'NPS-Vegetation-MOD11A2-006-results.csv')) # Import CSV to a Pandas dataframe\n",
    "df.columns                                                                       # Print dataframe column names"
   ]
  },
  {
   "cell_type": "markdown",
   "metadata": {},
   "source": [
    "#### Select the MOD11A2.006 LST Day column for the data from Grand Canyon National Park."
   ]
  },
  {
   "cell_type": "code",
   "execution_count": 36,
   "metadata": {},
   "outputs": [
    {
     "data": {
      "text/plain": [
       "dict_keys(['Clear_sky_days', 'Clear_sky_nights', 'Day_view_angl', 'Day_view_time', 'Emis_31', 'Emis_32', 'LST_Day_1km', 'LST_Night_1km', 'Night_view_angl', 'Night_view_time', 'QC_Day', 'QC_Night'])"
      ]
     },
     "execution_count": 36,
     "metadata": {},
     "output_type": "execute_result"
    }
   ],
   "source": [
    "lstDay_GC = df['MOD11A2_006_LST_Day_1km'][df.Category == 'Grand Canyon'] # Filter df for the pixel from GC, only keep LST Day 1 km column\n",
    "dates = df['Date']                                                       # Create list of dates\n",
    "lst_response.keys()                                                      # Print response of product service call from earlier in the tutorial"
   ]
  },
  {
   "cell_type": "code",
   "execution_count": 37,
   "metadata": {},
   "outputs": [
    {
     "data": {
      "text/plain": [
       "{'AddOffset': 0.0,\n",
       " 'Available': True,\n",
       " 'DataType': 'float32',\n",
       " 'Description': 'Day Land Surface Temperature',\n",
       " 'Dimensions': ['time', 'YDim', 'XDim'],\n",
       " 'FillValue': 0,\n",
       " 'Layer': 'LST_Day_1km',\n",
       " 'OrigDataType': 'uint16',\n",
       " 'OrigValidMax': 65535,\n",
       " 'OrigValidMin': 7500,\n",
       " 'QualityLayers': \"['QC_Day']\",\n",
       " 'QualityProductAndVersion': 'MOD11A2.006',\n",
       " 'ScaleFactor': 0.02,\n",
       " 'Units': 'Kelvin',\n",
       " 'ValidMax': 1310.699951,\n",
       " 'ValidMin': 150.0,\n",
       " 'XSize': 1200,\n",
       " 'YSize': 1200}"
      ]
     },
     "execution_count": 37,
     "metadata": {},
     "output_type": "execute_result"
    }
   ],
   "source": [
    "lst_response['LST_Day_1km']  # Print product information service for the desired layer"
   ]
  },
  {
   "cell_type": "markdown",
   "metadata": {},
   "source": [
    "#### We will need to use the product service information to find the fill value and units for visualization purposes. "
   ]
  },
  {
   "cell_type": "code",
   "execution_count": 38,
   "metadata": {
    "collapsed": true
   },
   "outputs": [],
   "source": [
    "lstFill = lst_response['LST_Day_1km']['FillValue']  # Set fill value\n",
    "units = lst_response['LST_Day_1km']['Units']        # Set units"
   ]
  },
  {
   "cell_type": "markdown",
   "metadata": {},
   "source": [
    "---\n",
    "## 6b. Plot Results (Line/Scatter Plots)\n",
    "#### Next, plot a time series of daytime LST for the selected point in Grand Canyon National Park for 2017. "
   ]
  },
  {
   "cell_type": "code",
   "execution_count": 39,
   "metadata": {
    "collapsed": true
   },
   "outputs": [],
   "source": [
    "# Set matplotlib plots inline\n",
    "%matplotlib inline "
   ]
  },
  {
   "cell_type": "markdown",
   "metadata": {},
   "source": [
    "#### Below, filter the LST data to exclude fill values, and plot as a time series with some additional formatting. "
   ]
  },
  {
   "cell_type": "code",
   "execution_count": 40,
   "metadata": {},
   "outputs": [
    {
     "data": {
      "image/png": "[encoded data removed]",
      "text/plain": [
       "<matplotlib.figure.Figure at 0x1f9495ade48>"
      ]
     },
     "metadata": {},
     "output_type": "display_data"
    }
   ],
   "source": [
    "plt.style.use(\"dark_background\")                                                   # Set default background to black instead of white\n",
    "fig = plt.figure(1, figsize=(25, 7.5))                                             # Set the figure size\n",
    "ax = fig.add_subplot(111)                                                          # Create a subplot\n",
    "ax.plot(lstDay_GC[lstDay_GC!=lstFill], 'k', lw=2.5, color='#1f77b4')               # Filter out fill values and plot as blue line\n",
    "ax.plot(lstDay_GC[lstDay_GC!=lstFill], 'bo', ms=10, color='#1f77b4', alpha = 0.5)  # Filter out fill values and plot as blue circle\n",
    "ax.set_xticks((np.arange(0,len(lstDay_GC))))                                       # Set the x ticks\n",
    "ax.set_xticklabels(dates, rotation=45,fontsize=10)                                 # Set the x tick labels\n",
    "ax.set_yticks((np.arange(250,325, 10)))                                            # Arrange the y ticks\n",
    "ax.set_yticklabels(np.arange(250,325, 10),fontsize=12,fontweight='bold')           # Set the Y tick labels\n",
    "ax.set_xlabel('Date',fontsize=16,fontweight='bold')                                # Set x-axis label\n",
    "ax.set_ylabel(\"{}({})\".format('LST_Day_1km', units),fontsize=16,fontweight='bold') # Set y-axis label\n",
    "ax.set_title('Time Series',fontsize=20,fontweight='bold');                         # Set title"
   ]
  },
  {
   "cell_type": "markdown",
   "metadata": {},
   "source": [
    "#### Next, add the LST Night values for Grand Canyon NP, and create a time series plot with both `LST_Day_1km` and `LST_Night_1km`."
   ]
  },
  {
   "cell_type": "code",
   "execution_count": 41,
   "metadata": {},
   "outputs": [
    {
     "data": {
      "image/png": "[encoded data removed]",
      "text/plain": [
       "<matplotlib.figure.Figure at 0x1f949a40048>"
      ]
     },
     "metadata": {},
     "output_type": "display_data"
    }
   ],
   "source": [
    "lstNight_GC = df['MOD11A2_006_LST_Night_1km'][df.Category == 'Grand Canyon']                # Filter df for pixel from GC, only keep LST Night\n",
    "fig = plt.figure(1, figsize=(25, 7.5))                                                      # Set the figure size\n",
    "plt.style.use(\"dark_background\")                                                            # Set default background to black instead of white\n",
    "ax = fig.add_subplot(111)                                                                   # Create a subplot\n",
    "ax.plot(lstDay_GC[lstDay_GC!=lstFill], 'k', lw=2.5, color='#1f77b4')                        # Filter out fill values and plot as a blue line\n",
    "ax.plot(lstNight_GC[lstNight_GC!=lstFill], 'k', lw=2.5, color='#e60000')                    # Filter out fill values and plot as a red line\n",
    "ax.legend(('LST_Day_1km', 'LST_Night_1km'),loc='upper left')                                # Add a legend\n",
    "ax.plot(lstDay_GC[lstDay_GC!=lstFill], 'bo', ms=10, color='#1f77b4', alpha = 0.5)           # Filter out fill values and plot as a blue circle\n",
    "ax.plot(lstNight_GC[lstNight_GC!=lstFill], 'bo', ms=10, color='#e60000', alpha = 0.5)       # Filter out fill values and plot as a red circle\n",
    "ax.set_xticks((np.arange(0,len(lstDay_GC))))                                                # Set the x ticks\n",
    "ax.set_xticklabels(dates, rotation=45,fontsize=10)                                          # Set the x tick labels\n",
    "ax.set_yticks((np.arange(250,325, 10)))                                                     # Arrange the y ticks\n",
    "ax.set_yticklabels(np.arange(250,325, 10),fontsize=12,fontweight='bold')                    # Set the Y tick labels\n",
    "ax.set_xlabel('Date',fontsize=16,fontweight='bold')                                         # Set x-axis label\n",
    "ax.set_ylabel(\"{}({})\".format('LST_Day_1km', units),fontsize=16,fontweight='bold')          # Set y-axis label\n",
    "ax.set_title('Daytime and Nighttime LST at Grand Canyon NP',fontsize=20,fontweight='bold'); # Set title"
   ]
  },
  {
   "cell_type": "markdown",
   "metadata": {},
   "source": [
    "#### Finally, bring in the daytime LST data from Zion National Park, and compare with daytime LST at Grand Canyon National Park, shown below in a scatterplot using `matplotlib`."
   ]
  },
  {
   "cell_type": "code",
   "execution_count": 42,
   "metadata": {},
   "outputs": [
    {
     "data": {
      "image/png": "[encoded data removed]",
      "text/plain": [
       "<matplotlib.figure.Figure at 0x1f947507f60>"
      ]
     },
     "metadata": {},
     "output_type": "display_data"
    }
   ],
   "source": [
    "lstDay_Z = df['MOD11A2_006_LST_Day_1km'][df.Category == 'Zion']                                       # Filter for pixel from Zion, only keep LST Day\n",
    "lstDay_Z[lstDay_Z==lstFill] = np.nan                                                                  # Set fill values = nan for plotting purposes\n",
    "lstDay_GC[lstDay_GC==lstFill] = np.nan                                                                # Set fill values = nan for plotting purposes\n",
    "fig = plt.figure(1, figsize=(10, 7.5))                                                                # Set the figure size                   \n",
    "plt.style.use(\"dark_background\")                                                                      # Set default background to black\n",
    "fig.suptitle('MODIS LST: Grand Canyon vs. Zion National Park, 2017',fontsize=20,fontweight='bold')    # Add a title for the plot\n",
    "ax = fig.add_subplot(111)                                                                             # Add subplot\n",
    "ax.set_ylabel(\"{} {} ({})\".format('Grand Canyon:','LST_Day_1km',units),fontsize=16,fontweight='bold') # Set y-axis label\n",
    "ax.set_xlabel(\"{} {} ({})\".format('Zion:','LST_Day_1km', units),fontsize=16,fontweight='bold')        # Set x-axis label\n",
    "ax.scatter(lstDay_GC, lstDay_Z , alpha=1, c='#1f77b4', edgecolors='none', s=50, label=\"LST_Day\");     # Plot values for both points"
   ]
  },
  {
   "cell_type": "markdown",
   "metadata": {},
   "source": [
    "### This example can provide a template to use for your own research workflows. Leveraging the AρρEEARS API for searching, extracting, and formatting analysis ready data, and importing it directly into Python means that you can keep your entire research workflow in a single software program, from start to finish. "
   ]
  },
  {
   "cell_type": "markdown",
   "metadata": {},
   "source": [
    "***\n",
    "<div class=\"alert alert-block alert-info\">\n",
    "<h1> Contact Information </h1> \n",
    "    \n",
    "<h3> Material written by Cole Krehbiel$^{1}$ </h3>\n",
    "\n",
    "<b>Contact:</b> LPDAAC@usgs.gov  \n",
    "\n",
    "<b>Voice:</b> +1-605-594-6116  \n",
    "\n",
    "<b>Organization:</b> Land Processes Distributed Active Archive Center (LP DAAC)  \n",
    "\n",
    "<b>Website:</b> https://lpdaac.usgs.gov/  \n",
    "\n",
    "<b>Date last modified:</b> 01-03-2020  \n",
    "\n",
    "$^{1}$Innovate! Inc., contractor to the U.S. Geological Survey, Earth Resources Observation and Science (EROS) Center, Sioux Falls, South Dakota, 57198-001, USA. Work performed under USGS contract G15PD00467 for LP DAAC$^{2}$.\n",
    "\n",
    "$^{2}$LP DAAC Work performed under NASA contract NNG14HH33I. "
   ]
  }
 ],
 "metadata": {
  "kernelspec": {
   "display_name": "Python 3",
   "language": "python",
   "name": "python3"
  },
  "language_info": {
   "codemirror_mode": {
    "name": "ipython",
    "version": 3
   },
   "file_extension": ".py",
   "mimetype": "text/x-python",
   "name": "python",
   "nbconvert_exporter": "python",
   "pygments_lexer": "ipython3",
   "version": "3.6.6"
  }
 },
 "nbformat": 4,
 "nbformat_minor": 2
}
