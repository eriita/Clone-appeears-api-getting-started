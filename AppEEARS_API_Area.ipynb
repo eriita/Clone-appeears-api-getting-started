{
 "cells": [
  {
   "cell_type": "markdown",
   "metadata": {},
   "source": [
    "# Getting Started with the AρρEEARS API: Submitting and Downloading an Area Request\n",
    "### This tutorial demonstrates how to use Python to connect to the AρρEEARS API \n",
    "The Application for Extracting and Exploring Analysis Ready Samples ([AρρEEARS](https://lpdaacsvc.cr.usgs.gov/appeears/)) offers a simple and efficient way to access and transform geospatial data from a variety of federal data archives in an easy-to-use web application interface. AρρEEARS enables users to subset [geospatial data](https://lpdaacsvc.cr.usgs.gov/appeears/products) spatially, temporally, and by band/layer for point and area samples. AρρEEARS returns not only the requested data, but also the associated quality values, and offers interactive visualizations with summary statistics in the web interface.  The [AρρEEARS API](https://lpdaacsvc.cr.usgs.gov/appeears/api/) offers users **programmatic access** to all features available in AρρEEARS, with the exception of visualizations. The API features are demonstrated in this notebook.  \n",
    "***\n",
    "### Example: Submit an area request using a U.S. National Park boundary as the region of interest for extracting elevation, vegetation and land surface temperature data    \n",
    "Connect to the AρρEEARS API, query the list of available products, submit an area sample request, download the request, become familiar with the AρρEEARS Quality API, and import the results into Python for visualization. AρρEEARS area sample requests allow users to subset their desired data by spatial area via vector polygons (shapefiles or GeoJSONs). Users can also reproject and reformat the output data. AρρEEARS returns the valid data from the parameters defined within the sample request.       \n",
    "#### Data Used in the Example:\n",
    "- Data layers: \n",
    "    - NASA MeaSUREs Shuttle Radar Topography Mission (SRTM) Version 3 Digital Elevation Model  \n",
    "        - [SRTMGL1_NC.003](https://doi.org/10.5067/MEaSUREs/SRTM/SRTMGL1.003), 30m, static: 'Band1' \n",
    "    - Combined MODIS Leaf Area Index (LAI)  \n",
    "        - [MCD15A3H.006](https://doi.org/10.5067/MODIS/MCD15A3H.006), 500m, 4 day: 'Lai_500m'      \n",
    "    - Terra MODIS Land Surface Temperature    \n",
    "        - [MOD11A2.006](https://doi.org/10.5067/MODIS/MOD11A2.006), 1000m, 8 day: 'LST_Day_1km', 'LST_Night_1km'     \n",
    "***  \n",
    "# Topics Covered:\n",
    "1. **Getting Started**  \n",
    "    1a. Set Up the Working Environment  \n",
    "    1b. Login [Login]     \n",
    "2. **Query Available Products [Product API]**  \n",
    "    2a. Search and Explore Available Products [List Products]  \n",
    "    2b. Search and Explore Available Layers [List Layers]      \n",
    "3. **Submit an Area Request [Tasks]**  \n",
    "    3a. Import a Shapefile  \n",
    "    3b. Search and Explore Available Projections [Spatial API]   \n",
    "    3c. Compile a JSON [Task Object]  \n",
    "    3d. Submit a Task Request [Submit Task]  \n",
    "    3e. Retrieve Task Status [Retrieve Task]  \n",
    "4. **Download a Request [Bundle API]**    \n",
    "    4a. Explore Files in Request Output [List Files]    \n",
    "    4b. Download Files in a Request (Automation) [Download File]   \n",
    "5. **Explore AρρEEARS Quality Service [Quality API]**  \n",
    "    5a. List Quality Layers [List Quality Layers]    \n",
    "    5b. Show Quality Values [List Quality Values]   \n",
    "    5c. Decode Quality Values [Decode Quality Values]  \n",
    "6. **BONUS: Import Request Output and Visualize**    \n",
    "    6a. Import a GeoTIFF     \n",
    "    6b. Plot a GeoTIFF   \n",
    "***\n",
    "### Dependencies:\n",
    "- This tutorial was tested using Python 3.6.1.  \n",
    "- A [NASA Earthdata Login](https://urs.earthdata.nasa.gov/) account is required to complete this tutorial. You can create an account at the link provided.    \n",
    "- To execute section 6, the [Geospatial Data Abstraction Library](http://www.gdal.org/) (GDAL) is required. \n",
    "***\n",
    "### AρρEEARS Information:\n",
    "To access AρρEEARS, visit: https://lpdaacsvc.cr.usgs.gov/appeears/  \n",
    "> For comprehensive documentation of the full functionality of the AρρEEARS API, please see the AρρEEARS [API Documentation](https://lpdaacsvc.cr.usgs.gov/appeears/api/) \n",
    "\n",
    "Throughout the tutorial, specific sections of the API documentation can be accessed by clicking on the bracketed [] links in the section headings.   \n",
    "***\n",
    "### Files Used in this Tutorial:  \n",
    "- [Administrative Boundaries of National Park System Units 12/31/2017 - National Geospatial Data Asset (NGDA) NPS National Parks Dataset](https://irma.nps.gov/DataStore/DownloadFile/594958)  \n",
    "\n",
    "### Source Code used to Generate this Tutorial:\n",
    "- [Jupyter Notebook](https://git.earthdata.nasa.gov/projects/LPDUR/repos/appeears-api-getting-started/browse/AppEEARS_API_Area.ipynb) "
   ]
  },
  {
   "cell_type": "markdown",
   "metadata": {},
   "source": [
    "***"
   ]
  },
  {
   "cell_type": "markdown",
   "metadata": {},
   "source": [
    "# 1. Getting Started"
   ]
  },
  {
   "cell_type": "markdown",
   "metadata": {},
   "source": [
    "***\n",
    "## 1a. Set Up the Working Environment\n",
    "#### Import the required packages, set the input/working directory, and create an output directory for the results."
   ]
  },
  {
   "cell_type": "code",
   "execution_count": 1,
   "metadata": {},
   "outputs": [],
   "source": [
    "# Import packages \n",
    "import requests as r\n",
    "import getpass, pprint, time, os, cgi, json\n",
    "import geopandas as gpd"
   ]
  },
  {
   "cell_type": "markdown",
   "metadata": {},
   "source": [
    "#### If you are missing any of the packages above, download them in order to use the full functionality of this tutorial. "
   ]
  },
  {
   "cell_type": "code",
   "execution_count": 2,
   "metadata": {},
   "outputs": [],
   "source": [
    "# Set input directory, change working directory\n",
    "inDir = 'D:/appeears-api-getting-started/'           # IMPORTANT: Update to reflect directory on your OS\n",
    "os.chdir(inDir)                                      # Change to working directory\n",
    "api = 'https://lpdaacsvc.cr.usgs.gov/appeears/api/'  # Set the AρρEEARS API to a variable"
   ]
  },
  {
   "cell_type": "markdown",
   "metadata": {},
   "source": [
    "<div class=\"alert alert-block alert-warning\" >\n",
    "<b>If you plan to execute this tutorial on your own OS, `inDir` above needs to be changed.</b>\n",
    "</div> "
   ]
  },
  {
   "cell_type": "markdown",
   "metadata": {},
   "source": [
    "***\n",
    "## 1b. Login [[Login](https://lpdaacsvc.cr.usgs.gov/appeears/api/?language=Python%203#login)]\n",
    "#### To submit a request, you must first login to the AρρEEARS API. The AρρEEARS API requires the same [NASA Earthdata Login](https://urs.earthdata.nasa.gov/) as the AρρEEARS user interface. Use the `getpass` package to enter your NASA Earthdata login **Username** and **Password**. When prompted after executing the code block below, enter your username followed by your password."
   ]
  },
  {
   "cell_type": "code",
   "execution_count": 3,
   "metadata": {},
   "outputs": [
    {
     "name": "stdout",
     "output_type": "stream",
     "text": [
      "Enter NASA Earthdata Login Username: ········\n",
      "Enter NASA Earthdata Login Password: ········\n"
     ]
    }
   ],
   "source": [
    "user = getpass.getpass(prompt = 'Enter NASA Earthdata Login Username: ')      # Input NASA Earthdata Login Username\n",
    "password = getpass.getpass(prompt = 'Enter NASA Earthdata Login Password: ')  # Input NASA Earthdata Login Password"
   ]
  },
  {
   "cell_type": "markdown",
   "metadata": {},
   "source": [
    "#### Use the `requests` package to post your username and password. A successful login will provide you with a token to be used later in this tutorial to submit a request. For more information or if you are experiencing difficulties, please see the [API Documentation](https://lpdaacsvc.cr.usgs.gov/appeears/api/?language=Python%203#login)."
   ]
  },
  {
   "cell_type": "code",
   "execution_count": 4,
   "metadata": {},
   "outputs": [
    {
     "data": {
      "text/plain": [
       "{'token_type': 'Bearer',\n",
       " 'token': '0EEkLrwSofg86GfSu3Zm2bNgb-x1-TRDQkRBn2B3qA0_CK2dNB3jbk6EkgST6SWapwNNhJvnJ9J2en4yFKfQ3g',\n",
       " 'expiration': '2020-04-30T18:26:32Z'}"
      ]
     },
     "execution_count": 4,
     "metadata": {},
     "output_type": "execute_result"
    }
   ],
   "source": [
    "token_response = r.post('{}login'.format(api), auth=(user, password)).json() # Insert API URL, call login service, provide credentials & return json\n",
    "del user, password                                                           # Remove user and password information\n",
    "token_response                                                               # Print response"
   ]
  },
  {
   "cell_type": "markdown",
   "metadata": {},
   "source": [
    "#### Above, you should see a Bearer token. Notice that this token will expire approximately 48 hours after being acquired. \n",
    "***\n",
    "# 2. Query Available Products [[Product API](https://lpdaacsvc.cr.usgs.gov/appeears/api/?language=Python%203#product)]\n",
    "## 2a. Search and Explore Available Products [[List Products](https://lpdaacsvc.cr.usgs.gov/appeears/api/?language=Python%203#list-products)]\n",
    "#### The product API provides details about all of the products and layers available in AρρEEARS. Below, call the product API to list all of the products available in AρρEEARS."
   ]
  },
  {
   "cell_type": "code",
   "execution_count": 5,
   "metadata": {},
   "outputs": [
    {
     "name": "stdout",
     "output_type": "stream",
     "text": [
      "AρρEEARS currently supports 120 products.\n"
     ]
    }
   ],
   "source": [
    "product_response = r.get('{}product'.format(api)).json()                         # request all products in the product service\n",
    "print('AρρEEARS currently supports {} products.'.format(len(product_response)))  # Print no. products available in AppEEARS"
   ]
  },
  {
   "cell_type": "markdown",
   "metadata": {},
   "source": [
    "#### Next, create a dictionary indexed by product name, making it easier to query a specific product."
   ]
  },
  {
   "cell_type": "code",
   "execution_count": 6,
   "metadata": {},
   "outputs": [
    {
     "data": {
      "text/plain": [
       "{'Product': 'MCD15A3H',\n",
       " 'Platform': 'Combined MODIS',\n",
       " 'Description': 'Leaf Area Index (LAI) and Fraction of Photosynthetically Active Radiation (FPAR)',\n",
       " 'RasterType': 'Tile',\n",
       " 'Resolution': '500m',\n",
       " 'TemporalGranularity': '4 day',\n",
       " 'Version': '006',\n",
       " 'Available': True,\n",
       " 'DocLink': 'https://doi.org/10.5067/MODIS/MCD15A3H.006',\n",
       " 'Source': 'LP DAAC',\n",
       " 'TemporalExtentStart': '2002-07-04',\n",
       " 'TemporalExtentEnd': 'Present',\n",
       " 'Deleted': False,\n",
       " 'DOI': '10.5067/MODIS/MCD15A3H.006',\n",
       " 'ProductAndVersion': 'MCD15A3H.006'}"
      ]
     },
     "execution_count": 6,
     "metadata": {},
     "output_type": "execute_result"
    }
   ],
   "source": [
    "products = {p['ProductAndVersion']: p for p in product_response} # Create a dictionary indexed by product name & version\n",
    "products['MCD15A3H.006']                                         # Print information for MCD15A3H.006 LAI/FPAR Product"
   ]
  },
  {
   "cell_type": "markdown",
   "metadata": {},
   "source": [
    "#### The product service provides many useful details, including if a product is currently available in AρρEEARS, a description, and information on the spatial and temporal resolution. "
   ]
  },
  {
   "cell_type": "markdown",
   "metadata": {},
   "source": [
    "#### Below, make a list of all product+version names, and search for products containing *Leaf Area Index* in their description. "
   ]
  },
  {
   "cell_type": "code",
   "execution_count": 7,
   "metadata": {},
   "outputs": [
    {
     "name": "stdout",
     "output_type": "stream",
     "text": [
      "{'Available': True,\n",
      " 'DOI': '10.5067/VIIRS/VNP15A2H.001',\n",
      " 'Deleted': False,\n",
      " 'Description': 'Leaf Area Index (LAI) and Fraction of Photosynthetically '\n",
      "                'Active Radiation (FPAR)',\n",
      " 'DocLink': 'https://doi.org/10.5067/viirs/vnp15a2h.001',\n",
      " 'Platform': 'S-NPP NASA VIIRS',\n",
      " 'Product': 'VNP15A2H',\n",
      " 'ProductAndVersion': 'VNP15A2H.001',\n",
      " 'RasterType': 'Tile',\n",
      " 'Resolution': '500m',\n",
      " 'Source': 'LP DAAC',\n",
      " 'TemporalExtentEnd': 'Present',\n",
      " 'TemporalExtentStart': '2012-01-19',\n",
      " 'TemporalGranularity': '8 day',\n",
      " 'Version': '001'}\n",
      "{'Available': True,\n",
      " 'DOI': '10.5067/MODIS/MYD15A2H.006',\n",
      " 'Deleted': False,\n",
      " 'Description': 'Leaf Area Index (LAI) and Fraction of Photosynthetically '\n",
      "                'Active Radiation (FPAR)',\n",
      " 'DocLink': 'https://doi.org/10.5067/MODIS/MYD15A2H.006',\n",
      " 'Platform': 'Aqua MODIS',\n",
      " 'Product': 'MYD15A2H',\n",
      " 'ProductAndVersion': 'MYD15A2H.006',\n",
      " 'RasterType': 'Tile',\n",
      " 'Resolution': '500m',\n",
      " 'Source': 'LP DAAC',\n",
      " 'TemporalExtentEnd': 'Present',\n",
      " 'TemporalExtentStart': '2002-07-04',\n",
      " 'TemporalGranularity': '8 day',\n",
      " 'Version': '006'}\n",
      "{'Available': True,\n",
      " 'DOI': '10.5067/MODIS/MCD15A2H.006',\n",
      " 'Deleted': False,\n",
      " 'Description': 'Leaf Area Index (LAI) and Fraction of Photosynthetically '\n",
      "                'Active Radiation (FPAR)',\n",
      " 'DocLink': 'https://doi.org/10.5067/MODIS/MCD15A2H.006',\n",
      " 'Platform': 'Combined MODIS',\n",
      " 'Product': 'MCD15A2H',\n",
      " 'ProductAndVersion': 'MCD15A2H.006',\n",
      " 'RasterType': 'Tile',\n",
      " 'Resolution': '500m',\n",
      " 'Source': 'LP DAAC',\n",
      " 'TemporalExtentEnd': 'Present',\n",
      " 'TemporalExtentStart': '2002-07-04',\n",
      " 'TemporalGranularity': '8 day',\n",
      " 'Version': '006'}\n",
      "{'Available': True,\n",
      " 'DOI': '10.5067/MODIS/MOD15A2H.006',\n",
      " 'Deleted': False,\n",
      " 'Description': 'Leaf Area Index (LAI) and Fraction of Photosynthetically '\n",
      "                'Active Radiation (FPAR)',\n",
      " 'DocLink': 'https://doi.org/10.5067/MODIS/MOD15A2H.006',\n",
      " 'Platform': 'Terra MODIS',\n",
      " 'Product': 'MOD15A2H',\n",
      " 'ProductAndVersion': 'MOD15A2H.006',\n",
      " 'RasterType': 'Tile',\n",
      " 'Resolution': '500m',\n",
      " 'Source': 'LP DAAC',\n",
      " 'TemporalExtentEnd': 'Present',\n",
      " 'TemporalExtentStart': '2000-02-18',\n",
      " 'TemporalGranularity': '8 day',\n",
      " 'Version': '006'}\n",
      "{'Available': True,\n",
      " 'DOI': '10.5067/MODIS/MCD15A3H.006',\n",
      " 'Deleted': False,\n",
      " 'Description': 'Leaf Area Index (LAI) and Fraction of Photosynthetically '\n",
      "                'Active Radiation (FPAR)',\n",
      " 'DocLink': 'https://doi.org/10.5067/MODIS/MCD15A3H.006',\n",
      " 'Platform': 'Combined MODIS',\n",
      " 'Product': 'MCD15A3H',\n",
      " 'ProductAndVersion': 'MCD15A3H.006',\n",
      " 'RasterType': 'Tile',\n",
      " 'Resolution': '500m',\n",
      " 'Source': 'LP DAAC',\n",
      " 'TemporalExtentEnd': 'Present',\n",
      " 'TemporalExtentStart': '2002-07-04',\n",
      " 'TemporalGranularity': '4 day',\n",
      " 'Version': '006'}\n"
     ]
    }
   ],
   "source": [
    "prodNames = {p['ProductAndVersion'] for p in product_response} # Make list of all products (including version)\n",
    "for p in prodNames:                                            # Make for loop to search list of products 'Description' for a keyword                \n",
    "    if 'Leaf Area Index' in products[p]['Description']:\n",
    "        pprint.pprint(products[p])                             # Print info for each product containing LAI in its description"
   ]
  },
  {
   "cell_type": "markdown",
   "metadata": {},
   "source": [
    "#### Using the info above, start a list of desired products by using the highest temporal resolution LAI product, `MCD15A3H.006`.  "
   ]
  },
  {
   "cell_type": "code",
   "execution_count": 8,
   "metadata": {},
   "outputs": [
    {
     "data": {
      "text/plain": [
       "['MCD15A3H.006', 'MOD11A2.006', 'SRTMGL1_NC.003']"
      ]
     },
     "execution_count": 8,
     "metadata": {},
     "output_type": "execute_result"
    }
   ],
   "source": [
    "prods = ['MCD15A3H.006']     # Start a list for products to be requested, beginning with MCD15A3H.006\n",
    "prods.append('MOD11A2.006')  # Append the MOD11A2.006 8 day LST product to the list of products desired\n",
    "prods.append('SRTMGL1_NC.003')  # Append the SRTMGL1_NC.003 product to the list of products desired\n",
    "prods                        # Print list"
   ]
  },
  {
   "cell_type": "markdown",
   "metadata": {},
   "source": [
    "***\n",
    "# 2b. Search and Explore Available Layers [[List Layers](https://lpdaacsvc.cr.usgs.gov/appeears/api/?language=Python%203#list-layers)]\n",
    "#### The product API allows you to call all of the layers available for a given product. Each product is referenced by its `ProductAndVersion` property. For a list of the layer names only, print the keys from the dictionary below. "
   ]
  },
  {
   "cell_type": "code",
   "execution_count": 9,
   "metadata": {},
   "outputs": [
    {
     "data": {
      "text/plain": [
       "['Clear_sky_days',\n",
       " 'Clear_sky_nights',\n",
       " 'Day_view_angl',\n",
       " 'Day_view_time',\n",
       " 'Emis_31',\n",
       " 'Emis_32',\n",
       " 'LST_Day_1km',\n",
       " 'LST_Night_1km',\n",
       " 'Night_view_angl',\n",
       " 'Night_view_time',\n",
       " 'QC_Day',\n",
       " 'QC_Night']"
      ]
     },
     "execution_count": 9,
     "metadata": {},
     "output_type": "execute_result"
    }
   ],
   "source": [
    "lst_response = r.get('{}product/{}'.format(api, prods[1])).json()  # Request layers for the 2nd product (index 1) in the list: MOD11A2.006\n",
    "list(lst_response.keys())"
   ]
  },
  {
   "cell_type": "markdown",
   "metadata": {},
   "source": [
    "#### Use the dictionary key `'LST_Day_1km'` to see the information for that layer in the response."
   ]
  },
  {
   "cell_type": "code",
   "execution_count": 10,
   "metadata": {},
   "outputs": [
    {
     "data": {
      "text/plain": [
       "{'AddOffset': 0.0,\n",
       " 'Available': True,\n",
       " 'DataType': 'float32',\n",
       " 'Description': 'Day Land Surface Temperature',\n",
       " 'Dimensions': ['time', 'YDim', 'XDim'],\n",
       " 'FillValue': 0,\n",
       " 'IsQA': False,\n",
       " 'Layer': 'LST_Day_1km',\n",
       " 'OrigDataType': 'uint16',\n",
       " 'OrigValidMax': 65535,\n",
       " 'OrigValidMin': 7500,\n",
       " 'QualityLayers': \"['QC_Day']\",\n",
       " 'QualityProductAndVersion': 'MOD11A2.006',\n",
       " 'ScaleFactor': 0.02,\n",
       " 'Units': 'Kelvin',\n",
       " 'ValidMax': 1310.699951,\n",
       " 'ValidMin': 150.0,\n",
       " 'XSize': 1200,\n",
       " 'YSize': 1200}"
      ]
     },
     "execution_count": 10,
     "metadata": {},
     "output_type": "execute_result"
    }
   ],
   "source": [
    "lst_response['LST_Day_1km'] # Print layer response"
   ]
  },
  {
   "cell_type": "markdown",
   "metadata": {},
   "source": [
    "#### AρρEEARS also allows subsetting data spectrally (by band). Create a tupled list with product name and specific layers desired. "
   ]
  },
  {
   "cell_type": "code",
   "execution_count": 11,
   "metadata": {},
   "outputs": [],
   "source": [
    "layers = [(prods[1],'LST_Day_1km'),(prods[1],'LST_Night_1km')]  # Create tupled list linking desired product with desired layers"
   ]
  },
  {
   "cell_type": "markdown",
   "metadata": {},
   "source": [
    "#### Next, request the layers for the `MCD15A3H.006` product."
   ]
  },
  {
   "cell_type": "code",
   "execution_count": 12,
   "metadata": {},
   "outputs": [
    {
     "data": {
      "text/plain": [
       "['FparExtra_QC',\n",
       " 'FparLai_QC',\n",
       " 'FparStdDev_500m',\n",
       " 'Fpar_500m',\n",
       " 'LaiStdDev_500m',\n",
       " 'Lai_500m']"
      ]
     },
     "execution_count": 12,
     "metadata": {},
     "output_type": "execute_result"
    }
   ],
   "source": [
    "lai_response = r.get('{}product/{}'.format(api, prods[0])).json()  # Request layers for the 1st product (index 0) in the list: MCD15A3H.006\n",
    "list(lai_response.keys())                                          # Print the LAI layer names"
   ]
  },
  {
   "cell_type": "code",
   "execution_count": 13,
   "metadata": {},
   "outputs": [
    {
     "data": {
      "text/plain": [
       "'Leaf area index'"
      ]
     },
     "execution_count": 13,
     "metadata": {},
     "output_type": "execute_result"
    }
   ],
   "source": [
    "lai_response['Lai_500m']['Description']  # Make sure the correct layer is requested"
   ]
  },
  {
   "cell_type": "markdown",
   "metadata": {},
   "source": [
    "#### Above, `Lai_500m` is the desired layer within the `MCD15A3h.006` product. \n",
    "#### Next, append `Lai_500m` to the tupled list of desired product/layers. "
   ]
  },
  {
   "cell_type": "code",
   "execution_count": 14,
   "metadata": {},
   "outputs": [],
   "source": [
    "layers.append((prods[0],'Lai_500m')) # Append to tupled list linking desired product with desired layers"
   ]
  },
  {
   "cell_type": "markdown",
   "metadata": {},
   "source": [
    "#### Thirdly, request the layers for the `SRTMGL1_NC.003` product."
   ]
  },
  {
   "cell_type": "code",
   "execution_count": 15,
   "metadata": {},
   "outputs": [
    {
     "data": {
      "text/plain": [
       "['SRTMGL1_DEM']"
      ]
     },
     "execution_count": 15,
     "metadata": {},
     "output_type": "execute_result"
    }
   ],
   "source": [
    "dem_response = r.get('{}product/{}'.format(api, prods[2])).json()  # Request layers for the 3rd product (index 2) in the list: SRTMGL1_NC.003\n",
    "list(dem_response.keys())                                          # Print the SRTM DEM layer names "
   ]
  },
  {
   "cell_type": "markdown",
   "metadata": {},
   "source": [
    "#### Finally, append `Band1` to the tupled list of desired products/layers."
   ]
  },
  {
   "cell_type": "code",
   "execution_count": 16,
   "metadata": {},
   "outputs": [],
   "source": [
    "layers.append((prods[2], 'SRTMGL1_DEM')) # Append to tupled list linking desired product with desired layers"
   ]
  },
  {
   "cell_type": "markdown",
   "metadata": {},
   "source": [
    "#### Below, take the tupled list (layers) and create a list of dictionaries to store each layer+product combination. This will make it easier to insert into the json file used to submit a request in Section 3. "
   ]
  },
  {
   "cell_type": "code",
   "execution_count": 17,
   "metadata": {},
   "outputs": [
    {
     "data": {
      "text/plain": [
       "[{'layer': 'LST_Day_1km', 'product': 'MOD11A2.006'},\n",
       " {'layer': 'LST_Night_1km', 'product': 'MOD11A2.006'},\n",
       " {'layer': 'Lai_500m', 'product': 'MCD15A3H.006'},\n",
       " {'layer': 'SRTMGL1_DEM', 'product': 'SRTMGL1_NC.003'}]"
      ]
     },
     "execution_count": 17,
     "metadata": {},
     "output_type": "execute_result"
    }
   ],
   "source": [
    "prodLayer = []\n",
    "for l in layers:\n",
    "    prodLayer.append({\n",
    "            \"layer\": l[1],\n",
    "            \"product\": l[0]\n",
    "          })\n",
    "prodLayer"
   ]
  },
  {
   "cell_type": "markdown",
   "metadata": {},
   "source": [
    "***\n",
    "# 3. Submit an Area Request [[Tasks](https://lpdaacsvc.cr.usgs.gov/appeears/api/?language=Python%203#tasks)]\n",
    "#### The **Submit task** API call provides a way to submit a new request to be processed. It can accept data via JSON, query string, or a combination of both. In the example below, compile a json and submit a request. Tasks in AρρEEARS correspond to each request associated with your user account. Therefore, each of the calls to this service requires an authentication token (see Section 1c.), which is stored in a header below. "
   ]
  },
  {
   "cell_type": "code",
   "execution_count": 18,
   "metadata": {},
   "outputs": [],
   "source": [
    "token = token_response['token']                      # Save login token to a variable\n",
    "head = {'Authorization': 'Bearer {}'.format(token)}  # Create a header to store token information, needed to submit a request"
   ]
  },
  {
   "cell_type": "markdown",
   "metadata": {},
   "source": [
    "---\n",
    "## 3a. Import a Shapefile\n",
    "#### In this section, begin by importing a shapefile using the `geopandas` package. The shapefile is publically available for download from the [NPS website](https://irma.nps.gov/DataStore/Reference/Profile/2224545?lnv=True)."
   ]
  },
  {
   "cell_type": "code",
   "execution_count": 19,
   "metadata": {},
   "outputs": [
    {
     "name": "stdout",
     "output_type": "stream",
     "text": [
      "  UNIT_CODE                                          GIS_Notes  \\\n",
      "0      AMME  LEGACY: contact allen_mccoy@nps.gov for additi...   \n",
      "1      EBLA  LEGACY: contact allen_mccoy@nps.gov for additi...   \n",
      "2      LARO  LEGACY: contact allen_mccoy@nps.gov for additi...   \n",
      "3      LEWI  LEGACY: contact allen_mccoy@nps.gov for additi...   \n",
      "4      OLYM  LEGACY: contact allen_mccoy@nps.gov for additi...   \n",
      "\n",
      "                                    UNIT_NAME   DATE_EDIT STATE REGION  \\\n",
      "0                      American Memorial Park  2015-04-22    MP     PW   \n",
      "1  Ebey's Landing National Historical Reserve  2015-04-22    WA     PW   \n",
      "2     Lake Roosevelt National Recreation Area  2015-04-22    WA     PW   \n",
      "3    Lewis and Clark National Historical Park  2015-04-22    WA     PW   \n",
      "4                       Olympic National Park  2015-04-22    WA     PW   \n",
      "\n",
      "   GNIS_ID                    UNIT_TYPE CREATED_BY METADATA  \\\n",
      "0  1879026                         Park     Legacy     None   \n",
      "1  1888910  National Historical Reserve     Legacy     None   \n",
      "2  1531834     National Recreation Area     Legacy     None   \n",
      "3  2055170     National Historical Park     Legacy     None   \n",
      "4  1530459                National Park     Legacy     None   \n",
      "\n",
      "                 PARKNAME                                           geometry  \n",
      "0  American Memorial Park  POLYGON ((145.72350 15.22246, 145.72352 15.222...  \n",
      "1          Ebey's Landing  POLYGON ((-122.65290 48.25379, -122.62396 48.2...  \n",
      "2          Lake Roosevelt  MULTIPOLYGON (((-118.45200 47.84213, -118.4520...  \n",
      "3         Lewis and Clark  MULTIPOLYGON (((-124.07495 46.30228, -124.0746...  \n",
      "4                 Olympic  MULTIPOLYGON (((-124.38061 47.60210, -124.3807...  \n"
     ]
    }
   ],
   "source": [
    "nps = gpd.read_file('{}nps_boundary.shp'.format(inDir + os.sep)) # Read in shapefile as dataframe using geopandas\n",
    "print(nps.head())                                                # Print first few lines of dataframe"
   ]
  },
  {
   "cell_type": "markdown",
   "metadata": {},
   "source": [
    "#### Below, query the `geopandas` dataframe for the national park that you are interested in using for your region of interest, here *Grand Canyon National Park*."
   ]
  },
  {
   "cell_type": "code",
   "execution_count": 20,
   "metadata": {},
   "outputs": [],
   "source": [
    "nps_gc = nps[nps['UNIT_NAME']=='Grand Canyon National Park'].to_json() # Extract Grand Canyon NP and set to variable\n",
    "nps_gc = json.loads(nps_gc)                                            # Convert to json format"
   ]
  },
  {
   "cell_type": "markdown",
   "metadata": {},
   "source": [
    "---\n",
    "## 3b. Search and Explore Available Projections [[Spatial API](https://lpdaacsvc.cr.usgs.gov/appeears/api/?language=Python%203#spatial)]   \n",
    "#### The spatial API provides some helper services used to support submitting area task requests. The call below will retrieve the list of supported projections in AρρEEARS."
   ]
  },
  {
   "cell_type": "code",
   "execution_count": 21,
   "metadata": {},
   "outputs": [
    {
     "data": {
      "text/plain": [
       "[{'Name': 'native',\n",
       "  'Description': 'Native Projection',\n",
       "  'Platforms': '',\n",
       "  'Proj4': '',\n",
       "  'Datum': '',\n",
       "  'EPSG': '',\n",
       "  'Units': '',\n",
       "  'GridMapping': '',\n",
       "  'Available': True},\n",
       " {'Name': 'geographic',\n",
       "  'Description': 'Geographic',\n",
       "  'Platforms': \"['SRTM', 'ECOSTRESS', 'SSEBop ET', 'GPW', 'ASTER GDEM', 'NASADEM']\",\n",
       "  'Proj4': '+proj=longlat +datum=WGS84 +no_defs',\n",
       "  'Datum': 'wgs84',\n",
       "  'EPSG': 4326.0,\n",
       "  'Units': 'degrees',\n",
       "  'GridMapping': 'latitude_longitude',\n",
       "  'Available': True},\n",
       " {'Name': 'sinu_modis',\n",
       "  'Description': 'MODIS Sinusoidal',\n",
       "  'Platforms': \"['Combined MODIS', 'Terra MODIS', 'Aqua MODIS', 'S-NPP NASA VIIRS', 'Global WELD']\",\n",
       "  'Proj4': '+proj=sinu +lon_0=0 +x_0=0 +y_0=0 +a=6371007.181 +b=6371007.181 +units=m +no_defs',\n",
       "  'Datum': '',\n",
       "  'EPSG': '',\n",
       "  'Units': 'meters',\n",
       "  'GridMapping': 'sinusoidal',\n",
       "  'Available': True},\n",
       " {'Name': 'albers_weld_alaska',\n",
       "  'Description': 'WELD Albers Equal Area Alaska',\n",
       "  'Platforms': \"['WELD']\",\n",
       "  'Proj4': '+proj=aea +lat_1=55 +lat_2=65 +lat_0=50 +lon_0=-154 +x_0=0 +y_0=0 +datum=WGS84 +units=m +no_defs',\n",
       "  'Datum': 'wgs84',\n",
       "  'EPSG': '',\n",
       "  'Units': 'meters',\n",
       "  'GridMapping': 'albers_conical_equal_area',\n",
       "  'Available': True},\n",
       " {'Name': 'albers_weld_conus',\n",
       "  'Description': 'WELD Albers Equal Area CONUS',\n",
       "  'Platforms': \"['WELD']\",\n",
       "  'Proj4': '+proj=aea +lat_1=29.5 +lat_2=45.5 +lat_0=23 +lon_0=-96 +x_0=0 +y_0=0 +datum=WGS84 +units=m +no_defs',\n",
       "  'Datum': 'wgs84',\n",
       "  'EPSG': '',\n",
       "  'Units': 'meters',\n",
       "  'GridMapping': 'albers_conical_equal_area',\n",
       "  'Available': True},\n",
       " {'Name': 'albers_ard_alaska',\n",
       "  'Description': 'Landsat ARD Albers Equal Area Alaska',\n",
       "  'Platforms': \"['Landsat ARD']\",\n",
       "  'Proj4': '+proj=aea +lat_1=55 +lat_2=65 +lat_0=50 +lon_0=-154 +x_0=0 +y_0=0 +datum=WGS84 +units=m +no_defs',\n",
       "  'Datum': 'wgs84',\n",
       "  'EPSG': '',\n",
       "  'Units': 'meters',\n",
       "  'GridMapping': 'albers_conical_equal_area',\n",
       "  'Available': True},\n",
       " {'Name': 'albers_ard_conus',\n",
       "  'Description': 'Landsat ARD Albers Equal Area CONUS',\n",
       "  'Platforms': \"['Landsat ARD']\",\n",
       "  'Proj4': '+proj=aea +lat_1=29.5 +lat_2=45.5 +lat_0=23 +lon_0=-96 +x_0=0 +y_0=0 +datum=WGS84 +units=m +no_defs',\n",
       "  'Datum': 'wgs84',\n",
       "  'EPSG': '',\n",
       "  'Units': 'meters',\n",
       "  'GridMapping': 'albers_conical_equal_area',\n",
       "  'Available': True},\n",
       " {'Name': 'albers_ard_hawaii',\n",
       "  'Description': 'Landsat ARD Albers Equal Area Hawaii',\n",
       "  'Platforms': \"['Landsat ARD']\",\n",
       "  'Proj4': '+proj=aea +lat_1=8 +lat_2=18 +lat_0=3 +lon_0=-157 +x_0=0 +y_0=0 +datum=WGS84 +units=m +no_defs',\n",
       "  'Datum': 'wgs84',\n",
       "  'EPSG': '',\n",
       "  'Units': 'meters',\n",
       "  'GridMapping': 'albers_conical_equal_area',\n",
       "  'Available': True},\n",
       " {'Name': 'easegrid_2_global',\n",
       "  'Description': 'EASE-Grid 2.0 Global',\n",
       "  'Platforms': \"['SMAP']\",\n",
       "  'Proj4': '+proj=cea +lon_0=0 +lat_ts=30 +x_0=0 +y_0=0 +datum=WGS84 +units=m +no_defs',\n",
       "  'Datum': 'wgs84',\n",
       "  'EPSG': 6933.0,\n",
       "  'Units': 'meters',\n",
       "  'GridMapping': 'lambert_cylindrical_equal_area',\n",
       "  'Available': True},\n",
       " {'Name': 'easegrid_2_north',\n",
       "  'Description': 'EASE-Grid 2.0 Northern Hemisphere',\n",
       "  'Platforms': \"['SMAP']\",\n",
       "  'Proj4': '+proj=laea +lat_0=90 +lon_0=0 +x_0=0 +y_0=0 +datum=WGS84 +units=m +no_defs',\n",
       "  'Datum': 'wgs84',\n",
       "  'EPSG': 6931.0,\n",
       "  'Units': 'meters',\n",
       "  'GridMapping': 'lambert_cylindrical_equal_area',\n",
       "  'Available': True},\n",
       " {'Name': 'laea_sphere_19',\n",
       "  'Description': 'Lambert Azimuthal Equal Area Sphere 19',\n",
       "  'Platforms': \"['eMODIS Smoothed NDVI']\",\n",
       "  'Proj4': '+proj=laea +lat_0=45 +lon_0=-100 +x_0=0 +y_0=0 +a=6370997 +b=6370997 +units=m +no_defs',\n",
       "  'Datum': '',\n",
       "  'EPSG': '',\n",
       "  'Units': 'meters',\n",
       "  'GridMapping': 'lambert_azimuthal_equal_area',\n",
       "  'Available': True}]"
      ]
     },
     "execution_count": 21,
     "metadata": {},
     "output_type": "execute_result"
    }
   ],
   "source": [
    "projections = r.get('{}spatial/proj'.format(api)).json()  # Call to spatial API, return projs as json\n",
    "projections                                               # Print projections and information"
   ]
  },
  {
   "cell_type": "markdown",
   "metadata": {},
   "source": [
    "#### Create a dictionary of projections with projection `Name` as the keys."
   ]
  },
  {
   "cell_type": "code",
   "execution_count": 22,
   "metadata": {},
   "outputs": [
    {
     "data": {
      "text/plain": [
       "['native',\n",
       " 'geographic',\n",
       " 'sinu_modis',\n",
       " 'albers_weld_alaska',\n",
       " 'albers_weld_conus',\n",
       " 'albers_ard_alaska',\n",
       " 'albers_ard_conus',\n",
       " 'albers_ard_hawaii',\n",
       " 'easegrid_2_global',\n",
       " 'easegrid_2_north',\n",
       " 'laea_sphere_19']"
      ]
     },
     "execution_count": 22,
     "metadata": {},
     "output_type": "execute_result"
    }
   ],
   "source": [
    "projs = {}                                  # Create an empty dictionary\n",
    "for p in projections: projs[p['Name']] = p  # Fill dictionary with `Name` as keys\n",
    "list(projs.keys())                          # Print dictionary keys"
   ]
  },
  {
   "cell_type": "markdown",
   "metadata": {},
   "source": [
    "#### Print the information for the projection used in this tutorial."
   ]
  },
  {
   "cell_type": "code",
   "execution_count": 23,
   "metadata": {},
   "outputs": [
    {
     "data": {
      "text/plain": [
       "{'Name': 'geographic',\n",
       " 'Description': 'Geographic',\n",
       " 'Platforms': \"['SRTM', 'ECOSTRESS', 'SSEBop ET', 'GPW', 'ASTER GDEM', 'NASADEM']\",\n",
       " 'Proj4': '+proj=longlat +datum=WGS84 +no_defs',\n",
       " 'Datum': 'wgs84',\n",
       " 'EPSG': 4326.0,\n",
       " 'Units': 'degrees',\n",
       " 'GridMapping': 'latitude_longitude',\n",
       " 'Available': True}"
      ]
     },
     "execution_count": 23,
     "metadata": {},
     "output_type": "execute_result"
    }
   ],
   "source": [
    "projs['geographic']"
   ]
  },
  {
   "cell_type": "markdown",
   "metadata": {},
   "source": [
    "---\n",
    "## 3c. Compile a JSON [[Task Object](https://lpdaacsvc.cr.usgs.gov/appeears/api/?language=Python%203#task-object)]\n",
    "#### In this section, begin by setting up the information needed to compile an acceptable json for submitting an AρρEEARS area request. For detailed information on required json parameters, see the [API Documentation](https://lpdaacsvc.cr.usgs.gov/appeears/api/?language=Python%203#tasks). "
   ]
  },
  {
   "cell_type": "code",
   "execution_count": 24,
   "metadata": {
    "scrolled": true
   },
   "outputs": [
    {
     "name": "stdout",
     "output_type": "stream",
     "text": [
      "Enter a Task Name: NPS Vegetation Area\n"
     ]
    }
   ],
   "source": [
    "task_name = input('Enter a Task Name: ') # User-defined name of the task: 'NPS Vegetation Area' used in example"
   ]
  },
  {
   "cell_type": "code",
   "execution_count": 25,
   "metadata": {},
   "outputs": [],
   "source": [
    "task_type = ['point','area']        # Type of task, area or point\n",
    "proj = projs['geographic']['Name']  # Set output projection \n",
    "outFormat = ['geotiff', 'netcdf4']  # Set output file format type\n",
    "startDate = '07-01-2017'            # Start of the date range for which to extract data: MM-DD-YYYY\n",
    "endDate = '07-31-2017'              # End of the date range for which to extract data: MM-DD-YYYY\n",
    "recurring = False                   # Specify True for a recurring date range\n",
    "#yearRange = [2000,2016]            # if recurring = True, set yearRange, change start/end date to MM-DD"
   ]
  },
  {
   "cell_type": "markdown",
   "metadata": {},
   "source": [
    "#### Below, compile the JSON to be submitted as an area request. Notice that `nps_gc` is inserted from the shapefile transformed to a json via the `geopandas` and `json` packages above in section 3a. "
   ]
  },
  {
   "cell_type": "code",
   "execution_count": 26,
   "metadata": {},
   "outputs": [],
   "source": [
    "task = {\n",
    "    'task_type': task_type[1],\n",
    "    'task_name': task_name,\n",
    "    'params': {\n",
    "         'dates': [\n",
    "         {\n",
    "             'startDate': startDate,\n",
    "             'endDate': endDate\n",
    "         }],\n",
    "         'layers': prodLayer,\n",
    "         'output': {\n",
    "                 'format': {\n",
    "                         'type': outFormat[0]}, \n",
    "                         'projection': proj},\n",
    "         'geo': nps_gc,\n",
    "    }\n",
    "}"
   ]
  },
  {
   "cell_type": "markdown",
   "metadata": {},
   "source": [
    "***\n",
    "## 3d. Submit a Task Request [[Submit Task](https://lpdaacsvc.cr.usgs.gov/appeears/api/?language=Python%203#submit-task)]\n",
    "#### Below, post a call to the API task service, using the `task` json created above."
   ]
  },
  {
   "cell_type": "code",
   "execution_count": 27,
   "metadata": {},
   "outputs": [
    {
     "data": {
      "text/plain": [
       "{'task_id': '2c6e29a3-262a-448a-9887-ae0f5722282b', 'status': 'pending'}"
      ]
     },
     "execution_count": 27,
     "metadata": {},
     "output_type": "execute_result"
    }
   ],
   "source": [
    "task_response = r.post('{}task'.format(api), json=task, headers=head).json()  # Post json to the API task service, return response as json\n",
    "task_response                                                                 # Print task response"
   ]
  },
  {
   "cell_type": "markdown",
   "metadata": {},
   "source": [
    "***\n",
    "## 3e. Retrieve Task Status [[Retrieve Task](https://lpdaacsvc.cr.usgs.gov/appeears/api/?language=Python%203#retrieve-task)]\n",
    "#### This API call will list all of the requests associated with your user account, automatically sorted by date descending with the most recent requests listed first. "
   ]
  },
  {
   "cell_type": "markdown",
   "metadata": {},
   "source": [
    "#### The AρρEEARS API contains some helpful formatting resources. Below, limit the API response to 2 entries and set `pretty` to True to format the response as an organized json, making it easier to read. Additional information on AρρEEARS API [pagination](https://lpdaacsvc.cr.usgs.gov/appeears/api/?language=Python%203#pagination) and [formatting](https://lpdaacsvc.cr.usgs.gov/appeears/api/?language=Python%203#formatting) can be found in the API documentation. "
   ]
  },
  {
   "cell_type": "code",
   "execution_count": 28,
   "metadata": {},
   "outputs": [],
   "source": [
    "params = {'limit': 2, 'pretty': True} # Limit API response to 2 most recent entries, return as pretty json"
   ]
  },
  {
   "cell_type": "code",
   "execution_count": 29,
   "metadata": {},
   "outputs": [
    {
     "data": {
      "text/plain": [
       "[{'error': None,\n",
       "  'params': {'dates': [{'endDate': '07-31-2017', 'startDate': '07-01-2017'}],\n",
       "   'layers': [{'layer': 'LST_Day_1km', 'product': 'MOD11A2.006'},\n",
       "    {'layer': 'LST_Night_1km', 'product': 'MOD11A2.006'},\n",
       "    {'layer': 'Lai_500m', 'product': 'MCD15A3H.006'},\n",
       "    {'layer': 'SRTMGL1_DEM', 'product': 'SRTMGL1_NC.003'}],\n",
       "   'output': {'format': {'type': 'geotiff'}, 'projection': 'geographic'}},\n",
       "  'status': 'processing',\n",
       "  'created': '2020-04-28T18:45:14.197345',\n",
       "  'task_id': '2c6e29a3-262a-448a-9887-ae0f5722282b',\n",
       "  'updated': '2020-04-28T18:49:08.292185',\n",
       "  'user_id': 'appeears.testing@gmail.com',\n",
       "  'estimate': {'request_size': 196969757.51610887},\n",
       "  'retry_at': None,\n",
       "  'task_name': 'NPS Vegetation Area',\n",
       "  'task_type': 'area',\n",
       "  'api_version': 'v1',\n",
       "  'svc_version': '2.39',\n",
       "  'web_version': None,\n",
       "  'expires_on': '2020-05-28T18:49:08.292185'},\n",
       " {'params': {'dates': [{'endDate': '12-31-2017', 'startDate': '01-01-2017'}],\n",
       "   'layers': [{'layer': 'LST_Day_1km', 'product': 'MOD11A2.006'},\n",
       "    {'layer': 'LST_Night_1km', 'product': 'MOD11A2.006'},\n",
       "    {'layer': 'Lai_500m', 'product': 'MCD15A3H.006'}]},\n",
       "  'status': 'pending',\n",
       "  'created': '2020-04-28T18:27:32.969647',\n",
       "  'task_id': '18f9e5ca-06a3-4ef2-8e66-2149ddc44d44',\n",
       "  'updated': '2020-04-28T18:27:32.975751',\n",
       "  'user_id': 'appeears.testing@gmail.com',\n",
       "  'estimate': {'request_size': 272},\n",
       "  'task_name': 'NPS Vegetation',\n",
       "  'task_type': 'point',\n",
       "  'api_version': 'v1',\n",
       "  'svc_version': '2.39',\n",
       "  'web_version': None,\n",
       "  'expires_on': '2020-05-28T18:27:32.975751'}]"
      ]
     },
     "execution_count": 29,
     "metadata": {},
     "output_type": "execute_result"
    }
   ],
   "source": [
    "tasks_response = r.get('{}task'.format(api), params=params, headers=head).json() # Query task service, setting params and header \n",
    "tasks_response                                                                   # Print tasks response"
   ]
  },
  {
   "cell_type": "markdown",
   "metadata": {},
   "source": [
    "#### Next, take the task id returned from the `task_response` that was generated when submitting your request, and use the AρρEEARS API status service to check the status of your request."
   ]
  },
  {
   "cell_type": "code",
   "execution_count": 30,
   "metadata": {},
   "outputs": [
    {
     "data": {
      "text/plain": [
       "{'task_id': '2c6e29a3-262a-448a-9887-ae0f5722282b',\n",
       " 'updated': '2020-04-28T18:49:20.920000',\n",
       " 'user_id': 'appeears.testing@gmail.com',\n",
       " 'progress': {'details': [{'desc': 'Initializing',\n",
       "    'step': 1,\n",
       "    'pct_complete': 0},\n",
       "   {'desc': 'Downloading', 'step': 2, 'pct_complete': 0},\n",
       "   {'desc': 'Subsetting', 'step': 3, 'pct_complete': 0},\n",
       "   {'desc': 'Generating Files', 'step': 4, 'pct_complete': 0},\n",
       "   {'desc': 'Extracting Stats', 'step': 5, 'pct_complete': 0},\n",
       "   {'desc': 'Finalizing', 'step': 6, 'pct_complete': 0}],\n",
       "  'summary': 0},\n",
       " 'status_id': 'e9623851-ef94-4f3d-bf5f-78b9ddb2f6a0',\n",
       " 'status_type': 'task'}"
      ]
     },
     "execution_count": 30,
     "metadata": {},
     "output_type": "execute_result"
    }
   ],
   "source": [
    "task_id = task_response['task_id']                                               # Set task id from request submission\n",
    "status_response = r.get('{}status/{}'.format(api, task_id), headers=head).json() # Call status service with specific task ID & user credentials\n",
    "status_response                                                        "
   ]
  },
  {
   "cell_type": "markdown",
   "metadata": {},
   "source": [
    "#### Above, if your request is still processing, you can find information on the status of how close it is to completing. \n",
    "#### Below, call the task service for your request every 20 seconds to check the status of your request."
   ]
  },
  {
   "cell_type": "code",
   "execution_count": 31,
   "metadata": {},
   "outputs": [
    {
     "name": "stdout",
     "output_type": "stream",
     "text": [
      "processing\n",
      "processing\n",
      "processing\n",
      "done\n"
     ]
    }
   ],
   "source": [
    "# Ping API until request is complete, then continue to Section 4\n",
    "starttime = time.time()\n",
    "while r.get('{}task/{}'.format(api, task_id), headers=head).json()['status'] != 'done':\n",
    "    print(r.get('{}task/{}'.format(api, task_id), headers=head).json()['status'])\n",
    "    time.sleep(20.0 - ((time.time() - starttime) % 20.0))\n",
    "print(r.get('{}task/{}'.format(api, task_id), headers=head).json()['status'])"
   ]
  },
  {
   "cell_type": "markdown",
   "metadata": {},
   "source": [
    "***\n",
    "# 4. Download a Request [[Bundle API](https://lpdaacsvc.cr.usgs.gov/appeears/api/?language=Python%203#bundle)]\n",
    "#### Before downloading the request output, set up an output directory to store the output files, and examine the files contained in the request output. "
   ]
  },
  {
   "cell_type": "code",
   "execution_count": 32,
   "metadata": {},
   "outputs": [],
   "source": [
    "destDir = os.path.join(inDir, task_name)                # Set up output directory using input directory and task name\n",
    "if not os.path.exists(destDir):os.makedirs(destDir)     # Create the output directory"
   ]
  },
  {
   "cell_type": "markdown",
   "metadata": {},
   "source": [
    "---\n",
    "## 4a. Explore Files in Request Output [[List Files](https://lpdaacsvc.cr.usgs.gov/appeears/api/?language=Python%203#list-files)]\n",
    "#### The bundle API provides information about completed tasks. For any completed task, a bundle can be queried to return the files contained as a part of the task request. Below, call the bundle API and return all of the output files."
   ]
  },
  {
   "cell_type": "code",
   "execution_count": 33,
   "metadata": {
    "scrolled": true
   },
   "outputs": [
    {
     "data": {
      "text/plain": [
       "{'files': [{'sha256': '64287eaefa844410766f6400be442a220458cb06baa66afdf7c124861ada94de',\n",
       "   'file_id': '74a65cb6-fbfe-4dd4-aee4-3d225757c08d',\n",
       "   'file_name': 'MCD15A3H.006_2017179_to_2017212/MCD15A3H.006_Lai_500m_doy2017181_aid0001.tif',\n",
       "   'file_size': 13511,\n",
       "   'file_type': 'tif'},\n",
       "  {'sha256': '61d98140d71b2bce3cccb6af6ebb150905651ac79f3918bcd4c6269aadc9dc81',\n",
       "   'file_id': 'a73e01b9-05e9-4215-a3e2-b8917c8150fa',\n",
       "   'file_name': 'MCD15A3H.006_2017179_to_2017212/MCD15A3H.006_Lai_500m_doy2017185_aid0001.tif',\n",
       "   'file_size': 13430,\n",
       "   'file_type': 'tif'},\n",
       "  {'sha256': 'b3e2aefffc0b75c1211330cae71d6add77a0a49e4d66753450103e47a27336a4',\n",
       "   'file_id': '07a27810-4739-47cf-a65f-c4d8254c320f',\n",
       "   'file_name': 'MCD15A3H.006_2017179_to_2017212/MCD15A3H.006_Lai_500m_doy2017189_aid0001.tif',\n",
       "   'file_size': 13706,\n",
       "   'file_type': 'tif'},\n",
       "  {'sha256': '10d92a1091f9bac168cd48a88762cd9a367a131d3f6a29b6200e944f27cd70ff',\n",
       "   'file_id': '62af7444-f950-45ae-a907-c88e99716414',\n",
       "   'file_name': 'MCD15A3H.006_2017179_to_2017212/MCD15A3H.006_Lai_500m_doy2017193_aid0001.tif',\n",
       "   'file_size': 13955,\n",
       "   'file_type': 'tif'},\n",
       "  {'sha256': '1a19d2672c96065b50fdca9d5574df8ad1f514828425a36a6359d7d3eeaec9f2',\n",
       "   'file_id': '122b0da6-8f01-48de-b6dd-62d3e627501e',\n",
       "   'file_name': 'MCD15A3H.006_2017179_to_2017212/MCD15A3H.006_Lai_500m_doy2017197_aid0001.tif',\n",
       "   'file_size': 14178,\n",
       "   'file_type': 'tif'},\n",
       "  {'sha256': 'b4b5dc4b5f9b64be93472987a99f988d97af8d879dd0ee5f5dc3ef818444a836',\n",
       "   'file_id': '8ab4ae97-5e1d-4dcb-b60c-4f9600985964',\n",
       "   'file_name': 'MCD15A3H.006_2017179_to_2017212/MCD15A3H.006_Lai_500m_doy2017201_aid0001.tif',\n",
       "   'file_size': 14329,\n",
       "   'file_type': 'tif'},\n",
       "  {'sha256': '0bbb15476a2c6e47817b2e6d9a592bc853c2e96f3272dd6a439a3460e0b81595',\n",
       "   'file_id': '4cb851b4-e2e6-49e2-9499-1a1adcb2367d',\n",
       "   'file_name': 'MCD15A3H.006_2017179_to_2017212/MCD15A3H.006_Lai_500m_doy2017205_aid0001.tif',\n",
       "   'file_size': 13389,\n",
       "   'file_type': 'tif'},\n",
       "  {'sha256': '1424981436bdbd39409f1b60224e9af6d2bea9d71363d69762025b17eeef9748',\n",
       "   'file_id': '0186dead-163f-4b5e-b54d-87c8a924859e',\n",
       "   'file_name': 'MCD15A3H.006_2017179_to_2017212/MCD15A3H.006_Lai_500m_doy2017209_aid0001.tif',\n",
       "   'file_size': 13588,\n",
       "   'file_type': 'tif'},\n",
       "  {'sha256': '22de4f04c20daa5f5439f8d643f6f4ec6fd1a09e94ea05ce86d07ef25501d9fb',\n",
       "   'file_id': 'b8fddf95-9fad-4386-884a-4780a37a47a3',\n",
       "   'file_name': 'MCD15A3H.006_2017179_to_2017212/MCD15A3H.006_FparLai_QC_doy2017181_aid0001.tif',\n",
       "   'file_size': 8956,\n",
       "   'file_type': 'tif'},\n",
       "  {'sha256': 'caa891a3dde1b8bb6917e219b1b810836a48b77a5a74f74b2357d5fea1d75c62',\n",
       "   'file_id': '075375ac-0a15-4a68-86bd-5f4b9386c1e8',\n",
       "   'file_name': 'MCD15A3H.006_2017179_to_2017212/MCD15A3H.006_FparLai_QC_doy2017185_aid0001.tif',\n",
       "   'file_size': 9433,\n",
       "   'file_type': 'tif'},\n",
       "  {'sha256': 'dde9a9ba54a19e6c845fe04d6b7d92e29b984d56c2c2d916c857f1d18296e2dd',\n",
       "   'file_id': '44739ec2-cc48-4825-8b47-b541f4330c29',\n",
       "   'file_name': 'MCD15A3H.006_2017179_to_2017212/MCD15A3H.006_FparLai_QC_doy2017189_aid0001.tif',\n",
       "   'file_size': 9524,\n",
       "   'file_type': 'tif'},\n",
       "  {'sha256': '029db95b2f22b7fbd3ff3894baf9ff0c46c906747af221ab00d48c6cdd49c4c7',\n",
       "   'file_id': '23c07fca-45ed-43d8-8e78-e4ceca6d77b4',\n",
       "   'file_name': 'MCD15A3H.006_2017179_to_2017212/MCD15A3H.006_FparLai_QC_doy2017193_aid0001.tif',\n",
       "   'file_size': 9993,\n",
       "   'file_type': 'tif'},\n",
       "  {'sha256': '6cb158c6b69f0aa748b0922ec1841a4d5ac5d4a25a5035bca6bf7da0bced1d34',\n",
       "   'file_id': '825b9a6e-b1bb-4137-a60b-ae4d20e8c188',\n",
       "   'file_name': 'MCD15A3H.006_2017179_to_2017212/MCD15A3H.006_FparLai_QC_doy2017197_aid0001.tif',\n",
       "   'file_size': 8684,\n",
       "   'file_type': 'tif'},\n",
       "  {'sha256': '7a6a46eedd41a3235fc6b6b9091152d0d65d3179ceec393e925193e5404e74c6',\n",
       "   'file_id': 'd4d2bc11-8580-4d23-8d92-2e3f610656b5',\n",
       "   'file_name': 'MCD15A3H.006_2017179_to_2017212/MCD15A3H.006_FparLai_QC_doy2017201_aid0001.tif',\n",
       "   'file_size': 10744,\n",
       "   'file_type': 'tif'},\n",
       "  {'sha256': 'c6efb2040a0be927cd0d7e240f809b9ea0077d12fec2b0e30a172a6cf89d9155',\n",
       "   'file_id': '8cdbde28-cd5a-4991-9313-7ed31b2481d9',\n",
       "   'file_name': 'MCD15A3H.006_2017179_to_2017212/MCD15A3H.006_FparLai_QC_doy2017205_aid0001.tif',\n",
       "   'file_size': 10342,\n",
       "   'file_type': 'tif'},\n",
       "  {'sha256': '426bc731e9429c83ce5a3a04e56afa0314c52832036e7af5d372fd382a4f2c66',\n",
       "   'file_id': 'a9e363c1-d9c4-4ea0-a205-85d81db2c948',\n",
       "   'file_name': 'MCD15A3H.006_2017179_to_2017212/MCD15A3H.006_FparLai_QC_doy2017209_aid0001.tif',\n",
       "   'file_size': 11689,\n",
       "   'file_type': 'tif'},\n",
       "  {'sha256': 'a8b4b8ef72f1167f4f912a6eb35ba73ebc378dcddb142e28532c901972333edf',\n",
       "   'file_id': '4475f3de-032b-48df-ae48-494fe62326f5',\n",
       "   'file_name': 'MCD15A3H.006_2017179_to_2017212/MCD15A3H.006_FparExtra_QC_doy2017181_aid0001.tif',\n",
       "   'file_size': 9149,\n",
       "   'file_type': 'tif'},\n",
       "  {'sha256': '2b289f7e9ecf8e9075a921b51fdbabb27fa80f833aeee504e4cd605bfbd57fab',\n",
       "   'file_id': 'c07a86b1-6670-4a36-8a57-95d01391bbcc',\n",
       "   'file_name': 'MCD15A3H.006_2017179_to_2017212/MCD15A3H.006_FparExtra_QC_doy2017185_aid0001.tif',\n",
       "   'file_size': 10533,\n",
       "   'file_type': 'tif'},\n",
       "  {'sha256': '6415fb68fe8cce01a14901ee8a9ede48a7239020546bbd1b607048fd4baaa7e5',\n",
       "   'file_id': '8218ca07-7976-4cee-af6e-5e4576e8bee1',\n",
       "   'file_name': 'MCD15A3H.006_2017179_to_2017212/MCD15A3H.006_FparExtra_QC_doy2017189_aid0001.tif',\n",
       "   'file_size': 10475,\n",
       "   'file_type': 'tif'},\n",
       "  {'sha256': 'e60135e4d001df83c57e6a3743fe35beae4e36460e224f4186ad6c64e1efea9c',\n",
       "   'file_id': 'b1ac9d34-bb93-40ea-8361-e3354bd3e34d',\n",
       "   'file_name': 'MCD15A3H.006_2017179_to_2017212/MCD15A3H.006_FparExtra_QC_doy2017193_aid0001.tif',\n",
       "   'file_size': 11353,\n",
       "   'file_type': 'tif'},\n",
       "  {'sha256': '7f4acb8e977df1ea0cf2be060726dbd005f0b03b856292b5eaafc84db66013b4',\n",
       "   'file_id': '39c1db9d-a106-4af3-8fb8-365990abd6a2',\n",
       "   'file_name': 'MCD15A3H.006_2017179_to_2017212/MCD15A3H.006_FparExtra_QC_doy2017197_aid0001.tif',\n",
       "   'file_size': 11255,\n",
       "   'file_type': 'tif'},\n",
       "  {'sha256': 'cda73704484ec7213e1f93bc4e1da20c2d50cae9821eb87e21100f5649ccb6cb',\n",
       "   'file_id': '6a0511f8-5b79-4266-b996-77779b88ac16',\n",
       "   'file_name': 'MCD15A3H.006_2017179_to_2017212/MCD15A3H.006_FparExtra_QC_doy2017201_aid0001.tif',\n",
       "   'file_size': 12170,\n",
       "   'file_type': 'tif'},\n",
       "  {'sha256': 'f1de569a3c0c02236a77d8c846a84d5d55497b3059edaf46814c9a68867781de',\n",
       "   'file_id': '3b43c3b5-ae62-4a13-8997-9023ceee6ebf',\n",
       "   'file_name': 'MCD15A3H.006_2017179_to_2017212/MCD15A3H.006_FparExtra_QC_doy2017205_aid0001.tif',\n",
       "   'file_size': 11735,\n",
       "   'file_type': 'tif'},\n",
       "  {'sha256': 'a38c4dc6ff873faf80e754e7e02126adb93df91ceff6f6988eaf0e54a64a4b6f',\n",
       "   'file_id': '7f77015a-d3af-4835-a65e-9d270ca0cf25',\n",
       "   'file_name': 'MCD15A3H.006_2017179_to_2017212/MCD15A3H.006_FparExtra_QC_doy2017209_aid0001.tif',\n",
       "   'file_size': 12710,\n",
       "   'file_type': 'tif'},\n",
       "  {'sha256': 'a8d77aa17a0f6da39f16174213ff2603c57f466691960aaf126602373b5a52cb',\n",
       "   'file_id': '3e2bb46a-be5e-4d9b-8761-a193dca0cadd',\n",
       "   'file_name': 'MOD11A2.006_2017175_to_2017212/MOD11A2.006_LST_Day_1km_doy2017177_aid0001.tif',\n",
       "   'file_size': 20481,\n",
       "   'file_type': 'tif'},\n",
       "  {'sha256': 'c965ee94a3bf626d82f2dfaf308b61b72115069fb23d0dfc62c0da2c66406a67',\n",
       "   'file_id': 'd64b77da-862d-4760-bc8e-7befc6de4958',\n",
       "   'file_name': 'MOD11A2.006_2017175_to_2017212/MOD11A2.006_LST_Day_1km_doy2017185_aid0001.tif',\n",
       "   'file_size': 20664,\n",
       "   'file_type': 'tif'},\n",
       "  {'sha256': '036adcce40c04e2afe422644c8aaf203c983dcef2a9e36b7f0c056cd2dd58a93',\n",
       "   'file_id': '992ba6bf-27e7-4837-b3a4-82fc6e01c9a5',\n",
       "   'file_name': 'MOD11A2.006_2017175_to_2017212/MOD11A2.006_LST_Day_1km_doy2017193_aid0001.tif',\n",
       "   'file_size': 20844,\n",
       "   'file_type': 'tif'},\n",
       "  {'sha256': '1dc336d1e26997fed6d1c4de3919107e75101ca2ff2e3ce18d635641e7419608',\n",
       "   'file_id': '7b31f7f6-d240-4145-a0e4-31a419d3bd5a',\n",
       "   'file_name': 'MOD11A2.006_2017175_to_2017212/MOD11A2.006_LST_Day_1km_doy2017201_aid0001.tif',\n",
       "   'file_size': 20944,\n",
       "   'file_type': 'tif'},\n",
       "  {'sha256': '5cab6e321514c8f3add5c91b577dfacee06c3d13a063130075914f4f01c1ccc5',\n",
       "   'file_id': 'a3b6e57d-3c5d-4ccc-b5a3-6fd6f463a9cb',\n",
       "   'file_name': 'MOD11A2.006_2017175_to_2017212/MOD11A2.006_LST_Day_1km_doy2017209_aid0001.tif',\n",
       "   'file_size': 20993,\n",
       "   'file_type': 'tif'},\n",
       "  {'sha256': '435cc1b72f0e96d751c3a19f16a04493dcb6b548286b2968ca316919f8812362',\n",
       "   'file_id': 'f3fdc1d4-1b4e-4027-b528-138b195aee34',\n",
       "   'file_name': 'MOD11A2.006_2017175_to_2017212/MOD11A2.006_LST_Night_1km_doy2017177_aid0001.tif',\n",
       "   'file_size': 20758,\n",
       "   'file_type': 'tif'},\n",
       "  {'sha256': '1f8295096211e7751eb699e777437c5a201835fb5a6c2a7f6030491bdb06c57d',\n",
       "   'file_id': '61474797-4137-4b41-ac88-3b56401d536d',\n",
       "   'file_name': 'MOD11A2.006_2017175_to_2017212/MOD11A2.006_LST_Night_1km_doy2017185_aid0001.tif',\n",
       "   'file_size': 20882,\n",
       "   'file_type': 'tif'},\n",
       "  {'sha256': '947fd577427e473844f0aa557c70043bb06f314a900a769e8981a5a2c437cd7b',\n",
       "   'file_id': '9b5eb8fb-c72f-4dc3-919a-55cf0b8e0b7d',\n",
       "   'file_name': 'MOD11A2.006_2017175_to_2017212/MOD11A2.006_LST_Night_1km_doy2017193_aid0001.tif',\n",
       "   'file_size': 20832,\n",
       "   'file_type': 'tif'},\n",
       "  {'sha256': '1306d0da9645c8cd8e7629b37284d0646ce505d76a3254d1c5d99ae1f4d1b0ed',\n",
       "   'file_id': 'b7f1f5bf-b8d2-447a-a0f9-7e98a1f8063e',\n",
       "   'file_name': 'MOD11A2.006_2017175_to_2017212/MOD11A2.006_LST_Night_1km_doy2017201_aid0001.tif',\n",
       "   'file_size': 20691,\n",
       "   'file_type': 'tif'},\n",
       "  {'sha256': 'c52d84bbff96920fe070c11fb46ad8c83f5bc75d15be5ec4330360a454e82afa',\n",
       "   'file_id': '47438ee9-a71b-4773-9ddf-e6b359b2894a',\n",
       "   'file_name': 'MOD11A2.006_2017175_to_2017212/MOD11A2.006_LST_Night_1km_doy2017209_aid0001.tif',\n",
       "   'file_size': 20574,\n",
       "   'file_type': 'tif'},\n",
       "  {'sha256': '3442611d4b2370b3552e3561d3f8ded0c898bc61e246161a7f4b7c899fd22be2',\n",
       "   'file_id': '9a5591bb-b8f6-45e3-ab0c-daaa473a898e',\n",
       "   'file_name': 'MOD11A2.006_2017175_to_2017212/MOD11A2.006_QC_Day_doy2017177_aid0001.tif',\n",
       "   'file_size': 2414,\n",
       "   'file_type': 'tif'},\n",
       "  {'sha256': '933a08c149f3873f6f6e0337398f5998492c8d52e0caf681c39374dcb276f153',\n",
       "   'file_id': 'ed890c9b-3f5f-4100-bf61-6fb152c065a7',\n",
       "   'file_name': 'MOD11A2.006_2017175_to_2017212/MOD11A2.006_QC_Day_doy2017185_aid0001.tif',\n",
       "   'file_size': 2837,\n",
       "   'file_type': 'tif'},\n",
       "  {'sha256': '481f106913854fa7b6442fc19f705105971fe4f5392b6f01a72c67fd5557ab02',\n",
       "   'file_id': '83db2acc-9f3e-4a40-ba7b-77c67713841f',\n",
       "   'file_name': 'MOD11A2.006_2017175_to_2017212/MOD11A2.006_QC_Day_doy2017193_aid0001.tif',\n",
       "   'file_size': 2538,\n",
       "   'file_type': 'tif'},\n",
       "  {'sha256': 'd33633c31aade5eb062a8150cf1bce026fc1f3ee6eb48010314649835027bfc3',\n",
       "   'file_id': '0d1af98d-b766-473d-bc35-1195ebbcc105',\n",
       "   'file_name': 'MOD11A2.006_2017175_to_2017212/MOD11A2.006_QC_Day_doy2017201_aid0001.tif',\n",
       "   'file_size': 2894,\n",
       "   'file_type': 'tif'},\n",
       "  {'sha256': '89c21b49eb3c1d55ecf8af0b9054b6f37f34d02d70b54c802495e2f76ce79b0a',\n",
       "   'file_id': 'ce8d303c-3734-48a9-8291-10bb82f1ef95',\n",
       "   'file_name': 'MOD11A2.006_2017175_to_2017212/MOD11A2.006_QC_Day_doy2017209_aid0001.tif',\n",
       "   'file_size': 2990,\n",
       "   'file_type': 'tif'},\n",
       "  {'sha256': '1455174185f312a01a56addfd1eed3983c10241311e7477653b6c49d2caf10c1',\n",
       "   'file_id': 'bc6c66bc-eec1-4d9a-ad90-e83bdc64f066',\n",
       "   'file_name': 'MOD11A2.006_2017175_to_2017212/MOD11A2.006_QC_Night_doy2017177_aid0001.tif',\n",
       "   'file_size': 2192,\n",
       "   'file_type': 'tif'},\n",
       "  {'sha256': 'ac601e6891acf8251bd1353b3f84c910b16f4eb43fcbab3ad569e386356e1fa8',\n",
       "   'file_id': 'c55b948c-5243-4701-98d5-66f08fbbf8bf',\n",
       "   'file_name': 'MOD11A2.006_2017175_to_2017212/MOD11A2.006_QC_Night_doy2017185_aid0001.tif',\n",
       "   'file_size': 2306,\n",
       "   'file_type': 'tif'},\n",
       "  {'sha256': '9dfbaef652adde3ec65160917fbe0ff67f9ea6b81c6909397fd1e09ba0e85ea0',\n",
       "   'file_id': '1d2a866f-af29-40d0-9dd5-8893edef101f',\n",
       "   'file_name': 'MOD11A2.006_2017175_to_2017212/MOD11A2.006_QC_Night_doy2017193_aid0001.tif',\n",
       "   'file_size': 2728,\n",
       "   'file_type': 'tif'},\n",
       "  {'sha256': 'fe0759760c84a0594bf6c69f7a0b936cee6dda4334848ec6abaf816a62829563',\n",
       "   'file_id': 'bb741985-9ea3-4597-9b57-b8d542c33800',\n",
       "   'file_name': 'MOD11A2.006_2017175_to_2017212/MOD11A2.006_QC_Night_doy2017201_aid0001.tif',\n",
       "   'file_size': 2772,\n",
       "   'file_type': 'tif'},\n",
       "  {'sha256': '7fa520c65985020ad1944da57b0d8d46df73e57d7fb8b9db4669e7409c10e761',\n",
       "   'file_id': '7375ea13-074f-4bc7-87c0-0c39aed9053e',\n",
       "   'file_name': 'MOD11A2.006_2017175_to_2017212/MOD11A2.006_QC_Night_doy2017209_aid0001.tif',\n",
       "   'file_size': 2856,\n",
       "   'file_type': 'tif'},\n",
       "  {'sha256': '79d6acccd66f866c91a4cec862a6e558d927b1513185b64ce1e3cb482c17e4fd',\n",
       "   'file_id': '566b500c-6278-4cc2-a8d1-f518636201ea',\n",
       "   'file_name': 'SRTMGL1_NC.003_2000001_to_2020119/SRTMGL1_NC.003_SRTMGL1_DEM_doy2000042_aid0001.tif',\n",
       "   'file_size': 13874330,\n",
       "   'file_type': 'tif'},\n",
       "  {'sha256': '0fa295c8992a799dc0b73247ad19b2c1e97bb18584fe0582f2216820b33877bd',\n",
       "   'file_id': 'edef0905-7e14-47bf-be1c-4e2168f2685d',\n",
       "   'file_name': 'SRTMGL1_NUMNC.003_2000001_to_2020119/SRTMGL1_NUMNC.003_SRTMGL1_NUM_doy2000042_aid0001.tif',\n",
       "   'file_size': 2389821,\n",
       "   'file_type': 'tif'},\n",
       "  {'sha256': 'e62f9a6a8284ac1be7a2d1e07aa139727d90fa79149446abba6465c825dbf85e',\n",
       "   'file_id': '64959e7c-d35c-4767-a825-242ec85391d5',\n",
       "   'file_name': 'MCD15A3H-006-FparLai-QC-lookup.csv',\n",
       "   'file_size': 3939,\n",
       "   'file_type': 'csv'},\n",
       "  {'sha256': '88e341b6839e1d85a41b615ef9c380f58f9883d91109ef192fce8690feb6673b',\n",
       "   'file_id': '414f8021-3b47-4e13-a9c5-5507d7e4abe1',\n",
       "   'file_name': 'MCD15A3H-006-FparExtra-QC-lookup.csv',\n",
       "   'file_size': 4737,\n",
       "   'file_type': 'csv'},\n",
       "  {'sha256': 'f5ad5254fb2cd4e1c751bba66cb13d1ffa6bb699d9f24aa631caea95d844d8c6',\n",
       "   'file_id': 'e2e89e54-b8a0-4568-943e-4f412dad696b',\n",
       "   'file_name': 'MOD11A2-006-QC-Day-lookup.csv',\n",
       "   'file_size': 516,\n",
       "   'file_type': 'csv'},\n",
       "  {'sha256': '84265a384dcc629d7e4d37b1b92c784c396bfdd8211d2b030b21840621dbf211',\n",
       "   'file_id': '2346401f-29f5-4d9c-bf22-31ba578ab737',\n",
       "   'file_name': 'MOD11A2-006-QC-Night-lookup.csv',\n",
       "   'file_size': 631,\n",
       "   'file_type': 'csv'},\n",
       "  {'sha256': 'e712cb891b6844c15eeda5cad9912c60fc6fd6426a229356622ad11be2ab4f0f',\n",
       "   'file_id': 'c3e3ed00-9366-4f65-b16d-b7ec9f4b243b',\n",
       "   'file_name': 'SRTMGL1-NUMNC-003-SRTMGL1-NUM-lookup.csv',\n",
       "   'file_size': 1542,\n",
       "   'file_type': 'csv'},\n",
       "  {'sha256': '595588d38b6ebb1383080eb0b20f1f244b8516f5b8c33daf9d7d430186cf1d59',\n",
       "   'file_id': 'daa4de51-259d-401e-bad8-0539e6c34abf',\n",
       "   'file_name': 'MCD15A3H-006-FparLai-QC-Statistics-QA.csv',\n",
       "   'file_size': 912,\n",
       "   'file_type': 'csv'},\n",
       "  {'sha256': '4ce4394c42ecdfda48d0621645f9c1cec93f69e244c9a82118e22c26b114383c',\n",
       "   'file_id': '9b6ce8ee-a5df-45c3-945d-cf6ea887fdea',\n",
       "   'file_name': 'MCD15A3H-006-FparExtra-QC-Statistics-QA.csv',\n",
       "   'file_size': 1093,\n",
       "   'file_type': 'csv'},\n",
       "  {'sha256': 'df22a5f731d3b8ebc839d9127c6ae858f28ce9108ff0b22ca2a82f433f4400aa',\n",
       "   'file_id': '6503b05d-461c-4f40-a94b-a73846533714',\n",
       "   'file_name': 'MOD11A2-006-QC-Day-Statistics-QA.csv',\n",
       "   'file_size': 305,\n",
       "   'file_type': 'csv'},\n",
       "  {'sha256': '305ff2e43ea91991a7d7d6fe43c8e2870ddad64ba42be2e794cce9b935fea923',\n",
       "   'file_id': '9ab88bd2-4764-46d5-a16a-c74e21e85596',\n",
       "   'file_name': 'MOD11A2-006-QC-Night-Statistics-QA.csv',\n",
       "   'file_size': 328,\n",
       "   'file_type': 'csv'},\n",
       "  {'sha256': 'aef8909e6c8b117bfcf715f4904939caf4317ba39ea9a8a6573d76934eb451b6',\n",
       "   'file_id': 'c446cdc6-26fc-4c10-b851-019d018c3246',\n",
       "   'file_name': 'SRTMGL1-NUMNC-003-SRTMGL1-NUM-Statistics-QA.csv',\n",
       "   'file_size': 552,\n",
       "   'file_type': 'csv'},\n",
       "  {'sha256': 'd88970a8a643e1fcae65ae1e5640d585795a385b68fc3336e131ba3b721bfe93',\n",
       "   'file_id': 'fe1f62bd-9590-4c95-a704-afe8c4dcfa24',\n",
       "   'file_name': 'MCD15A3H-006-Statistics.csv',\n",
       "   'file_size': 1251,\n",
       "   'file_type': 'csv'},\n",
       "  {'sha256': 'b807d7efdfb6f572c1daeac9b7b70a49ac2aae96d551eba61eea0a8309c56e6c',\n",
       "   'file_id': '53f8414a-2815-4302-92b1-f486398f851a',\n",
       "   'file_name': 'MOD11A2-006-Statistics.csv',\n",
       "   'file_size': 1860,\n",
       "   'file_type': 'csv'},\n",
       "  {'sha256': '8575912cdf419539b0c6263888e074faf9f43aa4213df0dcf7578a8d208cd7bd',\n",
       "   'file_id': 'b7fc8225-274e-414f-9d4d-6ef671f225bd',\n",
       "   'file_name': 'SRTMGL1-NC-003-Statistics.csv',\n",
       "   'file_size': 335,\n",
       "   'file_type': 'csv'},\n",
       "  {'sha256': '1db1f9792ba045db344656a65a54afe1349e94714be7e1e10216147ff3da7c2e',\n",
       "   'file_id': '06950fc0-f8b7-48f4-b0d6-f704bbe97b6e',\n",
       "   'file_name': 'NPS-Vegetation-Area-granule-list.txt',\n",
       "   'file_size': 4574,\n",
       "   'file_type': 'txt'},\n",
       "  {'sha256': 'a518aa3cba8a88c2cec093869ae373e1699d8e523805b0a20dfb2d294c0546ee',\n",
       "   'file_id': '830bff87-ff48-478f-9937-5da204c02ca7',\n",
       "   'file_name': 'NPS-Vegetation-Area-request.json',\n",
       "   'file_size': 13614045,\n",
       "   'file_type': 'json'},\n",
       "  {'sha256': '66079538a89f8d5236f7a00514facacf48bc07536125f8e31331d14316938ba2',\n",
       "   'file_id': '2f653148-fc7d-4bb1-9402-f18e9392c5e2',\n",
       "   'file_name': 'NPS-Vegetation-Area-MCD15A3H-006-metadata.xml',\n",
       "   'file_size': 22169,\n",
       "   'file_type': 'xml'},\n",
       "  {'sha256': 'c174e8165646131933719d2e0308399dde77102b9ff4dd269cbd500d3b887eb0',\n",
       "   'file_id': '8f0be1d3-880d-4709-acd9-5141b3839246',\n",
       "   'file_name': 'NPS-Vegetation-Area-MOD11A2-006-metadata.xml',\n",
       "   'file_size': 22133,\n",
       "   'file_type': 'xml'},\n",
       "  {'sha256': 'd86e28f1a3105f71302ddeba5ff75e72f21812e51cae9f872597b7c8dd3d9e5b',\n",
       "   'file_id': '04a0e3fe-01f3-448c-b3ef-c0276b588946',\n",
       "   'file_name': 'NPS-Vegetation-Area-SRTMGL1-NC-003-metadata.xml',\n",
       "   'file_size': 22085,\n",
       "   'file_type': 'xml'},\n",
       "  {'sha256': '34e426464fff07c719f144d33291cd3894673775f0c38b0486ffffaabb99ce72',\n",
       "   'file_id': '99ed43f8-916d-49af-897e-1abcddc6b67b',\n",
       "   'file_name': 'README.txt',\n",
       "   'file_size': 25013,\n",
       "   'file_type': 'txt'}],\n",
       " 'created': '2020-04-28T18:49:52.000065',\n",
       " 'task_id': '2c6e29a3-262a-448a-9887-ae0f5722282b',\n",
       " 'updated': '2020-04-28T18:51:28.428289',\n",
       " 'bundle_type': 'area'}"
      ]
     },
     "execution_count": 33,
     "metadata": {},
     "output_type": "execute_result"
    }
   ],
   "source": [
    "bundle = r.get('{}bundle/{}'.format(api,task_id)).json()  # Call API and return bundle contents for the task_id as json\n",
    "bundle                                                    # Print bundle contents"
   ]
  },
  {
   "cell_type": "markdown",
   "metadata": {},
   "source": [
    "***\n",
    "## 4b. Download Files in a Request (Automation) [[Download File](https://lpdaacsvc.cr.usgs.gov/appeears/api/?language=Python%203#download-file)]\n",
    "#### Now, use the contents of the bundle to select the file name and id and store as a dictionary. "
   ]
  },
  {
   "cell_type": "code",
   "execution_count": 34,
   "metadata": {},
   "outputs": [
    {
     "data": {
      "text/plain": [
       "{'74a65cb6-fbfe-4dd4-aee4-3d225757c08d': 'MCD15A3H.006_2017179_to_2017212/MCD15A3H.006_Lai_500m_doy2017181_aid0001.tif',\n",
       " 'a73e01b9-05e9-4215-a3e2-b8917c8150fa': 'MCD15A3H.006_2017179_to_2017212/MCD15A3H.006_Lai_500m_doy2017185_aid0001.tif',\n",
       " '07a27810-4739-47cf-a65f-c4d8254c320f': 'MCD15A3H.006_2017179_to_2017212/MCD15A3H.006_Lai_500m_doy2017189_aid0001.tif',\n",
       " '62af7444-f950-45ae-a907-c88e99716414': 'MCD15A3H.006_2017179_to_2017212/MCD15A3H.006_Lai_500m_doy2017193_aid0001.tif',\n",
       " '122b0da6-8f01-48de-b6dd-62d3e627501e': 'MCD15A3H.006_2017179_to_2017212/MCD15A3H.006_Lai_500m_doy2017197_aid0001.tif',\n",
       " '8ab4ae97-5e1d-4dcb-b60c-4f9600985964': 'MCD15A3H.006_2017179_to_2017212/MCD15A3H.006_Lai_500m_doy2017201_aid0001.tif',\n",
       " '4cb851b4-e2e6-49e2-9499-1a1adcb2367d': 'MCD15A3H.006_2017179_to_2017212/MCD15A3H.006_Lai_500m_doy2017205_aid0001.tif',\n",
       " '0186dead-163f-4b5e-b54d-87c8a924859e': 'MCD15A3H.006_2017179_to_2017212/MCD15A3H.006_Lai_500m_doy2017209_aid0001.tif',\n",
       " 'b8fddf95-9fad-4386-884a-4780a37a47a3': 'MCD15A3H.006_2017179_to_2017212/MCD15A3H.006_FparLai_QC_doy2017181_aid0001.tif',\n",
       " '075375ac-0a15-4a68-86bd-5f4b9386c1e8': 'MCD15A3H.006_2017179_to_2017212/MCD15A3H.006_FparLai_QC_doy2017185_aid0001.tif',\n",
       " '44739ec2-cc48-4825-8b47-b541f4330c29': 'MCD15A3H.006_2017179_to_2017212/MCD15A3H.006_FparLai_QC_doy2017189_aid0001.tif',\n",
       " '23c07fca-45ed-43d8-8e78-e4ceca6d77b4': 'MCD15A3H.006_2017179_to_2017212/MCD15A3H.006_FparLai_QC_doy2017193_aid0001.tif',\n",
       " '825b9a6e-b1bb-4137-a60b-ae4d20e8c188': 'MCD15A3H.006_2017179_to_2017212/MCD15A3H.006_FparLai_QC_doy2017197_aid0001.tif',\n",
       " 'd4d2bc11-8580-4d23-8d92-2e3f610656b5': 'MCD15A3H.006_2017179_to_2017212/MCD15A3H.006_FparLai_QC_doy2017201_aid0001.tif',\n",
       " '8cdbde28-cd5a-4991-9313-7ed31b2481d9': 'MCD15A3H.006_2017179_to_2017212/MCD15A3H.006_FparLai_QC_doy2017205_aid0001.tif',\n",
       " 'a9e363c1-d9c4-4ea0-a205-85d81db2c948': 'MCD15A3H.006_2017179_to_2017212/MCD15A3H.006_FparLai_QC_doy2017209_aid0001.tif',\n",
       " '4475f3de-032b-48df-ae48-494fe62326f5': 'MCD15A3H.006_2017179_to_2017212/MCD15A3H.006_FparExtra_QC_doy2017181_aid0001.tif',\n",
       " 'c07a86b1-6670-4a36-8a57-95d01391bbcc': 'MCD15A3H.006_2017179_to_2017212/MCD15A3H.006_FparExtra_QC_doy2017185_aid0001.tif',\n",
       " '8218ca07-7976-4cee-af6e-5e4576e8bee1': 'MCD15A3H.006_2017179_to_2017212/MCD15A3H.006_FparExtra_QC_doy2017189_aid0001.tif',\n",
       " 'b1ac9d34-bb93-40ea-8361-e3354bd3e34d': 'MCD15A3H.006_2017179_to_2017212/MCD15A3H.006_FparExtra_QC_doy2017193_aid0001.tif',\n",
       " '39c1db9d-a106-4af3-8fb8-365990abd6a2': 'MCD15A3H.006_2017179_to_2017212/MCD15A3H.006_FparExtra_QC_doy2017197_aid0001.tif',\n",
       " '6a0511f8-5b79-4266-b996-77779b88ac16': 'MCD15A3H.006_2017179_to_2017212/MCD15A3H.006_FparExtra_QC_doy2017201_aid0001.tif',\n",
       " '3b43c3b5-ae62-4a13-8997-9023ceee6ebf': 'MCD15A3H.006_2017179_to_2017212/MCD15A3H.006_FparExtra_QC_doy2017205_aid0001.tif',\n",
       " '7f77015a-d3af-4835-a65e-9d270ca0cf25': 'MCD15A3H.006_2017179_to_2017212/MCD15A3H.006_FparExtra_QC_doy2017209_aid0001.tif',\n",
       " '3e2bb46a-be5e-4d9b-8761-a193dca0cadd': 'MOD11A2.006_2017175_to_2017212/MOD11A2.006_LST_Day_1km_doy2017177_aid0001.tif',\n",
       " 'd64b77da-862d-4760-bc8e-7befc6de4958': 'MOD11A2.006_2017175_to_2017212/MOD11A2.006_LST_Day_1km_doy2017185_aid0001.tif',\n",
       " '992ba6bf-27e7-4837-b3a4-82fc6e01c9a5': 'MOD11A2.006_2017175_to_2017212/MOD11A2.006_LST_Day_1km_doy2017193_aid0001.tif',\n",
       " '7b31f7f6-d240-4145-a0e4-31a419d3bd5a': 'MOD11A2.006_2017175_to_2017212/MOD11A2.006_LST_Day_1km_doy2017201_aid0001.tif',\n",
       " 'a3b6e57d-3c5d-4ccc-b5a3-6fd6f463a9cb': 'MOD11A2.006_2017175_to_2017212/MOD11A2.006_LST_Day_1km_doy2017209_aid0001.tif',\n",
       " 'f3fdc1d4-1b4e-4027-b528-138b195aee34': 'MOD11A2.006_2017175_to_2017212/MOD11A2.006_LST_Night_1km_doy2017177_aid0001.tif',\n",
       " '61474797-4137-4b41-ac88-3b56401d536d': 'MOD11A2.006_2017175_to_2017212/MOD11A2.006_LST_Night_1km_doy2017185_aid0001.tif',\n",
       " '9b5eb8fb-c72f-4dc3-919a-55cf0b8e0b7d': 'MOD11A2.006_2017175_to_2017212/MOD11A2.006_LST_Night_1km_doy2017193_aid0001.tif',\n",
       " 'b7f1f5bf-b8d2-447a-a0f9-7e98a1f8063e': 'MOD11A2.006_2017175_to_2017212/MOD11A2.006_LST_Night_1km_doy2017201_aid0001.tif',\n",
       " '47438ee9-a71b-4773-9ddf-e6b359b2894a': 'MOD11A2.006_2017175_to_2017212/MOD11A2.006_LST_Night_1km_doy2017209_aid0001.tif',\n",
       " '9a5591bb-b8f6-45e3-ab0c-daaa473a898e': 'MOD11A2.006_2017175_to_2017212/MOD11A2.006_QC_Day_doy2017177_aid0001.tif',\n",
       " 'ed890c9b-3f5f-4100-bf61-6fb152c065a7': 'MOD11A2.006_2017175_to_2017212/MOD11A2.006_QC_Day_doy2017185_aid0001.tif',\n",
       " '83db2acc-9f3e-4a40-ba7b-77c67713841f': 'MOD11A2.006_2017175_to_2017212/MOD11A2.006_QC_Day_doy2017193_aid0001.tif',\n",
       " '0d1af98d-b766-473d-bc35-1195ebbcc105': 'MOD11A2.006_2017175_to_2017212/MOD11A2.006_QC_Day_doy2017201_aid0001.tif',\n",
       " 'ce8d303c-3734-48a9-8291-10bb82f1ef95': 'MOD11A2.006_2017175_to_2017212/MOD11A2.006_QC_Day_doy2017209_aid0001.tif',\n",
       " 'bc6c66bc-eec1-4d9a-ad90-e83bdc64f066': 'MOD11A2.006_2017175_to_2017212/MOD11A2.006_QC_Night_doy2017177_aid0001.tif',\n",
       " 'c55b948c-5243-4701-98d5-66f08fbbf8bf': 'MOD11A2.006_2017175_to_2017212/MOD11A2.006_QC_Night_doy2017185_aid0001.tif',\n",
       " '1d2a866f-af29-40d0-9dd5-8893edef101f': 'MOD11A2.006_2017175_to_2017212/MOD11A2.006_QC_Night_doy2017193_aid0001.tif',\n",
       " 'bb741985-9ea3-4597-9b57-b8d542c33800': 'MOD11A2.006_2017175_to_2017212/MOD11A2.006_QC_Night_doy2017201_aid0001.tif',\n",
       " '7375ea13-074f-4bc7-87c0-0c39aed9053e': 'MOD11A2.006_2017175_to_2017212/MOD11A2.006_QC_Night_doy2017209_aid0001.tif',\n",
       " '566b500c-6278-4cc2-a8d1-f518636201ea': 'SRTMGL1_NC.003_2000001_to_2020119/SRTMGL1_NC.003_SRTMGL1_DEM_doy2000042_aid0001.tif',\n",
       " 'edef0905-7e14-47bf-be1c-4e2168f2685d': 'SRTMGL1_NUMNC.003_2000001_to_2020119/SRTMGL1_NUMNC.003_SRTMGL1_NUM_doy2000042_aid0001.tif',\n",
       " '64959e7c-d35c-4767-a825-242ec85391d5': 'MCD15A3H-006-FparLai-QC-lookup.csv',\n",
       " '414f8021-3b47-4e13-a9c5-5507d7e4abe1': 'MCD15A3H-006-FparExtra-QC-lookup.csv',\n",
       " 'e2e89e54-b8a0-4568-943e-4f412dad696b': 'MOD11A2-006-QC-Day-lookup.csv',\n",
       " '2346401f-29f5-4d9c-bf22-31ba578ab737': 'MOD11A2-006-QC-Night-lookup.csv',\n",
       " 'c3e3ed00-9366-4f65-b16d-b7ec9f4b243b': 'SRTMGL1-NUMNC-003-SRTMGL1-NUM-lookup.csv',\n",
       " 'daa4de51-259d-401e-bad8-0539e6c34abf': 'MCD15A3H-006-FparLai-QC-Statistics-QA.csv',\n",
       " '9b6ce8ee-a5df-45c3-945d-cf6ea887fdea': 'MCD15A3H-006-FparExtra-QC-Statistics-QA.csv',\n",
       " '6503b05d-461c-4f40-a94b-a73846533714': 'MOD11A2-006-QC-Day-Statistics-QA.csv',\n",
       " '9ab88bd2-4764-46d5-a16a-c74e21e85596': 'MOD11A2-006-QC-Night-Statistics-QA.csv',\n",
       " 'c446cdc6-26fc-4c10-b851-019d018c3246': 'SRTMGL1-NUMNC-003-SRTMGL1-NUM-Statistics-QA.csv',\n",
       " 'fe1f62bd-9590-4c95-a704-afe8c4dcfa24': 'MCD15A3H-006-Statistics.csv',\n",
       " '53f8414a-2815-4302-92b1-f486398f851a': 'MOD11A2-006-Statistics.csv',\n",
       " 'b7fc8225-274e-414f-9d4d-6ef671f225bd': 'SRTMGL1-NC-003-Statistics.csv',\n",
       " '06950fc0-f8b7-48f4-b0d6-f704bbe97b6e': 'NPS-Vegetation-Area-granule-list.txt',\n",
       " '830bff87-ff48-478f-9937-5da204c02ca7': 'NPS-Vegetation-Area-request.json',\n",
       " '2f653148-fc7d-4bb1-9402-f18e9392c5e2': 'NPS-Vegetation-Area-MCD15A3H-006-metadata.xml',\n",
       " '8f0be1d3-880d-4709-acd9-5141b3839246': 'NPS-Vegetation-Area-MOD11A2-006-metadata.xml',\n",
       " '04a0e3fe-01f3-448c-b3ef-c0276b588946': 'NPS-Vegetation-Area-SRTMGL1-NC-003-metadata.xml',\n",
       " '99ed43f8-916d-49af-897e-1abcddc6b67b': 'README.txt'}"
      ]
     },
     "execution_count": 34,
     "metadata": {},
     "output_type": "execute_result"
    }
   ],
   "source": [
    "files = {}                                                       # Create empty dictionary\n",
    "for f in bundle['files']: files[f['file_id']] = f['file_name']   # Fill dictionary with file_id as keys and file_name as values\n",
    "files    "
   ]
  },
  {
   "cell_type": "markdown",
   "metadata": {},
   "source": [
    "#### Use the `files` dictionary and a `for` loop to automate downloading all of the output files into the output directory. "
   ]
  },
  {
   "cell_type": "code",
   "execution_count": 35,
   "metadata": {},
   "outputs": [
    {
     "name": "stdout",
     "output_type": "stream",
     "text": [
      "Downloaded files can be found at: D:/appeears-api-getting-started/NPS Vegetation Area\n"
     ]
    }
   ],
   "source": [
    "for f in files:\n",
    "    dl = r.get('{}bundle/{}/{}'.format(api, task_id, f), stream=True)                                # Get a stream to the bundle file\n",
    "    filename = os.path.basename(cgi.parse_header(dl.headers['Content-Disposition'])[1]['filename'])  # Parse the name from Content-Disposition header \n",
    "    filepath = os.path.join(destDir, filename)                                                       # Create output file path\n",
    "    with open(filepath, 'wb') as f:                                                                  # Write file to dest dir\n",
    "        for data in dl.iter_content(chunk_size=8192): f.write(data) \n",
    "print('Downloaded files can be found at: {}'.format(destDir))"
   ]
  },
  {
   "cell_type": "markdown",
   "metadata": {},
   "source": [
    "***\n",
    "# 5. Explore AρρEEARS Quality Service [[Quality API](https://lpdaacsvc.cr.usgs.gov/appeears/api/?language=Python%203#quality)]\n",
    "#### The quality API provides quality details about all of the data products available in AρρEEARS. Below are examples of how to query the quality API for listing quality products, layers, and values. The final example (Section 5c.) demonstrates how AρρEEARS quality services can be leveraged to decode pertinent quality values for your data.\n",
    "#### First, reset pagination to include `offset` which allows you to set the number of results to skip before starting to return entries. Next, make a call to list all of the data product layers and the associated quality product and layer information."
   ]
  },
  {
   "cell_type": "code",
   "execution_count": 36,
   "metadata": {},
   "outputs": [
    {
     "data": {
      "text/plain": [
       "[{'ProductAndVersion': 'CU_LT05.001',\n",
       "  'Layer': 'SRB1',\n",
       "  'QualityProductAndVersion': 'CU_LT05.001',\n",
       "  'QualityLayers': ['PIXELQA']},\n",
       " {'ProductAndVersion': 'CU_LT05.001',\n",
       "  'Layer': 'SRB2',\n",
       "  'QualityProductAndVersion': 'CU_LT05.001',\n",
       "  'QualityLayers': ['PIXELQA']},\n",
       " {'ProductAndVersion': 'CU_LT05.001',\n",
       "  'Layer': 'SRB3',\n",
       "  'QualityProductAndVersion': 'CU_LT05.001',\n",
       "  'QualityLayers': ['PIXELQA']},\n",
       " {'ProductAndVersion': 'CU_LT05.001',\n",
       "  'Layer': 'SRB4',\n",
       "  'QualityProductAndVersion': 'CU_LT05.001',\n",
       "  'QualityLayers': ['PIXELQA']},\n",
       " {'ProductAndVersion': 'CU_LT05.001',\n",
       "  'Layer': 'SRB5',\n",
       "  'QualityProductAndVersion': 'CU_LT05.001',\n",
       "  'QualityLayers': ['PIXELQA']},\n",
       " {'ProductAndVersion': 'CU_LT05.001',\n",
       "  'Layer': 'SRB7',\n",
       "  'QualityProductAndVersion': 'CU_LT05.001',\n",
       "  'QualityLayers': ['PIXELQA']}]"
      ]
     },
     "execution_count": 36,
     "metadata": {},
     "output_type": "execute_result"
    }
   ],
   "source": [
    "params = {'limit': 6, 'pretty': True, 'offset': 20}                     # Limit response to 6 entries, start w/ 20th entry, return pretty json\n",
    "quality_response = r.get('{}quality'.format(api), params=params).json() # Call quality API using pagination and return json\n",
    "quality_response                                                        # Print response"
   ]
  },
  {
   "cell_type": "markdown",
   "metadata": {},
   "source": [
    "---\n",
    "## 5a. List Quality Layers [[List Quality Layers](https://lpdaacsvc.cr.usgs.gov/appeears/api/?language=Python%203#list-quality-layers)]\n",
    "#### This API call will list all of the quality layer information for a product."
   ]
  },
  {
   "cell_type": "code",
   "execution_count": 37,
   "metadata": {},
   "outputs": [
    {
     "data": {
      "text/plain": [
       "[{'ProductAndVersion': 'MCD15A3H.006',\n",
       "  'Layer': 'Fpar_500m',\n",
       "  'QualityProductAndVersion': 'MCD15A3H.006',\n",
       "  'QualityLayers': ['FparLai_QC', 'FparExtra_QC']},\n",
       " {'ProductAndVersion': 'MCD15A3H.006',\n",
       "  'Layer': 'FparStdDev_500m',\n",
       "  'QualityProductAndVersion': 'MCD15A3H.006',\n",
       "  'QualityLayers': ['FparLai_QC', 'FparExtra_QC']},\n",
       " {'ProductAndVersion': 'MCD15A3H.006',\n",
       "  'Layer': 'Lai_500m',\n",
       "  'QualityProductAndVersion': 'MCD15A3H.006',\n",
       "  'QualityLayers': ['FparLai_QC', 'FparExtra_QC']},\n",
       " {'ProductAndVersion': 'MCD15A3H.006',\n",
       "  'Layer': 'LaiStdDev_500m',\n",
       "  'QualityProductAndVersion': 'MCD15A3H.006',\n",
       "  'QualityLayers': ['FparLai_QC', 'FparExtra_QC']}]"
      ]
     },
     "execution_count": 37,
     "metadata": {},
     "output_type": "execute_result"
    }
   ],
   "source": [
    "product = 'MCD15A3H.006'                                        # Product used in the example\n",
    "ql_response = r.get('{}quality/{}'.format(api,product)).json()  # Call API to retrieve quality layers for selected product\n",
    "ql_response                                                     # Print response"
   ]
  },
  {
   "cell_type": "markdown",
   "metadata": {},
   "source": [
    "---\n",
    "## 5b. Show Quality Values [[List Quality Values](https://lpdaacsvc.cr.usgs.gov/appeears/api/?language=Python%203#list-quality-values)]\n",
    "#### This API call will list all of the values for a given quality layer."
   ]
  },
  {
   "cell_type": "code",
   "execution_count": 38,
   "metadata": {},
   "outputs": [
    {
     "data": {
      "text/plain": [
       "[{'ProductAndVersion': 'MCD15A3H.006',\n",
       "  'QualityLayer': 'FparLai_QC',\n",
       "  'Name': 'MODLAND',\n",
       "  'Value': 0,\n",
       "  'Description': 'Good quality (main algorithm with or without saturation)',\n",
       "  'Acceptable': True},\n",
       " {'ProductAndVersion': 'MCD15A3H.006',\n",
       "  'QualityLayer': 'FparLai_QC',\n",
       "  'Name': 'MODLAND',\n",
       "  'Value': 1,\n",
       "  'Description': 'Other Quality (back-up algorithm or fill values)',\n",
       "  'Acceptable': False},\n",
       " {'ProductAndVersion': 'MCD15A3H.006',\n",
       "  'QualityLayer': 'FparLai_QC',\n",
       "  'Name': 'Sensor',\n",
       "  'Value': 0,\n",
       "  'Description': 'Terra',\n",
       "  'Acceptable': None},\n",
       " {'ProductAndVersion': 'MCD15A3H.006',\n",
       "  'QualityLayer': 'FparLai_QC',\n",
       "  'Name': 'Sensor',\n",
       "  'Value': 1,\n",
       "  'Description': 'Aqua',\n",
       "  'Acceptable': None},\n",
       " {'ProductAndVersion': 'MCD15A3H.006',\n",
       "  'QualityLayer': 'FparLai_QC',\n",
       "  'Name': 'DeadDetector',\n",
       "  'Value': 0,\n",
       "  'Description': 'Detectors apparently fine for up to 50% of channels 1, 2',\n",
       "  'Acceptable': None},\n",
       " {'ProductAndVersion': 'MCD15A3H.006',\n",
       "  'QualityLayer': 'FparLai_QC',\n",
       "  'Name': 'DeadDetector',\n",
       "  'Value': 1,\n",
       "  'Description': 'Dead detectors caused >50% adjacent detector retrieval',\n",
       "  'Acceptable': None},\n",
       " {'ProductAndVersion': 'MCD15A3H.006',\n",
       "  'QualityLayer': 'FparLai_QC',\n",
       "  'Name': 'CloudState',\n",
       "  'Value': 0,\n",
       "  'Description': 'Significant clouds NOT present (clear)',\n",
       "  'Acceptable': None},\n",
       " {'ProductAndVersion': 'MCD15A3H.006',\n",
       "  'QualityLayer': 'FparLai_QC',\n",
       "  'Name': 'CloudState',\n",
       "  'Value': 1,\n",
       "  'Description': 'Significant clouds WERE present',\n",
       "  'Acceptable': None},\n",
       " {'ProductAndVersion': 'MCD15A3H.006',\n",
       "  'QualityLayer': 'FparLai_QC',\n",
       "  'Name': 'CloudState',\n",
       "  'Value': 2,\n",
       "  'Description': 'Mixed cloud present in pixel',\n",
       "  'Acceptable': None},\n",
       " {'ProductAndVersion': 'MCD15A3H.006',\n",
       "  'QualityLayer': 'FparLai_QC',\n",
       "  'Name': 'CloudState',\n",
       "  'Value': 3,\n",
       "  'Description': 'Cloud state not defined, assumed clear',\n",
       "  'Acceptable': None},\n",
       " {'ProductAndVersion': 'MCD15A3H.006',\n",
       "  'QualityLayer': 'FparLai_QC',\n",
       "  'Name': 'SCF_QC',\n",
       "  'Value': 0,\n",
       "  'Description': 'Main (RT) method used, best result possible (no saturation)',\n",
       "  'Acceptable': None},\n",
       " {'ProductAndVersion': 'MCD15A3H.006',\n",
       "  'QualityLayer': 'FparLai_QC',\n",
       "  'Name': 'SCF_QC',\n",
       "  'Value': 1,\n",
       "  'Description': 'Main (RT) method used with saturation. Good, very usable',\n",
       "  'Acceptable': None},\n",
       " {'ProductAndVersion': 'MCD15A3H.006',\n",
       "  'QualityLayer': 'FparLai_QC',\n",
       "  'Name': 'SCF_QC',\n",
       "  'Value': 2,\n",
       "  'Description': 'Main (RT) method failed due to bad geometry, empirical algorithm used',\n",
       "  'Acceptable': None},\n",
       " {'ProductAndVersion': 'MCD15A3H.006',\n",
       "  'QualityLayer': 'FparLai_QC',\n",
       "  'Name': 'SCF_QC',\n",
       "  'Value': 3,\n",
       "  'Description': 'Main (RT) method failed due to problems other than geometry, empirical algorithm used',\n",
       "  'Acceptable': None},\n",
       " {'ProductAndVersion': 'MCD15A3H.006',\n",
       "  'QualityLayer': 'FparLai_QC',\n",
       "  'Name': 'SCF_QC',\n",
       "  'Value': 4,\n",
       "  'Description': \"Pixel not produced at all, value couldn't be retrieved (possible reasons: bad L1B data, unusable MOD09GA data)\",\n",
       "  'Acceptable': None}]"
      ]
     },
     "execution_count": 38,
     "metadata": {},
     "output_type": "execute_result"
    }
   ],
   "source": [
    "qlayer = ql_response[1]['QualityLayers'][0]                                # Set quality layer from ql_response for 'Lai_500m'\n",
    "qv_response = r.get('{}quality/{}/{}'.format(api, product, qlayer)).json() # Call API for list of bit-word quality values\n",
    "qv_response                                                                # Print response"
   ]
  },
  {
   "cell_type": "markdown",
   "metadata": {},
   "source": [
    "---\n",
    "## 5c. Decode Quality Values [[Decode Quality Values](https://lpdaacsvc.cr.usgs.gov/appeears/api/?language=Python%203#decode-quality-values)]\n",
    "#### This API call will decode the bits for a given quality value."
   ]
  },
  {
   "cell_type": "code",
   "execution_count": 39,
   "metadata": {},
   "outputs": [
    {
     "data": {
      "text/plain": [
       "{'Binary Representation': '0b00000001',\n",
       " 'MODLAND': {'bits': '0b1',\n",
       "  'description': 'Other Quality (back-up algorithm or fill values)'},\n",
       " 'Sensor': {'bits': '0b0', 'description': 'Terra'},\n",
       " 'DeadDetector': {'bits': '0b0',\n",
       "  'description': 'Detectors apparently fine for up to 50% of channels 1, 2'},\n",
       " 'CloudState': {'bits': '0b00',\n",
       "  'description': 'Significant clouds NOT present (clear)'},\n",
       " 'SCF_QC': {'bits': '0b000',\n",
       "  'description': 'Main (RT) method used, best result possible (no saturation)'}}"
      ]
     },
     "execution_count": 39,
     "metadata": {},
     "output_type": "execute_result"
    }
   ],
   "source": [
    "val = 1                                                                            # Set a specific value\n",
    "q_response = r.get('{}quality/{}/{}/{}'.format(api, product, qlayer, val)).json()  # Call quality API for specific value\n",
    "q_response                                                                         # Print response"
   ]
  },
  {
   "cell_type": "markdown",
   "metadata": {},
   "source": [
    "***\n",
    "# 6. BONUS: Import Request Output and Visualize\n",
    "#### Here, import one of the output GeoTIFFs and show some basic visualizations using the `matplotlib` package."
   ]
  },
  {
   "cell_type": "code",
   "execution_count": 40,
   "metadata": {},
   "outputs": [
    {
     "data": {
      "text/plain": [
       "['MCD15A3H.006_2017179_to_2017212/MCD15A3H.006_Lai_500m_doy2017181_aid0001.tif',\n",
       " 'MCD15A3H.006_2017179_to_2017212/MCD15A3H.006_Lai_500m_doy2017185_aid0001.tif',\n",
       " 'MCD15A3H.006_2017179_to_2017212/MCD15A3H.006_Lai_500m_doy2017189_aid0001.tif',\n",
       " 'MCD15A3H.006_2017179_to_2017212/MCD15A3H.006_Lai_500m_doy2017193_aid0001.tif',\n",
       " 'MCD15A3H.006_2017179_to_2017212/MCD15A3H.006_Lai_500m_doy2017197_aid0001.tif',\n",
       " 'MCD15A3H.006_2017179_to_2017212/MCD15A3H.006_Lai_500m_doy2017201_aid0001.tif',\n",
       " 'MCD15A3H.006_2017179_to_2017212/MCD15A3H.006_Lai_500m_doy2017205_aid0001.tif',\n",
       " 'MCD15A3H.006_2017179_to_2017212/MCD15A3H.006_Lai_500m_doy2017209_aid0001.tif',\n",
       " 'MCD15A3H.006_2017179_to_2017212/MCD15A3H.006_FparLai_QC_doy2017181_aid0001.tif',\n",
       " 'MCD15A3H.006_2017179_to_2017212/MCD15A3H.006_FparLai_QC_doy2017185_aid0001.tif',\n",
       " 'MCD15A3H.006_2017179_to_2017212/MCD15A3H.006_FparLai_QC_doy2017189_aid0001.tif',\n",
       " 'MCD15A3H.006_2017179_to_2017212/MCD15A3H.006_FparLai_QC_doy2017193_aid0001.tif',\n",
       " 'MCD15A3H.006_2017179_to_2017212/MCD15A3H.006_FparLai_QC_doy2017197_aid0001.tif',\n",
       " 'MCD15A3H.006_2017179_to_2017212/MCD15A3H.006_FparLai_QC_doy2017201_aid0001.tif',\n",
       " 'MCD15A3H.006_2017179_to_2017212/MCD15A3H.006_FparLai_QC_doy2017205_aid0001.tif',\n",
       " 'MCD15A3H.006_2017179_to_2017212/MCD15A3H.006_FparLai_QC_doy2017209_aid0001.tif',\n",
       " 'MCD15A3H.006_2017179_to_2017212/MCD15A3H.006_FparExtra_QC_doy2017181_aid0001.tif',\n",
       " 'MCD15A3H.006_2017179_to_2017212/MCD15A3H.006_FparExtra_QC_doy2017185_aid0001.tif',\n",
       " 'MCD15A3H.006_2017179_to_2017212/MCD15A3H.006_FparExtra_QC_doy2017189_aid0001.tif',\n",
       " 'MCD15A3H.006_2017179_to_2017212/MCD15A3H.006_FparExtra_QC_doy2017193_aid0001.tif',\n",
       " 'MCD15A3H.006_2017179_to_2017212/MCD15A3H.006_FparExtra_QC_doy2017197_aid0001.tif',\n",
       " 'MCD15A3H.006_2017179_to_2017212/MCD15A3H.006_FparExtra_QC_doy2017201_aid0001.tif',\n",
       " 'MCD15A3H.006_2017179_to_2017212/MCD15A3H.006_FparExtra_QC_doy2017205_aid0001.tif',\n",
       " 'MCD15A3H.006_2017179_to_2017212/MCD15A3H.006_FparExtra_QC_doy2017209_aid0001.tif',\n",
       " 'MOD11A2.006_2017175_to_2017212/MOD11A2.006_LST_Day_1km_doy2017177_aid0001.tif',\n",
       " 'MOD11A2.006_2017175_to_2017212/MOD11A2.006_LST_Day_1km_doy2017185_aid0001.tif',\n",
       " 'MOD11A2.006_2017175_to_2017212/MOD11A2.006_LST_Day_1km_doy2017193_aid0001.tif',\n",
       " 'MOD11A2.006_2017175_to_2017212/MOD11A2.006_LST_Day_1km_doy2017201_aid0001.tif',\n",
       " 'MOD11A2.006_2017175_to_2017212/MOD11A2.006_LST_Day_1km_doy2017209_aid0001.tif',\n",
       " 'MOD11A2.006_2017175_to_2017212/MOD11A2.006_LST_Night_1km_doy2017177_aid0001.tif',\n",
       " 'MOD11A2.006_2017175_to_2017212/MOD11A2.006_LST_Night_1km_doy2017185_aid0001.tif',\n",
       " 'MOD11A2.006_2017175_to_2017212/MOD11A2.006_LST_Night_1km_doy2017193_aid0001.tif',\n",
       " 'MOD11A2.006_2017175_to_2017212/MOD11A2.006_LST_Night_1km_doy2017201_aid0001.tif',\n",
       " 'MOD11A2.006_2017175_to_2017212/MOD11A2.006_LST_Night_1km_doy2017209_aid0001.tif',\n",
       " 'MOD11A2.006_2017175_to_2017212/MOD11A2.006_QC_Day_doy2017177_aid0001.tif',\n",
       " 'MOD11A2.006_2017175_to_2017212/MOD11A2.006_QC_Day_doy2017185_aid0001.tif',\n",
       " 'MOD11A2.006_2017175_to_2017212/MOD11A2.006_QC_Day_doy2017193_aid0001.tif',\n",
       " 'MOD11A2.006_2017175_to_2017212/MOD11A2.006_QC_Day_doy2017201_aid0001.tif',\n",
       " 'MOD11A2.006_2017175_to_2017212/MOD11A2.006_QC_Day_doy2017209_aid0001.tif',\n",
       " 'MOD11A2.006_2017175_to_2017212/MOD11A2.006_QC_Night_doy2017177_aid0001.tif',\n",
       " 'MOD11A2.006_2017175_to_2017212/MOD11A2.006_QC_Night_doy2017185_aid0001.tif',\n",
       " 'MOD11A2.006_2017175_to_2017212/MOD11A2.006_QC_Night_doy2017193_aid0001.tif',\n",
       " 'MOD11A2.006_2017175_to_2017212/MOD11A2.006_QC_Night_doy2017201_aid0001.tif',\n",
       " 'MOD11A2.006_2017175_to_2017212/MOD11A2.006_QC_Night_doy2017209_aid0001.tif',\n",
       " 'SRTMGL1_NC.003_2000001_to_2020119/SRTMGL1_NC.003_SRTMGL1_DEM_doy2000042_aid0001.tif',\n",
       " 'SRTMGL1_NUMNC.003_2000001_to_2020119/SRTMGL1_NUMNC.003_SRTMGL1_NUM_doy2000042_aid0001.tif',\n",
       " 'MCD15A3H-006-FparLai-QC-lookup.csv',\n",
       " 'MCD15A3H-006-FparExtra-QC-lookup.csv',\n",
       " 'MOD11A2-006-QC-Day-lookup.csv',\n",
       " 'MOD11A2-006-QC-Night-lookup.csv',\n",
       " 'SRTMGL1-NUMNC-003-SRTMGL1-NUM-lookup.csv',\n",
       " 'MCD15A3H-006-FparLai-QC-Statistics-QA.csv',\n",
       " 'MCD15A3H-006-FparExtra-QC-Statistics-QA.csv',\n",
       " 'MOD11A2-006-QC-Day-Statistics-QA.csv',\n",
       " 'MOD11A2-006-QC-Night-Statistics-QA.csv',\n",
       " 'SRTMGL1-NUMNC-003-SRTMGL1-NUM-Statistics-QA.csv',\n",
       " 'MCD15A3H-006-Statistics.csv',\n",
       " 'MOD11A2-006-Statistics.csv',\n",
       " 'SRTMGL1-NC-003-Statistics.csv',\n",
       " 'NPS-Vegetation-Area-granule-list.txt',\n",
       " 'NPS-Vegetation-Area-request.json',\n",
       " 'NPS-Vegetation-Area-MCD15A3H-006-metadata.xml',\n",
       " 'NPS-Vegetation-Area-MOD11A2-006-metadata.xml',\n",
       " 'NPS-Vegetation-Area-SRTMGL1-NC-003-metadata.xml',\n",
       " 'README.txt']"
      ]
     },
     "execution_count": 40,
     "metadata": {},
     "output_type": "execute_result"
    }
   ],
   "source": [
    "# Import packages\n",
    "import matplotlib.pyplot as plt\n",
    "import numpy as np\n",
    "from osgeo import gdal\n",
    "list(files.values())  # List files downloaded"
   ]
  },
  {
   "cell_type": "markdown",
   "metadata": {},
   "source": [
    "---\n",
    "## 6a. Import a GeoTIFF\n",
    "#### To perform the next step below, you will need to have [GDAL](http://www.gdal.org/) installed on your OS. Open the GeoTIFF file for the SRTM DEM, and read in as an array.\n"
   ]
  },
  {
   "cell_type": "code",
   "execution_count": 41,
   "metadata": {},
   "outputs": [],
   "source": [
    "dem = gdal.Open(destDir + '/SRTMGL1_NC.003_SRTMGL1_DEM_doy2000042_aid0001.tif' ) # Read file in\n",
    "demBand = dem.GetRasterBand(1)                                          # Read the band (layer)\n",
    "demData = demBand.ReadAsArray().astype('float')                         # Import band as an array with type float"
   ]
  },
  {
   "cell_type": "markdown",
   "metadata": {},
   "source": [
    "#### Next, query the metadata for the fill value, and set fill value equal to `nan`."
   ]
  },
  {
   "cell_type": "code",
   "execution_count": 42,
   "metadata": {},
   "outputs": [],
   "source": [
    "demFill = demBand.GetNoDataValue()            # Returns fill value\n",
    "demData[demData == demFill] = np.nan          # Set fill value to nan"
   ]
  },
  {
   "cell_type": "markdown",
   "metadata": {},
   "source": [
    "---\n",
    "## 6b. Plot a GeoTIFF\n",
    "#### In this section, begin by highlighting the functionality of the `matplotlib` plotting package.  "
   ]
  },
  {
   "cell_type": "code",
   "execution_count": 43,
   "metadata": {},
   "outputs": [],
   "source": [
    "# Set matplotlib plots inline\n",
    "%matplotlib inline "
   ]
  },
  {
   "cell_type": "markdown",
   "metadata": {},
   "source": [
    "#### First, make a basic plot of the DEM data."
   ]
  },
  {
   "cell_type": "code",
   "execution_count": 44,
   "metadata": {},
   "outputs": [
    {
     "data": {
      "image/png": "[encoded data removed]",
      "text/plain": [
       "<Figure size 432x288 with 1 Axes>"
      ]
     },
     "metadata": {
      "needs_background": "light"
     },
     "output_type": "display_data"
    }
   ],
   "source": [
    "plt.imshow(demData);  # Visualize a basic plot of the DEM data"
   ]
  },
  {
   "cell_type": "markdown",
   "metadata": {},
   "source": [
    "#### Next, add some additional parameters to the plot."
   ]
  },
  {
   "cell_type": "code",
   "execution_count": 45,
   "metadata": {},
   "outputs": [
    {
     "name": "stderr",
     "output_type": "stream",
     "text": [
      "C:\\Users\\ckrehbiel.GS\\AppData\\Local\\Continuum\\anaconda3\\envs\\py37\\lib\\site-packages\\ipykernel_launcher.py:3: MatplotlibDeprecationWarning: Adding an axes using the same arguments as a previous axes currently reuses the earlier instance.  In a future version, a new instance will always be created and returned.  Meanwhile, this warning can be suppressed, and the future behavior ensured, by passing a unique label to each axes instance.\n",
      "  This is separate from the ipykernel package so we can avoid doing imports until\n"
     ]
    },
    {
     "data": {
      "image/png": "[encoded data removed]",
      "text/plain": [
       "<Figure size 720x540 with 1 Axes>"
      ]
     },
     "metadata": {
      "needs_background": "light"
     },
     "output_type": "display_data"
    }
   ],
   "source": [
    "fig = plt.figure(figsize = (10,7.5))  # Set the figure size (x,y)\n",
    "plt.axis('off')                       # Remove the axes' values\n",
    "ax = fig.add_subplot(111)             \n",
    "\n",
    "# Plot the array, using a colormap and setting a custom linear stretch based on the min/max Elevation values\n",
    "plt.imshow(demData, vmin = np.nanmin(demData), vmax = np.nanmax(demData), cmap = 'terrain');"
   ]
  },
  {
   "cell_type": "markdown",
   "metadata": {},
   "source": [
    "#### Finally, add important map items including a legend and title."
   ]
  },
  {
   "cell_type": "code",
   "execution_count": 46,
   "metadata": {},
   "outputs": [
    {
     "name": "stderr",
     "output_type": "stream",
     "text": [
      "C:\\Users\\ckrehbiel.GS\\AppData\\Local\\Continuum\\anaconda3\\envs\\py37\\lib\\site-packages\\ipykernel_launcher.py:4: MatplotlibDeprecationWarning: Adding an axes using the same arguments as a previous axes currently reuses the earlier instance.  In a future version, a new instance will always be created and returned.  Meanwhile, this warning can be suppressed, and the future behavior ensured, by passing a unique label to each axes instance.\n",
      "  after removing the cwd from sys.path.\n"
     ]
    },
    {
     "data": {
      "image/png": "[encoded data removed]",
      "text/plain": [
       "<Figure size 720x540 with 2 Axes>"
      ]
     },
     "metadata": {},
     "output_type": "display_data"
    }
   ],
   "source": [
    "plt.style.use(\"dark_background\")                                                       # Default to a black background\n",
    "fig2 = plt.figure(figsize=(10,7.5))                                                    # Set the figure size\n",
    "plt.axis('off')                                                                        # Remove the axes' values\n",
    "ax1 = fig2.add_subplot(111)                                                            # Make a subplot\n",
    "fig2.subplots_adjust(top=3.8)                                                          # Adjust spacing\n",
    "ax1.set_title('SRTM DEM: Grand Canyon NP',fontsize=15,fontweight='bold',color='white') # Add title\n",
    "\n",
    "# Plot the masked data, using a colormap and setting a custom linear stretch based on the min/max DEM values\n",
    "im = plt.imshow(demData, vmin = np.nanmin(demData), vmax = np.nanmax(demData), cmap = 'terrain');\n",
    "\n",
    "cb = plt.colorbar(im, orientation='horizontal', fraction=0.047, pad=0.004, shrink=0.6) # Add a colormap legend\n",
    "cb.set_label(label='Elevation (m)', color = 'white')                                   # Set Label and color\n",
    "cb.outline.set_edgecolor('white')                                                      # Set edge color"
   ]
  },
  {
   "cell_type": "markdown",
   "metadata": {},
   "source": [
    "### This example can provide a template to use for your own research workflows. Leveraging the AρρEEARS API for searching, extracting, and formatting analysis ready data, and importing it directly into Python means that you can keep your entire research workflow in a single software program, from start to finish. "
   ]
  },
  {
   "cell_type": "markdown",
   "metadata": {},
   "source": [
    "***\n",
    "<div class=\"alert alert-block alert-info\">\n",
    "<h1> Contact Information </h1>   \n",
    "    \n",
    "<h3> Material written by Cole Krehbiel$^{1}$ </h3>  \n",
    "\n",
    "<b>Contact:</b> LPDAAC@usgs.gov    \n",
    "\n",
    "<b>Voice:</b> +1-605-594-6116    \n",
    "\n",
    "<b>Organization:</b> Land Processes Distributed Active Archive Center (LP DAAC)  \n",
    "\n",
    "<b>Website:</b> https://lpdaac.usgs.gov/  \n",
    "\n",
    "<b>Date last modified:</b> 04-28-2020    \n",
    "\n",
    "$^{1}$Innovate! Inc., contractor to the U.S. Geological Survey, Earth Resources Observation and Science (EROS) Center, Sioux Falls, South Dakota, 57198-001, USA. Work performed under USGS contract G15PD00467 for LP DAAC$^{2}$.\n",
    "\n",
    "$^{2}$LP DAAC Work performed under NASA contract NNG14HH33I. "
   ]
  }
 ],
 "metadata": {
  "kernelspec": {
   "display_name": "Python 3",
   "language": "python",
   "name": "python3"
  },
  "language_info": {
   "codemirror_mode": {
    "name": "ipython",
    "version": 3
   },
   "file_extension": ".py",
   "mimetype": "text/x-python",
   "name": "python",
   "nbconvert_exporter": "python",
   "pygments_lexer": "ipython3",
   "version": "3.7.6"
  }
 },
 "nbformat": 4,
 "nbformat_minor": 2
}
