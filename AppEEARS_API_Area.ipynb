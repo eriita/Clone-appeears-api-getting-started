{
 "cells": [
  {
   "cell_type": "markdown",
   "metadata": {},
   "source": [
    "# Getting Started with the AρρEEARS API: Submitting and Downloading an Area Request\n",
    "### This tutorial demonstrates how to use Python to connect to the AρρEEARS API \n",
    "The Application for Extracting and Exploring Analysis Ready Samples ([AρρEEARS](https://lpdaacsvc.cr.usgs.gov/appeears/)) offers a simple and efficient way to access and transform geospatial data from a variety of federal data archives in an easy-to-use web application interface. AρρEEARS enables users to subset [geospatial data](https://lpdaacsvc.cr.usgs.gov/appeears/products) spatially, temporally, and by band/layer for point and area samples. AρρEEARS returns not only the requested data, but also the associated quality values, and offers interactive visualizations with summary statistics in the web interface.  The [AρρEEARS API](https://lpdaacsvc.cr.usgs.gov/appeears/api/) offers users **programmatic access** to all features available in AρρEEARS, with the exception of visualizations. The API features are demonstrated in this notebook.  \n",
    "***\n",
    "### Example: Submit an area request using a U.S. National Park boundary as the region of interest for extracting elevation, vegetation and land surface temperature data    \n",
    "Connect to the AρρEEARS API, query the list of available products, submit an area sample request, download the request, become familiar with the AρρEEARS Quality API, and import the results into Python for visualization. AρρEEARS area sample requests allow users to subset their desired data by spatial area via vector polygons (shapefiles or GeoJSONs). Users can also reproject and reformat the output data. AρρEEARS returns the valid data from the parameters defined within the sample request.       \n",
    "#### Data Used in the Example:\n",
    "- Data layers: \n",
    "    - NASA MeaSUREs Shuttle Radar Topography Mission (SRTM) Version 3 Digital Elevation Model  \n",
    "        - [SRTMGL1.003](https://doi.org/10.5067/MEaSUREs/SRTM/SRTMGL1.003), 30m, static: 'Band1' \n",
    "    - Combined MODIS Leaf Area Index (LAI)  \n",
    "        - [MCD15A3H.006](https://doi.org/10.5067/MODIS/MCD15A3H.006), 500m, 4 day: 'Lai_500m'      \n",
    "    - Terra MODIS Land Surface Temperature    \n",
    "        - [MOD11A2.006](https://doi.org/10.5067/MODIS/MOD11A2.006), 1000m, 8 day: 'LST_Day_1km', 'LST_Night_1km'     \n",
    "***  \n",
    "# Topics Covered:\n",
    "1. **Getting Started**  \n",
    "    1a. Enable Access to the API  \n",
    "    1b. Set Up the Working Environment    \n",
    "    1c. Login [Login]  \n",
    "2. **Query Available Products [Product API]**  \n",
    "    2a. Search and Explore Available Products [List Products]  \n",
    "    2b. Search and Explore Available Layers [List Layers]      \n",
    "3. **Submit an Area Request [Tasks]**  \n",
    "    3a. Import a Shapefile  \n",
    "    3b. Search and Explore Available Projections [Spatial API]   \n",
    "    3c. Compile a JSON [Task Object]  \n",
    "    3d. Submit a Task Request [Submit Task]  \n",
    "    3e. Retrieve Task Status [Retrieve Task]  \n",
    "4. **Download a Request [Bundle API]**    \n",
    "    4a. Explore Files in Request Output [List Files]    \n",
    "    4b. Download Files in a Request (Automation) [Download File]   \n",
    "5. **Explore AρρEEARS Quality Service [Quality API]**  \n",
    "    5a. List Quality Layers [List Quality Layers]    \n",
    "    5b. Show Quality Values [List Quality Values]   \n",
    "    5c. Decode Quality Values [Decode Quality Values]  \n",
    "6. **BONUS: Import Request Output and Visualize**    \n",
    "    6a. Import a GeoTIFF     \n",
    "    6b. Plot a GeoTIFF   \n",
    "***\n",
    "### Dependencies:\n",
    "- This tutorial was tested using Python 3.6.1.  \n",
    "- A [NASA Earthdata Login](https://urs.earthdata.nasa.gov/) account is required to complete this tutorial. You can create an account at the link provided.    \n",
    "- To execute section 6, the [Geospatial Data Abstraction Library](http://www.gdal.org/) (GDAL) is required. \n",
    "***\n",
    "### AρρEEARS Information:\n",
    "To access AρρEEARS, visit: https://lpdaacsvc.cr.usgs.gov/appeears/  \n",
    "> For comprehensive documentation of the full functionality of the AρρEEARS API, please see the AρρEEARS [API Documentation](https://lpdaacsvc.cr.usgs.gov/appeears/api/) \n",
    "\n",
    "Throughout the tutorial, specific sections of the API documentation can be accessed by clicking on the bracketed [] links in the section headings.   \n",
    "***\n",
    "### Files Used in this Tutorial:  \n",
    "- [Administrative Boundaries of National Park System Units 12/31/2017 - National Geospatial Data Asset (NGDA) NPS National Parks Dataset](https://irma.nps.gov/DataStore/DownloadFile/594958)  \n",
    "\n",
    "### Source Code used to Generate this Tutorial:\n",
    "- [Jupyter Notebook](https://git.earthdata.nasa.gov/projects/LPDUR/repos/appeears-api-getting-started/browse/AppEEARS_API_Area.ipynb) "
   ]
  },
  {
   "cell_type": "markdown",
   "metadata": {},
   "source": [
    "***"
   ]
  },
  {
   "cell_type": "markdown",
   "metadata": {},
   "source": [
    "# 1. Getting Started\n",
    "<div class=\"alert alert-block alert-warning\" >\n",
    "<b>NOTE:</b> If this is your first time using the AρρEEARS API, you must first enable API access by following the instructions provided below.</div> "
   ]
  },
  {
   "cell_type": "markdown",
   "metadata": {},
   "source": [
    "***\n",
    "## 1a. Enable Access to the API\n",
    "#### AρρEEARS API access requires the same [NASA Earthdata Login](https://urs.earthdata.nasa.gov/) as the AρρEEARS user interface. In addition to having a valid NASA Earthdata Login account, the API feature must be enabled for the user within AρρEEARS.\n",
    "#### To enable access to the AρρEEARS API, navigate to the [AρρEEARS website](https://lpdaacsvc.cr.usgs.gov/appeears/). Click the *Sign In* button in the top right portion of the AρρEEARS landing page screen.  \n",
    "![AppEEARS Sign In](https://lpdaacsvc.cr.usgs.gov/assets/images/help/image001.73bb446d.png)  \n",
    "#### Once you are signed in, click the *Manage User* icon in the top right portion of the AρρEEARS landing page screen and select *Settings*. \n",
    "![Manage User -> Settings](https://lpdaacsvc.cr.usgs.gov/assets/images/help/api/image001.30a681c0.png)      \n",
    "#### Select the *Enable API* box to gain access to the AρρEEARS API.  \n",
    "![Enable API Access](https://lpdaacsvc.cr.usgs.gov/assets/images/help/api/image002.2262e4d3.png)"
   ]
  },
  {
   "cell_type": "markdown",
   "metadata": {},
   "source": [
    "***\n",
    "## 1b. Set Up the Working Environment\n",
    "#### Next, import the required packages, set the input/working directory, and create an output directory for the results."
   ]
  },
  {
   "cell_type": "code",
   "execution_count": 1,
   "metadata": {
    "collapsed": true
   },
   "outputs": [],
   "source": [
    "# Import packages\n",
    "import requests as r\n",
    "import getpass, pprint, time, os, cgi, json\n",
    "import geopandas as gpd"
   ]
  },
  {
   "cell_type": "markdown",
   "metadata": {},
   "source": [
    "#### If you are missing any of the packages above, download them in order to use the full functionality of this tutorial. "
   ]
  },
  {
   "cell_type": "code",
   "execution_count": 2,
   "metadata": {
    "collapsed": true
   },
   "outputs": [],
   "source": [
    "# Set input directory, change working directory\n",
    "inDir = 'C:/Users/ckrehbiel/Documents/appeears-api-getting-started/' # IMPORTANT: Update to reflect directory on your OS\n",
    "os.chdir(inDir)                                                      # Change to working directory\n",
    "api = 'https://lpdaacsvc.cr.usgs.gov/appeears/api/'                  # Set the AρρEEARS API to a variable"
   ]
  },
  {
   "cell_type": "markdown",
   "metadata": {},
   "source": [
    "<div class=\"alert alert-block alert-warning\" >\n",
    "<b>If you plan to execute this tutorial on your own OS, `inDir` above needs to be changed.</b>\n",
    "</div> "
   ]
  },
  {
   "cell_type": "markdown",
   "metadata": {},
   "source": [
    "***\n",
    "## 1c. Login [[Login](https://lpdaacsvc.cr.usgs.gov/appeears/api/?language=Python%203#login)]\n",
    "#### To submit a request, you must first login to the AρρEEARS API. Use the `getpass` package to enter your NASA Earthdata login **Username** and **Password**. When prompted after executing the code block below, enter your username followed by your password."
   ]
  },
  {
   "cell_type": "code",
   "execution_count": 3,
   "metadata": {
    "collapsed": true
   },
   "outputs": [],
   "source": [
    "user = getpass.getpass(prompt = 'Enter NASA Earthdata Login Username: ')      # Input NASA Earthdata Login Username\n",
    "password = getpass.getpass(prompt = 'Enter NASA Earthdata Login Password: ')  # Input NASA Earthdata Login Password"
   ]
  },
  {
   "cell_type": "markdown",
   "metadata": {},
   "source": [
    "#### Use the `requests` package to post your username and password. A successful login will provide you with a token to be used later in this tutorial to submit a request. For more information or if you are experiencing difficulties, please see the [API Documentation](https://lpdaacsvc.cr.usgs.gov/appeears/api/?language=Python%203#login)."
   ]
  },
  {
   "cell_type": "code",
   "execution_count": 4,
   "metadata": {},
   "outputs": [
    {
     "data": {
      "text/plain": [
       "{'expiration': '2018-04-20T19:09:30Z',\n",
       " 'token': 'qAuEjsZX7bR0uym1b5h5_PHO81bROfAneJ0nfOwVeS9H61aZBZVmbRbM99vrfV_ND7iByiCJSKyGTCEWD9FZow',\n",
       " 'token_type': 'Bearer'}"
      ]
     },
     "execution_count": 4,
     "metadata": {},
     "output_type": "execute_result"
    }
   ],
   "source": [
    "token_response = r.post('{}login'.format(api), auth=(user, password)).json() # Insert API URL, call login service, provide credentials & return json\n",
    "del user, password                                                           # Remove user and password information\n",
    "token_response                                                               # Print response"
   ]
  },
  {
   "cell_type": "markdown",
   "metadata": {},
   "source": [
    "#### Above, you should see a Bearer token. Notice that this token will expire approximately 48 hours after being acquired. \n",
    "***\n",
    "# 2. Query Available Products [[Product API](https://lpdaacsvc.cr.usgs.gov/appeears/api/?language=Python%203#product)]\n",
    "## 2a. Search and Explore Available Products [[List Products](https://lpdaacsvc.cr.usgs.gov/appeears/api/?language=Python%203#list-products)]\n",
    "#### The product API provides details about all of the products and layers available in AρρEEARS. Below, call the product API to list all of the products available in AρρEEARS."
   ]
  },
  {
   "cell_type": "code",
   "execution_count": 5,
   "metadata": {},
   "outputs": [
    {
     "name": "stdout",
     "output_type": "stream",
     "text": [
      "AρρEEARS currently supports 87 products.\n"
     ]
    }
   ],
   "source": [
    "product_response = r.get('{}product'.format(api)).json()                         # request all products in the product service\n",
    "print('AρρEEARS currently supports {} products.'.format(len(product_response)))  # Print no. products available in AppEEARS"
   ]
  },
  {
   "cell_type": "markdown",
   "metadata": {},
   "source": [
    "#### Next, create a dictionary indexed by product name, making it easier to query a specific product."
   ]
  },
  {
   "cell_type": "code",
   "execution_count": 6,
   "metadata": {},
   "outputs": [
    {
     "data": {
      "text/plain": [
       "{'Available': True,\n",
       " 'DOI': '10.5067/MODIS/MCD15A3H.006',\n",
       " 'Deleted': False,\n",
       " 'Description': 'Leaf Area Index (LAI) and Fractional Photosynthetically Active Radiation (FPAR)',\n",
       " 'DocLink': 'https://doi.org/10.5067/MODIS/MCD15A3H.006',\n",
       " 'Platform': 'Combined MODIS',\n",
       " 'Product': 'MCD15A3H',\n",
       " 'ProductAndVersion': 'MCD15A3H.006',\n",
       " 'RasterType': 'Tile',\n",
       " 'Resolution': '500m',\n",
       " 'Source': 'LP DAAC',\n",
       " 'TemporalExtentEnd': 'Present',\n",
       " 'TemporalExtentStart': '2002-07-04',\n",
       " 'TemporalGranularity': '4 day',\n",
       " 'Version': '006'}"
      ]
     },
     "execution_count": 6,
     "metadata": {},
     "output_type": "execute_result"
    }
   ],
   "source": [
    "products = {p['ProductAndVersion']: p for p in product_response} # Create a dictionary indexed by product name & version\n",
    "products['MCD15A3H.006']                                         # Print information for MCD15A3H.006 LAI/FPAR Product"
   ]
  },
  {
   "cell_type": "markdown",
   "metadata": {},
   "source": [
    "#### The product service provides many useful details, including if a product is currently available in AρρEEARS, a description, and information on the spatial and temporal resolution. "
   ]
  },
  {
   "cell_type": "markdown",
   "metadata": {},
   "source": [
    "#### Below, make a list of all product+version names, and search for products containing *Leaf Area Index* in their description. "
   ]
  },
  {
   "cell_type": "code",
   "execution_count": 7,
   "metadata": {},
   "outputs": [
    {
     "name": "stdout",
     "output_type": "stream",
     "text": [
      "{'Available': True,\n",
      " 'DOI': '10.5067/MODIS/MOD15A2H.006',\n",
      " 'Deleted': False,\n",
      " 'Description': 'Leaf Area Index (LAI) and Fractional Photosynthetically '\n",
      "                'Active Radiation (FPAR)',\n",
      " 'DocLink': 'https://doi.org/10.5067/MODIS/MOD15A2H.006',\n",
      " 'Platform': 'Terra MODIS',\n",
      " 'Product': 'MOD15A2H',\n",
      " 'ProductAndVersion': 'MOD15A2H.006',\n",
      " 'RasterType': 'Tile',\n",
      " 'Resolution': '500m',\n",
      " 'Source': 'LP DAAC',\n",
      " 'TemporalExtentEnd': 'Present',\n",
      " 'TemporalExtentStart': '2000-02-18',\n",
      " 'TemporalGranularity': '8 day',\n",
      " 'Version': '006'}\n",
      "{'Available': True,\n",
      " 'DOI': '10.5067/MODIS/MYD15A2H.006',\n",
      " 'Deleted': False,\n",
      " 'Description': 'Leaf Area Index (LAI) and Fractional Photosynthetically '\n",
      "                'Active Radiation (FPAR)',\n",
      " 'DocLink': 'https://doi.org/10.5067/MODIS/MYD15A2H.006',\n",
      " 'Platform': 'Aqua MODIS',\n",
      " 'Product': 'MYD15A2H',\n",
      " 'ProductAndVersion': 'MYD15A2H.006',\n",
      " 'RasterType': 'Tile',\n",
      " 'Resolution': '500m',\n",
      " 'Source': 'LP DAAC',\n",
      " 'TemporalExtentEnd': 'Present',\n",
      " 'TemporalExtentStart': '2002-07-04',\n",
      " 'TemporalGranularity': '8 day',\n",
      " 'Version': '006'}\n",
      "{'Available': True,\n",
      " 'DOI': '10.5067/MODIS/MCD15A2H.006',\n",
      " 'Deleted': False,\n",
      " 'Description': 'Leaf Area Index (LAI) and Fractional Photosynthetically '\n",
      "                'Active Radiation (FPAR)',\n",
      " 'DocLink': 'https://doi.org/10.5067/MODIS/MCD15A2H.006',\n",
      " 'Platform': 'Combined MODIS',\n",
      " 'Product': 'MCD15A2H',\n",
      " 'ProductAndVersion': 'MCD15A2H.006',\n",
      " 'RasterType': 'Tile',\n",
      " 'Resolution': '500m',\n",
      " 'Source': 'LP DAAC',\n",
      " 'TemporalExtentEnd': 'Present',\n",
      " 'TemporalExtentStart': '2002-07-04',\n",
      " 'TemporalGranularity': '8 day',\n",
      " 'Version': '006'}\n",
      "{'Available': True,\n",
      " 'DOI': '10.5067/MODIS/MCD15A3H.006',\n",
      " 'Deleted': False,\n",
      " 'Description': 'Leaf Area Index (LAI) and Fractional Photosynthetically '\n",
      "                'Active Radiation (FPAR)',\n",
      " 'DocLink': 'https://doi.org/10.5067/MODIS/MCD15A3H.006',\n",
      " 'Platform': 'Combined MODIS',\n",
      " 'Product': 'MCD15A3H',\n",
      " 'ProductAndVersion': 'MCD15A3H.006',\n",
      " 'RasterType': 'Tile',\n",
      " 'Resolution': '500m',\n",
      " 'Source': 'LP DAAC',\n",
      " 'TemporalExtentEnd': 'Present',\n",
      " 'TemporalExtentStart': '2002-07-04',\n",
      " 'TemporalGranularity': '4 day',\n",
      " 'Version': '006'}\n"
     ]
    }
   ],
   "source": [
    "prodNames = {p['ProductAndVersion'] for p in product_response} # Make list of all products (including version)\n",
    "for p in prodNames:                                            # Make for loop to search list of products 'Description' for a keyword                \n",
    "    if 'Leaf Area Index' in products[p]['Description']:\n",
    "        pprint.pprint(products[p])                             # Print info for each product containing LAI in its description"
   ]
  },
  {
   "cell_type": "markdown",
   "metadata": {},
   "source": [
    "#### Using the info above, start a list of desired products by using the highest temporal resolution LAI product, `MCD15A3H.006`.  "
   ]
  },
  {
   "cell_type": "code",
   "execution_count": 8,
   "metadata": {
    "collapsed": true
   },
   "outputs": [
    {
     "data": {
      "text/plain": [
       "['MCD15A3H.006', 'MOD11A2.006', 'SRTMGL1.003']"
      ]
     },
     "execution_count": 8,
     "metadata": {},
     "output_type": "execute_result"
    }
   ],
   "source": [
    "prods = ['MCD15A3H.006']     # Start a list for products to be requested, beginning with MCD15A3H.006\n",
    "prods.append('MOD11A2.006')  # Append the MOD11A2.006 8 day LST product to the list of products desired\n",
    "prods.append('SRTMGL1.003')  # Append the SRTMGL1.003 product to the list of products desired\n",
    "prods                        # Print list"
   ]
  },
  {
   "cell_type": "markdown",
   "metadata": {},
   "source": [
    "***\n",
    "# 2b. Search and Explore Available Layers [[List Layers](https://lpdaacsvc.cr.usgs.gov/appeears/api/?language=Python%203#list-layers)]\n",
    "#### The product API allows you to call all of the layers available for a given product. Each product is referenced by its `ProductAndVersion` property. For a list of the layer names only, print the keys from the dictionary below. "
   ]
  },
  {
   "cell_type": "code",
   "execution_count": 9,
   "metadata": {},
   "outputs": [
    {
     "data": {
      "text/plain": [
       "['Clear_sky_days',\n",
       " 'Clear_sky_nights',\n",
       " 'Day_view_angl',\n",
       " 'Day_view_time',\n",
       " 'Emis_31',\n",
       " 'Emis_32',\n",
       " 'LST_Day_1km',\n",
       " 'LST_Night_1km',\n",
       " 'Night_view_angl',\n",
       " 'Night_view_time',\n",
       " 'QC_Day',\n",
       " 'QC_Night']"
      ]
     },
     "execution_count": 9,
     "metadata": {},
     "output_type": "execute_result"
    }
   ],
   "source": [
    "lst_response = r.get('{}product/{}'.format(api, prods[1])).json()  # Request layers for the 2nd product (index 1) in the list: MOD11A2.006\n",
    "list(lst_response.keys())"
   ]
  },
  {
   "cell_type": "markdown",
   "metadata": {},
   "source": [
    "#### Use the dictionary key `'LST_Day_1km'` to see the information for that layer in the response."
   ]
  },
  {
   "cell_type": "code",
   "execution_count": 10,
   "metadata": {},
   "outputs": [
    {
     "data": {
      "text/plain": [
       "{'AddOffset': 0.0,\n",
       " 'Available': True,\n",
       " 'DataType': 'float32',\n",
       " 'Description': 'Day Land Surface Temperature',\n",
       " 'Dimensions': ['time', 'YDim', 'XDim'],\n",
       " 'FillValue': 0,\n",
       " 'Layer': 'LST_Day_1km',\n",
       " 'OrigDataType': 'uint16',\n",
       " 'OrigValidMax': 65535,\n",
       " 'OrigValidMin': 7500,\n",
       " 'QualityLayers': \"['QC_Day']\",\n",
       " 'QualityProductAndVersion': 'MOD11A2.006',\n",
       " 'ScaleFactor': 0.02,\n",
       " 'Units': 'Kelvin',\n",
       " 'ValidMax': 1310.699951,\n",
       " 'ValidMin': 150.0,\n",
       " 'XSize': 1200,\n",
       " 'YSize': 1200}"
      ]
     },
     "execution_count": 10,
     "metadata": {},
     "output_type": "execute_result"
    }
   ],
   "source": [
    "lst_response['LST_Day_1km'] # Print layer response"
   ]
  },
  {
   "cell_type": "markdown",
   "metadata": {},
   "source": [
    "#### AρρEEARS also allows subsetting data spectrally (by band). Create a tupled list with product name and specific layers desired. "
   ]
  },
  {
   "cell_type": "code",
   "execution_count": 11,
   "metadata": {
    "collapsed": true
   },
   "outputs": [],
   "source": [
    "layers = [(prods[1],'LST_Day_1km'),(prods[1],'LST_Night_1km')]  # Create tupled list linking desired product with desired layers"
   ]
  },
  {
   "cell_type": "markdown",
   "metadata": {},
   "source": [
    "#### Next, request the layers for the `MCD15A3H.006` product."
   ]
  },
  {
   "cell_type": "code",
   "execution_count": 12,
   "metadata": {},
   "outputs": [
    {
     "data": {
      "text/plain": [
       "['FparExtra_QC',\n",
       " 'FparLai_QC',\n",
       " 'FparStdDev_500m',\n",
       " 'Fpar_500m',\n",
       " 'LaiStdDev_500m',\n",
       " 'Lai_500m']"
      ]
     },
     "execution_count": 12,
     "metadata": {},
     "output_type": "execute_result"
    }
   ],
   "source": [
    "lai_response = r.get('{}product/{}'.format(api, prods[0])).json()  # Request layers for the 1st product (index 0) in the list: MCD15A3H.006\n",
    "list(lai_response.keys())                                          # Print the LAI layer names"
   ]
  },
  {
   "cell_type": "code",
   "execution_count": 13,
   "metadata": {},
   "outputs": [
    {
     "data": {
      "text/plain": [
       "'Leaf area index'"
      ]
     },
     "execution_count": 13,
     "metadata": {},
     "output_type": "execute_result"
    }
   ],
   "source": [
    "lai_response['Lai_500m']['Description']  # Make sure the correct layer is requested"
   ]
  },
  {
   "cell_type": "markdown",
   "metadata": {},
   "source": [
    "#### Above, `Lai_500m` is the desired layer within the `MCD15A3h.006` product. \n",
    "#### Next, append `Lai_500m` to the tupled list of desired product/layers. "
   ]
  },
  {
   "cell_type": "code",
   "execution_count": 14,
   "metadata": {
    "collapsed": true
   },
   "outputs": [],
   "source": [
    "layers.append((prods[0],'Lai_500m')) # Append to tupled list linking desired product with desired layers"
   ]
  },
  {
   "cell_type": "markdown",
   "metadata": {},
   "source": [
    "#### Thirdly, request the layers for the `SRTMGL1.003` product."
   ]
  },
  {
   "cell_type": "code",
   "execution_count": 15,
   "metadata": {},
   "outputs": [
    {
     "data": {
      "text/plain": [
       "['Band1']"
      ]
     },
     "execution_count": 15,
     "metadata": {},
     "output_type": "execute_result"
    }
   ],
   "source": [
    "dem_response = r.get('{}product/{}'.format(api, prods[2])).json()  # Request layers for the 3rd product (index 2) in the list: SRTMGL1.003\n",
    "list(dem_response.keys())                                          # Print the SRTM DEM layer names "
   ]
  },
  {
   "cell_type": "markdown",
   "metadata": {},
   "source": [
    "#### Finally, append `Band1` to the tupled list of desired products/layers."
   ]
  },
  {
   "cell_type": "code",
   "execution_count": 16,
   "metadata": {},
   "outputs": [],
   "source": [
    "layers.append((prods[2],'Band1')) # Append to tupled list linking desired product with desired layers"
   ]
  },
  {
   "cell_type": "markdown",
   "metadata": {},
   "source": [
    "#### Below, take the tupled list (layers) and create a list of dictionaries to store each layer+product combination. This will make it easier to insert into the json file used to submit a request in Section 3. "
   ]
  },
  {
   "cell_type": "code",
   "execution_count": 17,
   "metadata": {},
   "outputs": [
    {
     "data": {
      "text/plain": [
       "[{'layer': 'LST_Day_1km', 'product': 'MOD11A2.006'},\n",
       " {'layer': 'LST_Night_1km', 'product': 'MOD11A2.006'},\n",
       " {'layer': 'Lai_500m', 'product': 'MCD15A3H.006'},\n",
       " {'layer': 'Band1', 'product': 'SRTMGL1.003'}]"
      ]
     },
     "execution_count": 17,
     "metadata": {},
     "output_type": "execute_result"
    }
   ],
   "source": [
    "prodLayer = []\n",
    "for l in layers:\n",
    "    prodLayer.append({\n",
    "            \"layer\": l[1],\n",
    "            \"product\": l[0]\n",
    "          })\n",
    "prodLayer"
   ]
  },
  {
   "cell_type": "markdown",
   "metadata": {},
   "source": [
    "***\n",
    "# 3. Submit an Area Request [[Tasks](https://lpdaacsvc.cr.usgs.gov/appeears/api/?language=Python%203#tasks)]\n",
    "#### The **Submit task** API call provides a way to submit a new request to be processed. It can accept data via JSON, query string, or a combination of both. In the example below, compile a json and submit a request. Tasks in AρρEEARS correspond to each request associated with your user account. Therefore, each of the calls to this service requires an authentication token (see Section 1c.), which is stored in a header below. "
   ]
  },
  {
   "cell_type": "code",
   "execution_count": 18,
   "metadata": {
    "collapsed": true
   },
   "outputs": [],
   "source": [
    "token = token_response['token']                      # Save login token to a variable\n",
    "head = {'Authorization': 'Bearer {}'.format(token)}  # Create a header to store token information, needed to submit a request"
   ]
  },
  {
   "cell_type": "markdown",
   "metadata": {},
   "source": [
    "---\n",
    "## 3a. Import a Shapefile\n",
    "#### In this section, begin by importing a shapefile using the `geopandas` package. The shapefile is publically available for download from the [NPS website](https://irma.nps.gov/DataStore/Reference/Profile/2224545?lnv=True)."
   ]
  },
  {
   "cell_type": "code",
   "execution_count": 19,
   "metadata": {},
   "outputs": [
    {
     "name": "stdout",
     "output_type": "stream",
     "text": [
      "  UNIT_CODE                                          GIS_Notes  \\\n",
      "0      AMME  LEGACY: contact allen_mccoy@nps.gov for additi...   \n",
      "1      EBLA  LEGACY: contact allen_mccoy@nps.gov for additi...   \n",
      "2      LARO  LEGACY: contact allen_mccoy@nps.gov for additi...   \n",
      "3      LEWI  LEGACY: contact allen_mccoy@nps.gov for additi...   \n",
      "4      OLYM  LEGACY: contact allen_mccoy@nps.gov for additi...   \n",
      "\n",
      "                                    UNIT_NAME   DATE_EDIT STATE REGION  \\\n",
      "0                      American Memorial Park  2015-04-22    MP     PW   \n",
      "1  Ebey's Landing National Historical Reserve  2015-04-22    WA     PW   \n",
      "2     Lake Roosevelt National Recreation Area  2015-04-22    WA     PW   \n",
      "3    Lewis and Clark National Historical Park  2015-04-22    WA     PW   \n",
      "4                       Olympic National Park  2015-04-22    WA     PW   \n",
      "\n",
      "   GNIS_ID                    UNIT_TYPE CREATED_BY METADATA  \\\n",
      "0  1879026                         Park     Legacy            \n",
      "1  1888910  National Historical Reserve     Legacy            \n",
      "2  1531834     National Recreation Area     Legacy            \n",
      "3  2055170     National Historical Park     Legacy            \n",
      "4  1530459                National Park     Legacy            \n",
      "\n",
      "                 PARKNAME                                           geometry  \n",
      "0  American Memorial Park  POLYGON ((145.723496788 15.22246183000004, 145...  \n",
      "1          Ebey's Landing  POLYGON ((-122.6528982094848 48.25378514027204...  \n",
      "2          Lake Roosevelt  (POLYGON ((-118.4520020926864 47.8421348958409...  \n",
      "3         Lewis and Clark  (POLYGON ((-124.0749506444566 46.3022812330924...  \n",
      "4                 Olympic  (POLYGON ((-124.3806127629999 47.6020991240000...  \n"
     ]
    }
   ],
   "source": [
    "nps = gpd.read_file('{}nps_boundary.shp'.format(inDir + os.sep)) # Read in shapefile as dataframe using geopandas\n",
    "print(nps.head())                                                # Print first few lines of dataframe"
   ]
  },
  {
   "cell_type": "markdown",
   "metadata": {},
   "source": [
    "#### Below, query the `geopandas` dataframe for the national park that you are interested in using for your region of interest, here *Grand Canyon National Park*."
   ]
  },
  {
   "cell_type": "code",
   "execution_count": 20,
   "metadata": {},
   "outputs": [],
   "source": [
    "nps_gc = nps[nps['UNIT_NAME']=='Grand Canyon National Park'].to_json() # Extract Grand Canyon NP and set to variable\n",
    "nps_gc = json.loads(nps_gc)                                            # Convert to json format"
   ]
  },
  {
   "cell_type": "markdown",
   "metadata": {},
   "source": [
    "---\n",
    "## 3b. Search and Explore Available Projections [[Spatial API](https://lpdaacsvc.cr.usgs.gov/appeears/api/?language=Python%203#spatial)]   \n",
    "#### The spatial API provides some helper services used to support submitting area task requests. The call below will retrieve the list of supported projections in AρρEEARS."
   ]
  },
  {
   "cell_type": "code",
   "execution_count": 21,
   "metadata": {},
   "outputs": [
    {
     "data": {
      "text/plain": [
       "[{'Available': True,\n",
       "  'Datum': '',\n",
       "  'Description': 'Native Projection',\n",
       "  'EPSG': '',\n",
       "  'GridMapping': '',\n",
       "  'Name': 'native',\n",
       "  'Proj4': '',\n",
       "  'Units': ''},\n",
       " {'Available': True,\n",
       "  'Datum': 'wgs84',\n",
       "  'Description': 'Geographic',\n",
       "  'EPSG': 4326.0,\n",
       "  'GridMapping': 'latitude_longitude',\n",
       "  'Name': 'geographic',\n",
       "  'Proj4': '+proj=longlat +datum=WGS84 +no_defs',\n",
       "  'Units': 'degrees'},\n",
       " {'Available': True,\n",
       "  'Datum': '',\n",
       "  'Description': 'MODIS Sinusoidal',\n",
       "  'EPSG': '',\n",
       "  'GridMapping': 'sinusoidal',\n",
       "  'Name': 'sinu_modis',\n",
       "  'Proj4': '+proj=sinu +lon_0=0 +x_0=0 +y_0=0 +a=6371007.181 +b=6371007.181 +units=m +no_defs',\n",
       "  'Units': 'meters'},\n",
       " {'Available': True,\n",
       "  'Datum': 'wgs84',\n",
       "  'Description': 'WELD Albers Equal Area Alaska',\n",
       "  'EPSG': '',\n",
       "  'GridMapping': 'albers_conical_equal_area',\n",
       "  'Name': 'albers_weld_alaska',\n",
       "  'Proj4': '+proj=aea +lat_1=55 +lat_2=65 +lat_0=50 +lon_0=-154 +x_0=0 +y_0=0 +datum=WGS84 +units=m +no_defs',\n",
       "  'Units': 'meters'},\n",
       " {'Available': True,\n",
       "  'Datum': 'wgs84',\n",
       "  'Description': 'WELD Albers Equal Area CONUS',\n",
       "  'EPSG': '',\n",
       "  'GridMapping': 'albers_conical_equal_area',\n",
       "  'Name': 'albers_weld_conus',\n",
       "  'Proj4': '+proj=aea +lat_1=29.5 +lat_2=45.5 +lat_0=23 +lon_0=-96 +x_0=0 +y_0=0 +datum=WGS84 +units=m +no_defs',\n",
       "  'Units': 'meters'},\n",
       " {'Available': True,\n",
       "  'Datum': 'wgs84',\n",
       "  'Description': 'EASE-Grid 2.0 Global',\n",
       "  'EPSG': 6933.0,\n",
       "  'GridMapping': 'lambert_azimuthal_equal_area',\n",
       "  'Name': 'easegrid_2_global',\n",
       "  'Proj4': '+proj=cea +lon_0=0 +lat_ts=30 +x_0=0 +y_0=0 +datum=WGS84 +units=m +no_defs',\n",
       "  'Units': 'meters'},\n",
       " {'Available': True,\n",
       "  'Datum': 'wgs84',\n",
       "  'Description': 'EASE-Grid 2.0 Northern Hemisphere',\n",
       "  'EPSG': 6931.0,\n",
       "  'GridMapping': 'lambert_azimuthal_equal_area',\n",
       "  'Name': 'easegrid_2_north',\n",
       "  'Proj4': '+proj=laea +lat_0=90 +lon_0=0 +x_0=0 +y_0=0 +datum=WGS84 +units=m +no_defs',\n",
       "  'Units': 'meters'}]"
      ]
     },
     "execution_count": 21,
     "metadata": {},
     "output_type": "execute_result"
    }
   ],
   "source": [
    "projections = r.get('{}spatial/proj'.format(api)).json()  # Call to spatial API, return projs as json\n",
    "projections                                               # Print projections and information"
   ]
  },
  {
   "cell_type": "markdown",
   "metadata": {},
   "source": [
    "#### Create a dictionary of projections with projection `Name` as the keys."
   ]
  },
  {
   "cell_type": "code",
   "execution_count": 22,
   "metadata": {},
   "outputs": [
    {
     "data": {
      "text/plain": [
       "['native',\n",
       " 'geographic',\n",
       " 'sinu_modis',\n",
       " 'albers_weld_alaska',\n",
       " 'albers_weld_conus',\n",
       " 'easegrid_2_global',\n",
       " 'easegrid_2_north']"
      ]
     },
     "execution_count": 22,
     "metadata": {},
     "output_type": "execute_result"
    }
   ],
   "source": [
    "projs = {}                                  # Create an empty dictionary\n",
    "for p in projections: projs[p['Name']] = p  # Fill dictionary with `Name` as keys\n",
    "list(projs.keys())                          # Print dictionary keys"
   ]
  },
  {
   "cell_type": "markdown",
   "metadata": {},
   "source": [
    "#### Print the information for the projection used in this tutorial."
   ]
  },
  {
   "cell_type": "code",
   "execution_count": 23,
   "metadata": {},
   "outputs": [
    {
     "data": {
      "text/plain": [
       "{'Available': True,\n",
       " 'Datum': 'wgs84',\n",
       " 'Description': 'Geographic',\n",
       " 'EPSG': 4326.0,\n",
       " 'GridMapping': 'latitude_longitude',\n",
       " 'Name': 'geographic',\n",
       " 'Proj4': '+proj=longlat +datum=WGS84 +no_defs',\n",
       " 'Units': 'degrees'}"
      ]
     },
     "execution_count": 23,
     "metadata": {},
     "output_type": "execute_result"
    }
   ],
   "source": [
    "projs['geographic']"
   ]
  },
  {
   "cell_type": "markdown",
   "metadata": {},
   "source": [
    "---\n",
    "## 3c. Compile a JSON [[Task Object](https://lpdaacsvc.cr.usgs.gov/appeears/api/?language=Python%203#task-object)]\n",
    "#### In this section, begin by setting up the information needed to compile an acceptable json for submitting an AρρEEARS area request. For detailed information on required json parameters, see the [API Documentation](https://lpdaacsvc.cr.usgs.gov/appeears/api/?language=Python%203#tasks). "
   ]
  },
  {
   "cell_type": "code",
   "execution_count": 24,
   "metadata": {},
   "outputs": [],
   "source": [
    "task_name = input('Enter a Task Name: ') # User-defined name of the task: 'NPS Vegetation Area' used in example"
   ]
  },
  {
   "cell_type": "code",
   "execution_count": 25,
   "metadata": {},
   "outputs": [],
   "source": [
    "task_type = ['point','area']        # Type of task, area or point\n",
    "proj = projs['geographic']['Name']  # Set output projection \n",
    "outFormat = ['geotiff', 'netcdf4']  # Set output file format type\n",
    "startDate = '07-01-2017'            # Start of the date range for which to extract data: MM-DD-YYYY\n",
    "endDate = '07-31-2017'              # End of the date range for which to extract data: MM-DD-YYYY\n",
    "recurring = False                   # Specify True for a recurring date range\n",
    "#yearRange = [2000,2016]            # if recurring = True, set yearRange, change start/end date to MM-DD"
   ]
  },
  {
   "cell_type": "markdown",
   "metadata": {},
   "source": [
    "#### Below, compile the JSON to be submitted as an area request. Notice that `nps_gc` is inserted from the shapefile transformed to a json via the `geopandas` and `json` packages above in section 3a. "
   ]
  },
  {
   "cell_type": "code",
   "execution_count": 26,
   "metadata": {},
   "outputs": [],
   "source": [
    "task = {\n",
    "    'task_type': task_type[1],\n",
    "    'task_name': task_name,\n",
    "    'params': {\n",
    "         'dates': [\n",
    "         {\n",
    "             'startDate': startDate,\n",
    "             'endDate': endDate\n",
    "         }],\n",
    "         'layers': prodLayer,\n",
    "         'output': {\n",
    "                 'format': {\n",
    "                         'type': outFormat[0]}, \n",
    "                         'projection': proj},\n",
    "         'geo': nps_gc,\n",
    "    }\n",
    "}"
   ]
  },
  {
   "cell_type": "markdown",
   "metadata": {},
   "source": [
    "***\n",
    "## 3d. Submit a Task Request [[Submit Task](https://lpdaacsvc.cr.usgs.gov/appeears/api/?language=Python%203#submit-task)]\n",
    "#### Below, post a call to the API task service, using the `task` json created above."
   ]
  },
  {
   "cell_type": "code",
   "execution_count": 27,
   "metadata": {},
   "outputs": [
    {
     "data": {
      "text/plain": [
       "{'status': 'pending', 'task_id': '5ab03e68-9096-4c3d-a4b8-e35542129a1d'}"
      ]
     },
     "execution_count": 27,
     "metadata": {},
     "output_type": "execute_result"
    }
   ],
   "source": [
    "task_response = r.post('{}task'.format(api), json=task, headers=head).json()  # Post json to the API task service, return response as json\n",
    "task_response                                                                 # Print task response"
   ]
  },
  {
   "cell_type": "markdown",
   "metadata": {},
   "source": [
    "***\n",
    "## 3e. Retrieve Task Status [[Retrieve Task](https://lpdaacsvc.cr.usgs.gov/appeears/api/?language=Python%203#retrieve-task)]\n",
    "#### This API call will list all of the requests associated with your user account, automatically sorted by date descending with the most recent requests listed first. "
   ]
  },
  {
   "cell_type": "markdown",
   "metadata": {},
   "source": [
    "#### The AρρEEARS API contains some helpful formatting resources. Below, limit the API response to 2 entries and set `pretty` to True to format the response as an organized json, making it easier to read. Additional information on AρρEEARS API [pagination](https://lpdaacsvc.cr.usgs.gov/appeears/api/?language=Python%203#pagination) and [formatting](https://lpdaacsvc.cr.usgs.gov/appeears/api/?language=Python%203#formatting) can be found in the API documentation. "
   ]
  },
  {
   "cell_type": "code",
   "execution_count": 28,
   "metadata": {
    "collapsed": true
   },
   "outputs": [],
   "source": [
    "params = {'limit': 2, 'pretty': True} # Limit API response to 2 most recent entries, return as pretty json"
   ]
  },
  {
   "cell_type": "code",
   "execution_count": 29,
   "metadata": {},
   "outputs": [
    {
     "data": {
      "text/plain": [
       "[{'api_version': 'v1',\n",
       "  'created': '2018-04-19T14:32:10.629000',\n",
       "  'error': None,\n",
       "  'expires_on': None,\n",
       "  'params': {'dates': [{'endDate': '07-31-2017', 'startDate': '07-01-2017'}],\n",
       "   'layers': [{'layer': 'LST_Day_1km', 'product': 'MOD11A2.006'},\n",
       "    {'layer': 'LST_Night_1km', 'product': 'MOD11A2.006'},\n",
       "    {'layer': 'Lai_500m', 'product': 'MCD15A3H.006'},\n",
       "    {'layer': 'Band1', 'product': 'SRTMGL1.003'}]},\n",
       "  'retry_at': None,\n",
       "  'status': 'processing',\n",
       "  'svc_version': '2.7',\n",
       "  'task_id': '5ab03e68-9096-4c3d-a4b8-e35542129a1d',\n",
       "  'task_name': 'NPS Vegetation Area',\n",
       "  'task_type': 'area',\n",
       "  'updated': '2018-04-19T14:32:11.869000',\n",
       "  'user_id': 'lpdaac2018@gmail.com',\n",
       "  'web_version': None},\n",
       " {'api_version': 'v1',\n",
       "  'attempts': 1,\n",
       "  'created': '2018-04-19T13:39:47.099000',\n",
       "  'error': None,\n",
       "  'expires_on': None,\n",
       "  'params': {'dates': [{'endDate': '07-31-2017', 'startDate': '07-01-2017'}],\n",
       "   'layers': [{'layer': 'LST_Day_1km', 'product': 'MOD11A2.006'},\n",
       "    {'layer': 'LST_Night_1km', 'product': 'MOD11A2.006'},\n",
       "    {'layer': 'Lai_500m', 'product': 'MCD15A3H.006'},\n",
       "    {'layer': 'Band1', 'product': 'SRTMGL1.003'}]},\n",
       "  'retry_at': None,\n",
       "  'status': 'done',\n",
       "  'svc_version': '2.7',\n",
       "  'task_id': 'c97e3b68-2168-4fe5-b554-cd11ff03ff37',\n",
       "  'task_name': 'NPS Vegetation Area',\n",
       "  'task_type': 'area',\n",
       "  'updated': '2018-04-19T13:41:13.727000',\n",
       "  'user_id': 'lpdaac2018@gmail.com',\n",
       "  'web_version': None}]"
      ]
     },
     "execution_count": 29,
     "metadata": {},
     "output_type": "execute_result"
    }
   ],
   "source": [
    "tasks_response = r.get('{}task'.format(api), params=params, headers=head).json() # Query task service, setting params and header \n",
    "tasks_response                                                                   # Print tasks response"
   ]
  },
  {
   "cell_type": "markdown",
   "metadata": {},
   "source": [
    "#### Next, take the task id returned from the `task_response` that was generated when submitting your request, and use the AρρEEARS API status service to check the status of your request."
   ]
  },
  {
   "cell_type": "code",
   "execution_count": 30,
   "metadata": {},
   "outputs": [
    {
     "data": {
      "text/plain": [
       "{'progress': {'details': [{'desc': 'Initializing',\n",
       "    'pct_complete': 100,\n",
       "    'step': 1},\n",
       "   {'desc': 'Downloading', 'pct_complete': 100, 'step': 2},\n",
       "   {'desc': 'Generating Files', 'pct_complete': 16, 'step': 3},\n",
       "   {'desc': 'Extracting Stats', 'pct_complete': 0, 'step': 4},\n",
       "   {'desc': 'Finalizing', 'pct_complete': 0, 'step': 5}],\n",
       "  'summary': 51},\n",
       " 'status_id': '85042422-cb86-4ef3-8e57-bdecab1a4f83',\n",
       " 'status_type': 'task',\n",
       " 'task_id': '5ab03e68-9096-4c3d-a4b8-e35542129a1d',\n",
       " 'updated': '2018-04-19T14:32:47.043000',\n",
       " 'user_id': 'lpdaac2018@gmail.com'}"
      ]
     },
     "execution_count": 30,
     "metadata": {},
     "output_type": "execute_result"
    }
   ],
   "source": [
    "task_id = task_response['task_id']                                               # Set task id from request submission\n",
    "status_response = r.get('{}status/{}'.format(api, task_id), headers=head).json() # Call status service with specific task ID & user credentials\n",
    "status_response                                                        "
   ]
  },
  {
   "cell_type": "markdown",
   "metadata": {},
   "source": [
    "#### Above, if your request is still processing, you can find information on the status of how close it is to completing. \n",
    "#### Below, call the task service for your request every 20 seconds to check the status of your request."
   ]
  },
  {
   "cell_type": "code",
   "execution_count": 31,
   "metadata": {},
   "outputs": [
    {
     "name": "stdout",
     "output_type": "stream",
     "text": [
      "processing\n",
      "processing\n",
      "done\n",
      "done\n"
     ]
    }
   ],
   "source": [
    "# Ping API until request is complete, then continue to Section 4\n",
    "starttime = time.time()\n",
    "while r.get('{}task/{}'.format(api, task_id), headers=head).json()['status'] != 'done':\n",
    "    print(r.get('{}task/{}'.format(api, task_id), headers=head).json()['status'])\n",
    "    time.sleep(20.0 - ((time.time() - starttime) % 20.0))\n",
    "print(r.get('{}task/{}'.format(api, task_id), headers=head).json()['status'])"
   ]
  },
  {
   "cell_type": "markdown",
   "metadata": {},
   "source": [
    "***\n",
    "# 4. Download a Request [[Bundle API](https://lpdaacsvc.cr.usgs.gov/appeears/api/?language=Python%203#bundle)]\n",
    "#### Before downloading the request output, set up an output directory to store the output files, and examine the files contained in the request output. "
   ]
  },
  {
   "cell_type": "code",
   "execution_count": 32,
   "metadata": {
    "collapsed": true
   },
   "outputs": [],
   "source": [
    "destDir = os.path.join(inDir, task_name)                # Set up output directory using input directory and task name\n",
    "if not os.path.exists(destDir):os.makedirs(destDir)     # Create the output directory"
   ]
  },
  {
   "cell_type": "markdown",
   "metadata": {},
   "source": [
    "---\n",
    "## 4a. Explore Files in Request Output [[List Files](https://lpdaacsvc.cr.usgs.gov/appeears/api/?language=Python%203#list-files)]\n",
    "#### The bundle API provides information about completed tasks. For any completed task, a bundle can be queried to return the files contained as a part of the task request. Below, call the bundle API and return all of the output files."
   ]
  },
  {
   "cell_type": "code",
   "execution_count": 33,
   "metadata": {},
   "outputs": [
    {
     "data": {
      "text/plain": [
       "{'bundle_type': 'area',\n",
       " 'created': '2018-04-19T14:34:43.582000',\n",
       " 'files': [{'file_id': '90b38902-53d3-49c4-8f5b-992534d33c30',\n",
       "   'file_name': 'MCD15A3H.006_2017182_to_2017212/MCD15A3H.006_Lai_500m_doy2017185_aid0001.tif',\n",
       "   'file_size': 22314,\n",
       "   'file_type': 'tif',\n",
       "   'sha256': '6df26e6faec2a6246fb119058e9241e51907a8c33f419331a39becf133bd8ae8'},\n",
       "  {'file_id': 'ced62b05-5c6e-4cc8-91eb-7baa3d3516f4',\n",
       "   'file_name': 'MCD15A3H.006_2017182_to_2017212/MCD15A3H.006_Lai_500m_doy2017189_aid0001.tif',\n",
       "   'file_size': 22624,\n",
       "   'file_type': 'tif',\n",
       "   'sha256': 'a665cb8c97eb6d6e4b451dcad9858062714d4c22db7e484c4c0ae98ff81ce965'},\n",
       "  {'file_id': '9e89e081-0f61-4031-88af-07e6ed17ea57',\n",
       "   'file_name': 'MCD15A3H.006_2017182_to_2017212/MCD15A3H.006_Lai_500m_doy2017193_aid0001.tif',\n",
       "   'file_size': 22818,\n",
       "   'file_type': 'tif',\n",
       "   'sha256': '13906ebee165a560b1821bdaa081c2174097bc97d5c556fcb3bafe05cd54c0b7'},\n",
       "  {'file_id': '79ec947e-e9bd-4898-89f0-c643bbc72c6a',\n",
       "   'file_name': 'MCD15A3H.006_2017182_to_2017212/MCD15A3H.006_Lai_500m_doy2017197_aid0001.tif',\n",
       "   'file_size': 23069,\n",
       "   'file_type': 'tif',\n",
       "   'sha256': '59df354309a73574562df0e5ead34a7549565b31e000bb0e8ed8bc4981a5ad14'},\n",
       "  {'file_id': '466cbe55-585b-4e9e-b52f-089b2c267ed2',\n",
       "   'file_name': 'MCD15A3H.006_2017182_to_2017212/MCD15A3H.006_Lai_500m_doy2017201_aid0001.tif',\n",
       "   'file_size': 23314,\n",
       "   'file_type': 'tif',\n",
       "   'sha256': 'f72ee626d840d795950c5b9030371147945cd478de96ac456478f0b37a7dac21'},\n",
       "  {'file_id': '20520875-c158-4c96-967e-32c09784e6c6',\n",
       "   'file_name': 'MCD15A3H.006_2017182_to_2017212/MCD15A3H.006_Lai_500m_doy2017205_aid0001.tif',\n",
       "   'file_size': 22221,\n",
       "   'file_type': 'tif',\n",
       "   'sha256': '65fb870cd949359868773b8634faa648270efd6ac6c25c83ae05336704b79f3b'},\n",
       "  {'file_id': '2cb2fdf4-f5c7-4f4e-97c1-543fe8ac5b81',\n",
       "   'file_name': 'MCD15A3H.006_2017182_to_2017212/MCD15A3H.006_Lai_500m_doy2017209_aid0001.tif',\n",
       "   'file_size': 22321,\n",
       "   'file_type': 'tif',\n",
       "   'sha256': '0df8bd82af14de440e504fa96ebab98f25661afc179e1b2bd219767993a74bb0'},\n",
       "  {'file_id': '472efd46-c218-43c1-8580-5a04cf2027f7',\n",
       "   'file_name': 'MCD15A3H.006_2017182_to_2017212/MCD15A3H.006_FparLai_QC_doy2017185_aid0001.tif',\n",
       "   'file_size': 16447,\n",
       "   'file_type': 'tif',\n",
       "   'sha256': '1da8f49cef70bb14b55a07d576a22004976053031bc4ae4456a6346d29c62fd7'},\n",
       "  {'file_id': '90d11971-a02e-4fdb-84b4-d4d638b67df9',\n",
       "   'file_name': 'MCD15A3H.006_2017182_to_2017212/MCD15A3H.006_FparLai_QC_doy2017189_aid0001.tif',\n",
       "   'file_size': 16522,\n",
       "   'file_type': 'tif',\n",
       "   'sha256': '72beefc0d66a9465ba729d1607478937b40a26427bd98c45aaab4eb51b55ef20'},\n",
       "  {'file_id': 'f0c11af2-b02e-4883-b3d9-144704e7bb2b',\n",
       "   'file_name': 'MCD15A3H.006_2017182_to_2017212/MCD15A3H.006_FparLai_QC_doy2017193_aid0001.tif',\n",
       "   'file_size': 17247,\n",
       "   'file_type': 'tif',\n",
       "   'sha256': 'b10673628d9b7114321170ab94d3ba049b64b8761ccef67dbbf09ca47287fca1'},\n",
       "  {'file_id': '3b2d5834-a9f7-44c6-9700-3aada7c579ea',\n",
       "   'file_name': 'MCD15A3H.006_2017182_to_2017212/MCD15A3H.006_FparLai_QC_doy2017197_aid0001.tif',\n",
       "   'file_size': 15325,\n",
       "   'file_type': 'tif',\n",
       "   'sha256': 'd665c49bdb399c7d0138c94c2ad5eb0256ea268f472e40674bcfdbd6afe887f1'},\n",
       "  {'file_id': 'a5270a27-f29b-4ddf-9787-73ac1cbe6b69',\n",
       "   'file_name': 'MCD15A3H.006_2017182_to_2017212/MCD15A3H.006_FparLai_QC_doy2017201_aid0001.tif',\n",
       "   'file_size': 18111,\n",
       "   'file_type': 'tif',\n",
       "   'sha256': 'e648f2063d44eef8055ec5ecbe2f0ca2a814c628d4a1139de3cdbe0ae0f783c6'},\n",
       "  {'file_id': '9b4dba8a-8038-41cf-a72c-d226dc589ca9',\n",
       "   'file_name': 'MCD15A3H.006_2017182_to_2017212/MCD15A3H.006_FparLai_QC_doy2017205_aid0001.tif',\n",
       "   'file_size': 17631,\n",
       "   'file_type': 'tif',\n",
       "   'sha256': '534aabc4214fe7aa5c281a02cb4e9f1d009be792468a1df6a6e9de2ecb8f6308'},\n",
       "  {'file_id': 'ce9a91a2-0115-46ae-a16d-d26199542fbf',\n",
       "   'file_name': 'MCD15A3H.006_2017182_to_2017212/MCD15A3H.006_FparLai_QC_doy2017209_aid0001.tif',\n",
       "   'file_size': 19351,\n",
       "   'file_type': 'tif',\n",
       "   'sha256': '3d0f25ccd2fecfd4e172154f00e27e52a8615bc2317ced28de706c7d2849ed9a'},\n",
       "  {'file_id': '51d666d8-1a62-4a2e-b312-ab30349f18a0',\n",
       "   'file_name': 'MOD11A2.006_2017182_to_2017212/MOD11A2.006_LST_Day_1km_doy2017185_aid0001.tif',\n",
       "   'file_size': 20726,\n",
       "   'file_type': 'tif',\n",
       "   'sha256': '9c0be4389829214e976783ca06a14c86fcee05ea70fcbeac60e9ca06d2c3db96'},\n",
       "  {'file_id': '2332a9e6-1d00-4162-a870-d136d39245fc',\n",
       "   'file_name': 'MOD11A2.006_2017182_to_2017212/MOD11A2.006_LST_Day_1km_doy2017193_aid0001.tif',\n",
       "   'file_size': 20906,\n",
       "   'file_type': 'tif',\n",
       "   'sha256': '98754a517c21b7dba405303056df845f4875e8ed8714a26154cf61317e705b8a'},\n",
       "  {'file_id': '9391cd86-9c58-4837-8b61-cd9db3634e91',\n",
       "   'file_name': 'MOD11A2.006_2017182_to_2017212/MOD11A2.006_LST_Day_1km_doy2017201_aid0001.tif',\n",
       "   'file_size': 21006,\n",
       "   'file_type': 'tif',\n",
       "   'sha256': '02df614606c5f819a75eaca59edf6966a2220a039f79a8dbf3cd0fe6dc817847'},\n",
       "  {'file_id': 'a51bc12d-f81d-490a-b1d3-f0f42b5a3506',\n",
       "   'file_name': 'MOD11A2.006_2017182_to_2017212/MOD11A2.006_LST_Day_1km_doy2017209_aid0001.tif',\n",
       "   'file_size': 21055,\n",
       "   'file_type': 'tif',\n",
       "   'sha256': 'fb1bcc64f24aee0782c1e13e20709d668837671a0c169bb709c12c780fe7a883'},\n",
       "  {'file_id': '0ad89106-888f-47c3-b338-ed35612373e1',\n",
       "   'file_name': 'MOD11A2.006_2017182_to_2017212/MOD11A2.006_LST_Night_1km_doy2017185_aid0001.tif',\n",
       "   'file_size': 20944,\n",
       "   'file_type': 'tif',\n",
       "   'sha256': 'b5c1cb64119c64dfa4eca104f76d33e4206025b9e869462d3a389c3969ff90ec'},\n",
       "  {'file_id': 'c85a4f58-2f42-4453-9d79-58abda51e87f',\n",
       "   'file_name': 'MOD11A2.006_2017182_to_2017212/MOD11A2.006_LST_Night_1km_doy2017193_aid0001.tif',\n",
       "   'file_size': 20894,\n",
       "   'file_type': 'tif',\n",
       "   'sha256': 'f0fc737755f379c7c3426cb6ecffec7daa47128b58789d97199b3b6fcad6bb44'},\n",
       "  {'file_id': 'fccca1b0-8302-4794-b2a6-e219440ba790',\n",
       "   'file_name': 'MOD11A2.006_2017182_to_2017212/MOD11A2.006_LST_Night_1km_doy2017201_aid0001.tif',\n",
       "   'file_size': 20753,\n",
       "   'file_type': 'tif',\n",
       "   'sha256': 'abebe9f6d18d12f9e398f981889de6dac2cbbd1eb4ac5e65eee027e72a134d31'},\n",
       "  {'file_id': 'c96cfb13-8cb0-4635-a710-31406e70a1aa',\n",
       "   'file_name': 'MOD11A2.006_2017182_to_2017212/MOD11A2.006_LST_Night_1km_doy2017209_aid0001.tif',\n",
       "   'file_size': 20740,\n",
       "   'file_type': 'tif',\n",
       "   'sha256': 'dc46df8bf9e9280d775aa3616b87b84d9568fe95ef0b60788774a0dc1731d628'},\n",
       "  {'file_id': '425949c7-001d-4259-991b-748fc6fdd3e4',\n",
       "   'file_name': 'MOD11A2.006_2017182_to_2017212/MOD11A2.006_QC_Day_doy2017185_aid0001.tif',\n",
       "   'file_size': 4167,\n",
       "   'file_type': 'tif',\n",
       "   'sha256': 'fd51d505ea5ad3e151852579f57f3dbcac2f6dd6ad70143937699899a251babd'},\n",
       "  {'file_id': '0641bff4-b261-4d02-bbb7-77e8a2690685',\n",
       "   'file_name': 'MOD11A2.006_2017182_to_2017212/MOD11A2.006_QC_Day_doy2017193_aid0001.tif',\n",
       "   'file_size': 3780,\n",
       "   'file_type': 'tif',\n",
       "   'sha256': '938c62a176b134229f0ee116e6d4f3489a781a53bcd47843117b2e7793dcfeeb'},\n",
       "  {'file_id': 'e0541de2-f55f-494a-9a0f-fa1571ee2777',\n",
       "   'file_name': 'MOD11A2.006_2017182_to_2017212/MOD11A2.006_QC_Day_doy2017201_aid0001.tif',\n",
       "   'file_size': 4260,\n",
       "   'file_type': 'tif',\n",
       "   'sha256': '3d83c6eefd76ddbe114aede0c5db08906f0ec2f01eba8b0bf0b497104616f82b'},\n",
       "  {'file_id': '18e3ad78-25c6-4b8f-a26c-f8f40fe26b40',\n",
       "   'file_name': 'MOD11A2.006_2017182_to_2017212/MOD11A2.006_QC_Day_doy2017209_aid0001.tif',\n",
       "   'file_size': 4399,\n",
       "   'file_type': 'tif',\n",
       "   'sha256': 'd13eac0cd473af8a9d8042b2713c590390cb5de0ff97daeea15b1a4e910bcff6'},\n",
       "  {'file_id': 'a057c0fe-8f05-4ab0-a39a-0cf64887460b',\n",
       "   'file_name': 'MOD11A2.006_2017182_to_2017212/MOD11A2.006_QC_Night_doy2017185_aid0001.tif',\n",
       "   'file_size': 3474,\n",
       "   'file_type': 'tif',\n",
       "   'sha256': '74cb18c9fa57c02d54688cc2476fc9aedb4d1212676f69f972fad44593975bb5'},\n",
       "  {'file_id': 'cbf1259c-08c0-4957-88be-fbe9268345fc',\n",
       "   'file_name': 'MOD11A2.006_2017182_to_2017212/MOD11A2.006_QC_Night_doy2017193_aid0001.tif',\n",
       "   'file_size': 4059,\n",
       "   'file_type': 'tif',\n",
       "   'sha256': '12dafc4573b5c5463a87db4a2372233a3d6e65ef5951c03bb4f9b80a817ef7be'},\n",
       "  {'file_id': '0c9c6a4f-aeed-429e-bc30-6a803d5dce9f',\n",
       "   'file_name': 'MOD11A2.006_2017182_to_2017212/MOD11A2.006_QC_Night_doy2017201_aid0001.tif',\n",
       "   'file_size': 4086,\n",
       "   'file_type': 'tif',\n",
       "   'sha256': '8e02bba546cf4c36b803dab5828fb17b80bf2122961c3d867c8f79c2547394ce'},\n",
       "  {'file_id': 'f45cb774-9d8c-4676-8afd-70a406be371e',\n",
       "   'file_name': 'MOD11A2.006_2017182_to_2017212/MOD11A2.006_QC_Night_doy2017209_aid0001.tif',\n",
       "   'file_size': 4261,\n",
       "   'file_type': 'tif',\n",
       "   'sha256': 'a5eaa02b02f5f8684fef1fc63a292c0a980f2361bd188a544e63dd5467235edf'},\n",
       "  {'file_id': '652bbdca-495e-4d03-9b44-37187606b089',\n",
       "   'file_name': 'SRTMGL1.003_2017182_to_2017212/SRTMGL1.003_Band1_doy2000042_aid0001.tif',\n",
       "   'file_size': 13874640,\n",
       "   'file_type': 'tif',\n",
       "   'sha256': 'cd847b565dc838fa9563c82b6c4f9252ded8a5d0baed4c861649e77bfca763d3'},\n",
       "  {'file_id': 'd8694e31-0e23-419e-8873-0a475bf6f4c2',\n",
       "   'file_name': 'SRTMGL1N.003_2017182_to_2017212/SRTMGL1N.003_Band1_doy2000042_aid0001.tif',\n",
       "   'file_size': 2390131,\n",
       "   'file_type': 'tif',\n",
       "   'sha256': '70ec677f35b9d2d08f87050af995e5019d016df9bbfe7f5ec5569c308eda375a'},\n",
       "  {'file_id': '4d59d92c-2a72-48d6-92a8-06408760f509',\n",
       "   'file_name': 'MCD15A3H-006-FparLai-QC-lookup.csv',\n",
       "   'file_size': 3939,\n",
       "   'file_type': 'csv',\n",
       "   'sha256': '2262ee6f69834f4ad0c5ac36a2122ee84518844983aa85d0f416bc4ea04af2f3'},\n",
       "  {'file_id': '82bbb5fc-81ee-4bc6-aef1-c38dbc0039e8',\n",
       "   'file_name': 'MOD11A2-006-QC-Day-lookup.csv',\n",
       "   'file_size': 516,\n",
       "   'file_type': 'csv',\n",
       "   'sha256': '67d369219e0835b556cbf67b20f97b1554f886835c758c8302e9d13610ace36c'},\n",
       "  {'file_id': '54e95aa3-cdfb-462b-9b1c-f38433348005',\n",
       "   'file_name': 'MOD11A2-006-QC-Night-lookup.csv',\n",
       "   'file_size': 631,\n",
       "   'file_type': 'csv',\n",
       "   'sha256': '84265a384dcc629d7e4d37b1b92c784c396bfdd8211d2b030b21840621dbf211'},\n",
       "  {'file_id': 'c4bffc6b-4ae0-4c05-bd01-66b56272b802',\n",
       "   'file_name': 'SRTMGL1N-003-Band1-lookup.csv',\n",
       "   'file_size': 1534,\n",
       "   'file_type': 'csv',\n",
       "   'sha256': '906d1c5662fba410feb6721e0065a662decbaad87e0379935c0938aa9f27317e'},\n",
       "  {'file_id': '3d9fd1a2-0889-4092-8624-da7c458d3292',\n",
       "   'file_name': 'MCD15A3H-006-FparLai-QC-Statistics-QA.csv',\n",
       "   'file_size': 767,\n",
       "   'file_type': 'csv',\n",
       "   'sha256': 'bce048196c5b52ab20bbbd413316849e63cc504a44b566502390103ee69aea41'},\n",
       "  {'file_id': 'f645c9f0-d78c-41bd-b9e4-d090a7c397f5',\n",
       "   'file_name': 'MOD11A2-006-QC-Day-Statistics-QA.csv',\n",
       "   'file_size': 245,\n",
       "   'file_type': 'csv',\n",
       "   'sha256': 'f2f8674fd2c69469d0c6832e760dbad530233ee0a0eedd73adbe8d874e9d3e9a'},\n",
       "  {'file_id': '40d70eb7-7f11-4939-b88c-25ee7e543378',\n",
       "   'file_name': 'MOD11A2-006-QC-Night-Statistics-QA.csv',\n",
       "   'file_size': 268,\n",
       "   'file_type': 'csv',\n",
       "   'sha256': '32c62684e06bfd1f3e012567427863dd51388a63dec74eae29efa503684a6740'},\n",
       "  {'file_id': 'd35c4e8e-500d-4b65-9475-6322398bf1c0',\n",
       "   'file_name': 'SRTMGL1N-003-Band1-Statistics-QA.csv',\n",
       "   'file_size': 546,\n",
       "   'file_type': 'csv',\n",
       "   'sha256': 'b8d34e627d6a6a5286c9524a1560e5648490003040f706240000d031a32869ac'},\n",
       "  {'file_id': '8373241c-8ed2-4a5e-aeb1-df3a35387aac',\n",
       "   'file_name': 'MCD15A3H-006-Statistics.csv',\n",
       "   'file_size': 1113,\n",
       "   'file_type': 'csv',\n",
       "   'sha256': 'ecb036c2e7ad9c3f5485c4b1e748b9afca75de07bedf8c2cdfbbcf5f3adc46d5'},\n",
       "  {'file_id': 'af85254a-2d3b-4b64-a064-5aa1241ba2d9',\n",
       "   'file_name': 'MOD11A2-006-Statistics.csv',\n",
       "   'file_size': 1521,\n",
       "   'file_type': 'csv',\n",
       "   'sha256': '82dcac4dfaf6fe3f05a9067422be390bdf36f6ebb437ca4ff4ef1b7096d8c896'},\n",
       "  {'file_id': '10c4aca8-e32d-40fd-bad9-1cf3035ca641',\n",
       "   'file_name': 'SRTMGL1-003-Statistics.csv',\n",
       "   'file_size': 320,\n",
       "   'file_type': 'csv',\n",
       "   'sha256': '54fa76cee411fd221697f63ea7ebd8146507b36e13b7ae56ee2f50a015caa77c'},\n",
       "  {'file_id': 'a45c879a-5aa7-405c-85b0-3fbf193d12a1',\n",
       "   'file_name': 'NPS-Vegetation-Area-granule-list.txt',\n",
       "   'file_size': 4046,\n",
       "   'file_type': 'txt',\n",
       "   'sha256': '27a7fe9ccc12f5d898e8604cc8d5721bf034a1daa0bb194289e032865e8cfc82'},\n",
       "  {'file_id': 'ca722bcc-5e69-4892-b147-34815f75ca45',\n",
       "   'file_name': 'NPS-Vegetation-Area-request.json',\n",
       "   'file_size': 13613955,\n",
       "   'file_type': 'json',\n",
       "   'sha256': 'a702ec36e83aadb307f1278f302692205989fab7ee87c75f3a9be68564e94e5e'},\n",
       "  {'file_id': '19557597-f5c1-4a31-94e1-cdaf29997b9d',\n",
       "   'file_name': 'NPS-Vegetation-Area-MCD15A3H-006-metadata.xml',\n",
       "   'file_size': 21326,\n",
       "   'file_type': 'xml',\n",
       "   'sha256': '58cd4c563a65cf40bac88a9567f2664ef0878e55ed82f71c48e5cf012acf606f'},\n",
       "  {'file_id': '1a36ed71-d9ef-4918-95fb-60424014f5cb',\n",
       "   'file_name': 'NPS-Vegetation-Area-MOD11A2-006-metadata.xml',\n",
       "   'file_size': 21291,\n",
       "   'file_type': 'xml',\n",
       "   'sha256': 'bd86d03212b1380c4b29b4364255dc48e9559d4967111be3032ea9588686d399'},\n",
       "  {'file_id': '631a22d7-1eae-4b93-8065-fcc180edc42e',\n",
       "   'file_name': 'NPS-Vegetation-Area-SRTMGL1-003-metadata.xml',\n",
       "   'file_size': 21266,\n",
       "   'file_type': 'xml',\n",
       "   'sha256': '96e9ea603bcd52215903cb0b4358210305a16049d2cfd36c25a51d9e53c083bf'},\n",
       "  {'file_id': '18d5efbf-51da-4ba2-9dd0-65d9c1932803',\n",
       "   'file_name': 'README.txt',\n",
       "   'file_size': 15680,\n",
       "   'file_type': 'txt',\n",
       "   'sha256': '9bd05acfa6ddecd2317a841e46bf4704e5f6c9c1b7a5782da65a7ee08e379309'}],\n",
       " 'task_id': '5ab03e68-9096-4c3d-a4b8-e35542129a1d',\n",
       " 'updated': '2018-04-19T14:33:32.406000'}"
      ]
     },
     "execution_count": 33,
     "metadata": {},
     "output_type": "execute_result"
    }
   ],
   "source": [
    "bundle = r.get('{}bundle/{}'.format(api,task_id)).json()  # Call API and return bundle contents for the task_id as json\n",
    "bundle                                                    # Print bundle contents"
   ]
  },
  {
   "cell_type": "markdown",
   "metadata": {},
   "source": [
    "***\n",
    "## 4b. Download Files in a Request (Automation) [[Download File](https://lpdaacsvc.cr.usgs.gov/appeears/api/?language=Python%203#download-file)]\n",
    "#### Now, use the contents of the bundle to select the file name and id and store as a dictionary. "
   ]
  },
  {
   "cell_type": "code",
   "execution_count": 34,
   "metadata": {},
   "outputs": [
    {
     "data": {
      "text/plain": [
       "{'0641bff4-b261-4d02-bbb7-77e8a2690685': 'MOD11A2.006_2017182_to_2017212/MOD11A2.006_QC_Day_doy2017193_aid0001.tif',\n",
       " '0ad89106-888f-47c3-b338-ed35612373e1': 'MOD11A2.006_2017182_to_2017212/MOD11A2.006_LST_Night_1km_doy2017185_aid0001.tif',\n",
       " '0c9c6a4f-aeed-429e-bc30-6a803d5dce9f': 'MOD11A2.006_2017182_to_2017212/MOD11A2.006_QC_Night_doy2017201_aid0001.tif',\n",
       " '10c4aca8-e32d-40fd-bad9-1cf3035ca641': 'SRTMGL1-003-Statistics.csv',\n",
       " '18d5efbf-51da-4ba2-9dd0-65d9c1932803': 'README.txt',\n",
       " '18e3ad78-25c6-4b8f-a26c-f8f40fe26b40': 'MOD11A2.006_2017182_to_2017212/MOD11A2.006_QC_Day_doy2017209_aid0001.tif',\n",
       " '19557597-f5c1-4a31-94e1-cdaf29997b9d': 'NPS-Vegetation-Area-MCD15A3H-006-metadata.xml',\n",
       " '1a36ed71-d9ef-4918-95fb-60424014f5cb': 'NPS-Vegetation-Area-MOD11A2-006-metadata.xml',\n",
       " '20520875-c158-4c96-967e-32c09784e6c6': 'MCD15A3H.006_2017182_to_2017212/MCD15A3H.006_Lai_500m_doy2017205_aid0001.tif',\n",
       " '2332a9e6-1d00-4162-a870-d136d39245fc': 'MOD11A2.006_2017182_to_2017212/MOD11A2.006_LST_Day_1km_doy2017193_aid0001.tif',\n",
       " '2cb2fdf4-f5c7-4f4e-97c1-543fe8ac5b81': 'MCD15A3H.006_2017182_to_2017212/MCD15A3H.006_Lai_500m_doy2017209_aid0001.tif',\n",
       " '3b2d5834-a9f7-44c6-9700-3aada7c579ea': 'MCD15A3H.006_2017182_to_2017212/MCD15A3H.006_FparLai_QC_doy2017197_aid0001.tif',\n",
       " '3d9fd1a2-0889-4092-8624-da7c458d3292': 'MCD15A3H-006-FparLai-QC-Statistics-QA.csv',\n",
       " '40d70eb7-7f11-4939-b88c-25ee7e543378': 'MOD11A2-006-QC-Night-Statistics-QA.csv',\n",
       " '425949c7-001d-4259-991b-748fc6fdd3e4': 'MOD11A2.006_2017182_to_2017212/MOD11A2.006_QC_Day_doy2017185_aid0001.tif',\n",
       " '466cbe55-585b-4e9e-b52f-089b2c267ed2': 'MCD15A3H.006_2017182_to_2017212/MCD15A3H.006_Lai_500m_doy2017201_aid0001.tif',\n",
       " '472efd46-c218-43c1-8580-5a04cf2027f7': 'MCD15A3H.006_2017182_to_2017212/MCD15A3H.006_FparLai_QC_doy2017185_aid0001.tif',\n",
       " '4d59d92c-2a72-48d6-92a8-06408760f509': 'MCD15A3H-006-FparLai-QC-lookup.csv',\n",
       " '51d666d8-1a62-4a2e-b312-ab30349f18a0': 'MOD11A2.006_2017182_to_2017212/MOD11A2.006_LST_Day_1km_doy2017185_aid0001.tif',\n",
       " '54e95aa3-cdfb-462b-9b1c-f38433348005': 'MOD11A2-006-QC-Night-lookup.csv',\n",
       " '631a22d7-1eae-4b93-8065-fcc180edc42e': 'NPS-Vegetation-Area-SRTMGL1-003-metadata.xml',\n",
       " '652bbdca-495e-4d03-9b44-37187606b089': 'SRTMGL1.003_2017182_to_2017212/SRTMGL1.003_Band1_doy2000042_aid0001.tif',\n",
       " '79ec947e-e9bd-4898-89f0-c643bbc72c6a': 'MCD15A3H.006_2017182_to_2017212/MCD15A3H.006_Lai_500m_doy2017197_aid0001.tif',\n",
       " '82bbb5fc-81ee-4bc6-aef1-c38dbc0039e8': 'MOD11A2-006-QC-Day-lookup.csv',\n",
       " '8373241c-8ed2-4a5e-aeb1-df3a35387aac': 'MCD15A3H-006-Statistics.csv',\n",
       " '90b38902-53d3-49c4-8f5b-992534d33c30': 'MCD15A3H.006_2017182_to_2017212/MCD15A3H.006_Lai_500m_doy2017185_aid0001.tif',\n",
       " '90d11971-a02e-4fdb-84b4-d4d638b67df9': 'MCD15A3H.006_2017182_to_2017212/MCD15A3H.006_FparLai_QC_doy2017189_aid0001.tif',\n",
       " '9391cd86-9c58-4837-8b61-cd9db3634e91': 'MOD11A2.006_2017182_to_2017212/MOD11A2.006_LST_Day_1km_doy2017201_aid0001.tif',\n",
       " '9b4dba8a-8038-41cf-a72c-d226dc589ca9': 'MCD15A3H.006_2017182_to_2017212/MCD15A3H.006_FparLai_QC_doy2017205_aid0001.tif',\n",
       " '9e89e081-0f61-4031-88af-07e6ed17ea57': 'MCD15A3H.006_2017182_to_2017212/MCD15A3H.006_Lai_500m_doy2017193_aid0001.tif',\n",
       " 'a057c0fe-8f05-4ab0-a39a-0cf64887460b': 'MOD11A2.006_2017182_to_2017212/MOD11A2.006_QC_Night_doy2017185_aid0001.tif',\n",
       " 'a45c879a-5aa7-405c-85b0-3fbf193d12a1': 'NPS-Vegetation-Area-granule-list.txt',\n",
       " 'a51bc12d-f81d-490a-b1d3-f0f42b5a3506': 'MOD11A2.006_2017182_to_2017212/MOD11A2.006_LST_Day_1km_doy2017209_aid0001.tif',\n",
       " 'a5270a27-f29b-4ddf-9787-73ac1cbe6b69': 'MCD15A3H.006_2017182_to_2017212/MCD15A3H.006_FparLai_QC_doy2017201_aid0001.tif',\n",
       " 'af85254a-2d3b-4b64-a064-5aa1241ba2d9': 'MOD11A2-006-Statistics.csv',\n",
       " 'c4bffc6b-4ae0-4c05-bd01-66b56272b802': 'SRTMGL1N-003-Band1-lookup.csv',\n",
       " 'c85a4f58-2f42-4453-9d79-58abda51e87f': 'MOD11A2.006_2017182_to_2017212/MOD11A2.006_LST_Night_1km_doy2017193_aid0001.tif',\n",
       " 'c96cfb13-8cb0-4635-a710-31406e70a1aa': 'MOD11A2.006_2017182_to_2017212/MOD11A2.006_LST_Night_1km_doy2017209_aid0001.tif',\n",
       " 'ca722bcc-5e69-4892-b147-34815f75ca45': 'NPS-Vegetation-Area-request.json',\n",
       " 'cbf1259c-08c0-4957-88be-fbe9268345fc': 'MOD11A2.006_2017182_to_2017212/MOD11A2.006_QC_Night_doy2017193_aid0001.tif',\n",
       " 'ce9a91a2-0115-46ae-a16d-d26199542fbf': 'MCD15A3H.006_2017182_to_2017212/MCD15A3H.006_FparLai_QC_doy2017209_aid0001.tif',\n",
       " 'ced62b05-5c6e-4cc8-91eb-7baa3d3516f4': 'MCD15A3H.006_2017182_to_2017212/MCD15A3H.006_Lai_500m_doy2017189_aid0001.tif',\n",
       " 'd35c4e8e-500d-4b65-9475-6322398bf1c0': 'SRTMGL1N-003-Band1-Statistics-QA.csv',\n",
       " 'd8694e31-0e23-419e-8873-0a475bf6f4c2': 'SRTMGL1N.003_2017182_to_2017212/SRTMGL1N.003_Band1_doy2000042_aid0001.tif',\n",
       " 'e0541de2-f55f-494a-9a0f-fa1571ee2777': 'MOD11A2.006_2017182_to_2017212/MOD11A2.006_QC_Day_doy2017201_aid0001.tif',\n",
       " 'f0c11af2-b02e-4883-b3d9-144704e7bb2b': 'MCD15A3H.006_2017182_to_2017212/MCD15A3H.006_FparLai_QC_doy2017193_aid0001.tif',\n",
       " 'f45cb774-9d8c-4676-8afd-70a406be371e': 'MOD11A2.006_2017182_to_2017212/MOD11A2.006_QC_Night_doy2017209_aid0001.tif',\n",
       " 'f645c9f0-d78c-41bd-b9e4-d090a7c397f5': 'MOD11A2-006-QC-Day-Statistics-QA.csv',\n",
       " 'fccca1b0-8302-4794-b2a6-e219440ba790': 'MOD11A2.006_2017182_to_2017212/MOD11A2.006_LST_Night_1km_doy2017201_aid0001.tif'}"
      ]
     },
     "execution_count": 34,
     "metadata": {},
     "output_type": "execute_result"
    }
   ],
   "source": [
    "files = {}                                                       # Create empty dictionary\n",
    "for f in bundle['files']: files[f['file_id']] = f['file_name']   # Fill dictionary with file_id as keys and file_name as values\n",
    "files    "
   ]
  },
  {
   "cell_type": "markdown",
   "metadata": {},
   "source": [
    "#### Use the `files` dictionary and a `for` loop to automate downloading all of the output files into the output directory. "
   ]
  },
  {
   "cell_type": "code",
   "execution_count": 35,
   "metadata": {},
   "outputs": [
    {
     "name": "stdout",
     "output_type": "stream",
     "text": [
      "Downloaded files can be found at: C:/Users/ckrehbiel/Documents/appeears-api-getting-started/NPS Vegetation Area\n"
     ]
    }
   ],
   "source": [
    "for f in files:\n",
    "    dl = r.get('{}bundle/{}/{}'.format(api, task_id, f), stream=True)                                # Get a stream to the bundle file\n",
    "    filename = os.path.basename(cgi.parse_header(dl.headers['Content-Disposition'])[1]['filename'])  # Parse the name from Content-Disposition header \n",
    "    filepath = os.path.join(destDir, filename)                                                       # Create output file path\n",
    "    with open(filepath, 'wb') as f:                                                                  # Write file to dest dir\n",
    "        for data in dl.iter_content(chunk_size=8192): f.write(data) \n",
    "print('Downloaded files can be found at: {}'.format(destDir))"
   ]
  },
  {
   "cell_type": "markdown",
   "metadata": {},
   "source": [
    "***\n",
    "# 5. Explore AρρEEARS Quality Service [[Quality API](https://lpdaacsvc.cr.usgs.gov/appeears/api/?language=Python%203#quality)]\n",
    "#### The quality API provides quality details about all of the data products available in AρρEEARS. Below are examples of how to query the quality API for listing quality products, layers, and values. The final example (Section 5c.) demonstrates how AρρEEARS quality services can be leveraged to decode pertinent quality values for your data.\n",
    "#### First, reset pagination to include `offset` which allows you to set the number of results to skip before starting to return entries. Next, make a call to list all of the data product layers and the associated quality product and layer information."
   ]
  },
  {
   "cell_type": "code",
   "execution_count": 36,
   "metadata": {},
   "outputs": [
    {
     "data": {
      "text/plain": [
       "[{'Layer': 'Fpar_500m',\n",
       "  'ProductAndVersion': 'MCD15A2H.006',\n",
       "  'QualityLayers': ['FparLai_QC'],\n",
       "  'QualityProductAndVersion': 'MCD15A2H.006'},\n",
       " {'Layer': 'Lai_500m',\n",
       "  'ProductAndVersion': 'MCD15A2H.006',\n",
       "  'QualityLayers': ['FparLai_QC'],\n",
       "  'QualityProductAndVersion': 'MCD15A2H.006'},\n",
       " {'Layer': 'Fpar_1km',\n",
       "  'ProductAndVersion': 'MCD15A3.005',\n",
       "  'QualityLayers': ['FparLai_QC'],\n",
       "  'QualityProductAndVersion': 'MCD15A3.005'},\n",
       " {'Layer': 'Lai_1km',\n",
       "  'ProductAndVersion': 'MCD15A3.005',\n",
       "  'QualityLayers': ['FparLai_QC'],\n",
       "  'QualityProductAndVersion': 'MCD15A3.005'},\n",
       " {'Layer': 'Fpar_500m',\n",
       "  'ProductAndVersion': 'MCD15A3H.006',\n",
       "  'QualityLayers': ['FparLai_QC'],\n",
       "  'QualityProductAndVersion': 'MCD15A3H.006'},\n",
       " {'Layer': 'Lai_500m',\n",
       "  'ProductAndVersion': 'MCD15A3H.006',\n",
       "  'QualityLayers': ['FparLai_QC'],\n",
       "  'QualityProductAndVersion': 'MCD15A3H.006'}]"
      ]
     },
     "execution_count": 36,
     "metadata": {},
     "output_type": "execute_result"
    }
   ],
   "source": [
    "params = {'limit': 6, 'pretty': True, 'offset': 20}                     # Limit response to 6 entries, start w/ 20th entry, return pretty json\n",
    "quality_response = r.get('{}quality'.format(api), params=params).json() # Call quality API using pagination and return json\n",
    "quality_response                                                        # Print response"
   ]
  },
  {
   "cell_type": "markdown",
   "metadata": {},
   "source": [
    "---\n",
    "## 5a. List Quality Layers [[List Quality Layers](https://lpdaacsvc.cr.usgs.gov/appeears/api/?language=Python%203#list-quality-layers)]\n",
    "#### This API call will list all of the quality layer information for a product."
   ]
  },
  {
   "cell_type": "code",
   "execution_count": 37,
   "metadata": {},
   "outputs": [
    {
     "data": {
      "text/plain": [
       "[{'Layer': 'Fpar_500m',\n",
       "  'ProductAndVersion': 'MCD15A3H.006',\n",
       "  'QualityLayers': ['FparLai_QC'],\n",
       "  'QualityProductAndVersion': 'MCD15A3H.006'},\n",
       " {'Layer': 'Lai_500m',\n",
       "  'ProductAndVersion': 'MCD15A3H.006',\n",
       "  'QualityLayers': ['FparLai_QC'],\n",
       "  'QualityProductAndVersion': 'MCD15A3H.006'}]"
      ]
     },
     "execution_count": 37,
     "metadata": {},
     "output_type": "execute_result"
    }
   ],
   "source": [
    "product = 'MCD15A3H.006'                                        # Product used in the example\n",
    "ql_response = r.get('{}quality/{}'.format(api,product)).json()  # Call API to retrieve quality layers for selected product\n",
    "ql_response                                                     # Print response"
   ]
  },
  {
   "cell_type": "markdown",
   "metadata": {},
   "source": [
    "---\n",
    "## 5b. Show Quality Values [[List Quality Values](https://lpdaacsvc.cr.usgs.gov/appeears/api/?language=Python%203#list-quality-values)]\n",
    "#### This API call will list all of the values for a given quality layer."
   ]
  },
  {
   "cell_type": "code",
   "execution_count": 38,
   "metadata": {},
   "outputs": [
    {
     "data": {
      "text/plain": [
       "[{'Acceptable': True,\n",
       "  'Description': 'Good quality (main algorithm with or without saturation)',\n",
       "  'Name': 'MODLAND',\n",
       "  'ProductAndVersion': 'MCD15A3H.006',\n",
       "  'QualityLayer': 'FparLai_QC',\n",
       "  'Value': 0},\n",
       " {'Acceptable': False,\n",
       "  'Description': 'Other Quality (back-up algorithm or fill values)',\n",
       "  'Name': 'MODLAND',\n",
       "  'ProductAndVersion': 'MCD15A3H.006',\n",
       "  'QualityLayer': 'FparLai_QC',\n",
       "  'Value': 1},\n",
       " {'Acceptable': None,\n",
       "  'Description': 'Terra',\n",
       "  'Name': 'Sensor',\n",
       "  'ProductAndVersion': 'MCD15A3H.006',\n",
       "  'QualityLayer': 'FparLai_QC',\n",
       "  'Value': 0},\n",
       " {'Acceptable': None,\n",
       "  'Description': 'Aqua',\n",
       "  'Name': 'Sensor',\n",
       "  'ProductAndVersion': 'MCD15A3H.006',\n",
       "  'QualityLayer': 'FparLai_QC',\n",
       "  'Value': 1},\n",
       " {'Acceptable': None,\n",
       "  'Description': 'Detectors apparently fine for up to 50% of channels 1, 2',\n",
       "  'Name': 'DeadDetector',\n",
       "  'ProductAndVersion': 'MCD15A3H.006',\n",
       "  'QualityLayer': 'FparLai_QC',\n",
       "  'Value': 0},\n",
       " {'Acceptable': None,\n",
       "  'Description': 'Dead detectors caused >50% adjacent detector retrieval',\n",
       "  'Name': 'DeadDetector',\n",
       "  'ProductAndVersion': 'MCD15A3H.006',\n",
       "  'QualityLayer': 'FparLai_QC',\n",
       "  'Value': 1},\n",
       " {'Acceptable': None,\n",
       "  'Description': 'Significant clouds NOT present (clear)',\n",
       "  'Name': 'CloudState',\n",
       "  'ProductAndVersion': 'MCD15A3H.006',\n",
       "  'QualityLayer': 'FparLai_QC',\n",
       "  'Value': 0},\n",
       " {'Acceptable': None,\n",
       "  'Description': 'Significant clouds WERE present',\n",
       "  'Name': 'CloudState',\n",
       "  'ProductAndVersion': 'MCD15A3H.006',\n",
       "  'QualityLayer': 'FparLai_QC',\n",
       "  'Value': 1},\n",
       " {'Acceptable': None,\n",
       "  'Description': 'Mixed cloud present in pixel',\n",
       "  'Name': 'CloudState',\n",
       "  'ProductAndVersion': 'MCD15A3H.006',\n",
       "  'QualityLayer': 'FparLai_QC',\n",
       "  'Value': 2},\n",
       " {'Acceptable': None,\n",
       "  'Description': 'Cloud state not defined, assumed clear',\n",
       "  'Name': 'CloudState',\n",
       "  'ProductAndVersion': 'MCD15A3H.006',\n",
       "  'QualityLayer': 'FparLai_QC',\n",
       "  'Value': 3},\n",
       " {'Acceptable': None,\n",
       "  'Description': 'Main (RT) method used, best result possible (no saturation)',\n",
       "  'Name': 'SCF_QC',\n",
       "  'ProductAndVersion': 'MCD15A3H.006',\n",
       "  'QualityLayer': 'FparLai_QC',\n",
       "  'Value': 0},\n",
       " {'Acceptable': None,\n",
       "  'Description': 'Main (RT) method used with saturation. Good, very usable',\n",
       "  'Name': 'SCF_QC',\n",
       "  'ProductAndVersion': 'MCD15A3H.006',\n",
       "  'QualityLayer': 'FparLai_QC',\n",
       "  'Value': 1},\n",
       " {'Acceptable': None,\n",
       "  'Description': 'Main (RT) method failed due to bad geometry, empirical algorithm used',\n",
       "  'Name': 'SCF_QC',\n",
       "  'ProductAndVersion': 'MCD15A3H.006',\n",
       "  'QualityLayer': 'FparLai_QC',\n",
       "  'Value': 2},\n",
       " {'Acceptable': None,\n",
       "  'Description': 'Main (RT) method failed due to problems other than geometry, empirical algorithm used',\n",
       "  'Name': 'SCF_QC',\n",
       "  'ProductAndVersion': 'MCD15A3H.006',\n",
       "  'QualityLayer': 'FparLai_QC',\n",
       "  'Value': 3},\n",
       " {'Acceptable': None,\n",
       "  'Description': \"Pixel not produced at all, value couldn't be retrieved (possible reasons: bad L1B data, unusable MOD09GA data)\",\n",
       "  'Name': 'SCF_QC',\n",
       "  'ProductAndVersion': 'MCD15A3H.006',\n",
       "  'QualityLayer': 'FparLai_QC',\n",
       "  'Value': 4}]"
      ]
     },
     "execution_count": 38,
     "metadata": {},
     "output_type": "execute_result"
    }
   ],
   "source": [
    "qlayer = ql_response[1]['QualityLayers'][0]                                # Set quality layer from ql_response for 'Lai_500m'\n",
    "qv_response = r.get('{}quality/{}/{}'.format(api, product, qlayer)).json() # Call API for list of bit-word quality values\n",
    "qv_response                                                                # Print response"
   ]
  },
  {
   "cell_type": "markdown",
   "metadata": {},
   "source": [
    "---\n",
    "## 5c. Decode Quality Values [[Decode Quality Values](https://lpdaacsvc.cr.usgs.gov/appeears/api/?language=Python%203#decode-quality-values)]\n",
    "#### This API call will decode the bits for a given quality value."
   ]
  },
  {
   "cell_type": "code",
   "execution_count": 39,
   "metadata": {},
   "outputs": [
    {
     "data": {
      "text/plain": [
       "{'Binary Representation': '0b00000001',\n",
       " 'CloudState': {'bits': '0b00',\n",
       "  'description': 'Significant clouds NOT present (clear)'},\n",
       " 'DeadDetector': {'bits': '0b0',\n",
       "  'description': 'Detectors apparently fine for up to 50% of channels 1, 2'},\n",
       " 'MODLAND': {'bits': '0b1',\n",
       "  'description': 'Other Quality (back-up algorithm or fill values)'},\n",
       " 'SCF_QC': {'bits': '0b000',\n",
       "  'description': 'Main (RT) method used, best result possible (no saturation)'},\n",
       " 'Sensor': {'bits': '0b0', 'description': 'Terra'}}"
      ]
     },
     "execution_count": 39,
     "metadata": {},
     "output_type": "execute_result"
    }
   ],
   "source": [
    "val = 1                                                                            # Set a specific value\n",
    "q_response = r.get('{}quality/{}/{}/{}'.format(api, product, qlayer, val)).json()  # Call quality API for specific value\n",
    "q_response                                                                         # Print response"
   ]
  },
  {
   "cell_type": "markdown",
   "metadata": {},
   "source": [
    "***\n",
    "# 6. BONUS: Import Request Output and Visualize\n",
    "#### Here, import one of the output GeoTIFFs and show some basic visualizations using the `matplotlib` package."
   ]
  },
  {
   "cell_type": "code",
   "execution_count": 40,
   "metadata": {},
   "outputs": [
    {
     "data": {
      "text/plain": [
       "['MCD15A3H.006_2017182_to_2017212/MCD15A3H.006_Lai_500m_doy2017185_aid0001.tif',\n",
       " 'MCD15A3H.006_2017182_to_2017212/MCD15A3H.006_Lai_500m_doy2017189_aid0001.tif',\n",
       " 'MCD15A3H.006_2017182_to_2017212/MCD15A3H.006_Lai_500m_doy2017193_aid0001.tif',\n",
       " 'MCD15A3H.006_2017182_to_2017212/MCD15A3H.006_Lai_500m_doy2017197_aid0001.tif',\n",
       " 'MCD15A3H.006_2017182_to_2017212/MCD15A3H.006_Lai_500m_doy2017201_aid0001.tif',\n",
       " 'MCD15A3H.006_2017182_to_2017212/MCD15A3H.006_Lai_500m_doy2017205_aid0001.tif',\n",
       " 'MCD15A3H.006_2017182_to_2017212/MCD15A3H.006_Lai_500m_doy2017209_aid0001.tif',\n",
       " 'MCD15A3H.006_2017182_to_2017212/MCD15A3H.006_FparLai_QC_doy2017185_aid0001.tif',\n",
       " 'MCD15A3H.006_2017182_to_2017212/MCD15A3H.006_FparLai_QC_doy2017189_aid0001.tif',\n",
       " 'MCD15A3H.006_2017182_to_2017212/MCD15A3H.006_FparLai_QC_doy2017193_aid0001.tif',\n",
       " 'MCD15A3H.006_2017182_to_2017212/MCD15A3H.006_FparLai_QC_doy2017197_aid0001.tif',\n",
       " 'MCD15A3H.006_2017182_to_2017212/MCD15A3H.006_FparLai_QC_doy2017201_aid0001.tif',\n",
       " 'MCD15A3H.006_2017182_to_2017212/MCD15A3H.006_FparLai_QC_doy2017205_aid0001.tif',\n",
       " 'MCD15A3H.006_2017182_to_2017212/MCD15A3H.006_FparLai_QC_doy2017209_aid0001.tif',\n",
       " 'MOD11A2.006_2017182_to_2017212/MOD11A2.006_LST_Day_1km_doy2017185_aid0001.tif',\n",
       " 'MOD11A2.006_2017182_to_2017212/MOD11A2.006_LST_Day_1km_doy2017193_aid0001.tif',\n",
       " 'MOD11A2.006_2017182_to_2017212/MOD11A2.006_LST_Day_1km_doy2017201_aid0001.tif',\n",
       " 'MOD11A2.006_2017182_to_2017212/MOD11A2.006_LST_Day_1km_doy2017209_aid0001.tif',\n",
       " 'MOD11A2.006_2017182_to_2017212/MOD11A2.006_LST_Night_1km_doy2017185_aid0001.tif',\n",
       " 'MOD11A2.006_2017182_to_2017212/MOD11A2.006_LST_Night_1km_doy2017193_aid0001.tif',\n",
       " 'MOD11A2.006_2017182_to_2017212/MOD11A2.006_LST_Night_1km_doy2017201_aid0001.tif',\n",
       " 'MOD11A2.006_2017182_to_2017212/MOD11A2.006_LST_Night_1km_doy2017209_aid0001.tif',\n",
       " 'MOD11A2.006_2017182_to_2017212/MOD11A2.006_QC_Day_doy2017185_aid0001.tif',\n",
       " 'MOD11A2.006_2017182_to_2017212/MOD11A2.006_QC_Day_doy2017193_aid0001.tif',\n",
       " 'MOD11A2.006_2017182_to_2017212/MOD11A2.006_QC_Day_doy2017201_aid0001.tif',\n",
       " 'MOD11A2.006_2017182_to_2017212/MOD11A2.006_QC_Day_doy2017209_aid0001.tif',\n",
       " 'MOD11A2.006_2017182_to_2017212/MOD11A2.006_QC_Night_doy2017185_aid0001.tif',\n",
       " 'MOD11A2.006_2017182_to_2017212/MOD11A2.006_QC_Night_doy2017193_aid0001.tif',\n",
       " 'MOD11A2.006_2017182_to_2017212/MOD11A2.006_QC_Night_doy2017201_aid0001.tif',\n",
       " 'MOD11A2.006_2017182_to_2017212/MOD11A2.006_QC_Night_doy2017209_aid0001.tif',\n",
       " 'SRTMGL1.003_2017182_to_2017212/SRTMGL1.003_Band1_doy2000042_aid0001.tif',\n",
       " 'SRTMGL1N.003_2017182_to_2017212/SRTMGL1N.003_Band1_doy2000042_aid0001.tif',\n",
       " 'MCD15A3H-006-FparLai-QC-lookup.csv',\n",
       " 'MOD11A2-006-QC-Day-lookup.csv',\n",
       " 'MOD11A2-006-QC-Night-lookup.csv',\n",
       " 'SRTMGL1N-003-Band1-lookup.csv',\n",
       " 'MCD15A3H-006-FparLai-QC-Statistics-QA.csv',\n",
       " 'MOD11A2-006-QC-Day-Statistics-QA.csv',\n",
       " 'MOD11A2-006-QC-Night-Statistics-QA.csv',\n",
       " 'SRTMGL1N-003-Band1-Statistics-QA.csv',\n",
       " 'MCD15A3H-006-Statistics.csv',\n",
       " 'MOD11A2-006-Statistics.csv',\n",
       " 'SRTMGL1-003-Statistics.csv',\n",
       " 'NPS-Vegetation-Area-granule-list.txt',\n",
       " 'NPS-Vegetation-Area-request.json',\n",
       " 'NPS-Vegetation-Area-MCD15A3H-006-metadata.xml',\n",
       " 'NPS-Vegetation-Area-MOD11A2-006-metadata.xml',\n",
       " 'NPS-Vegetation-Area-SRTMGL1-003-metadata.xml',\n",
       " 'README.txt']"
      ]
     },
     "execution_count": 40,
     "metadata": {},
     "output_type": "execute_result"
    }
   ],
   "source": [
    "# Import packages\n",
    "import matplotlib.pyplot as plt\n",
    "import numpy as np\n",
    "from osgeo import gdal\n",
    "list(files.values())  # List files downloaded"
   ]
  },
  {
   "cell_type": "markdown",
   "metadata": {},
   "source": [
    "---\n",
    "## 6a. Import a GeoTIFF\n",
    "#### To perform the next step below, you will need to have [GDAL](http://www.gdal.org/) installed on your OS. Open the GeoTIFF file for the SRTM DEM, and read in as an array.\n"
   ]
  },
  {
   "cell_type": "code",
   "execution_count": 41,
   "metadata": {},
   "outputs": [],
   "source": [
    "dem = gdal.Open(destDir + '/SRTMGL1.003_Band1_doy2000042_aid0001.tif' ) # Read file in\n",
    "demBand = dem.GetRasterBand(1)                                          # Read the band (layer)\n",
    "demData = demBand.ReadAsArray().astype('float')                         # Import band as an array with type float"
   ]
  },
  {
   "cell_type": "markdown",
   "metadata": {},
   "source": [
    "#### Next, query the metadata for the fill value, and set fill value equal to `nan`."
   ]
  },
  {
   "cell_type": "code",
   "execution_count": 42,
   "metadata": {},
   "outputs": [],
   "source": [
    "demFill = demBand.GetNoDataValue()            # Returns fill value\n",
    "demData[demData == demFill] = np.nan          # Set fill value to nan"
   ]
  },
  {
   "cell_type": "markdown",
   "metadata": {},
   "source": [
    "---\n",
    "## 6b. Plot a GeoTIFF\n",
    "#### In this section, begin by highlighting the functionality of the `matplotlib` plotting package.  "
   ]
  },
  {
   "cell_type": "code",
   "execution_count": 43,
   "metadata": {},
   "outputs": [],
   "source": [
    "# Set matplotlib plots inline\n",
    "%matplotlib inline "
   ]
  },
  {
   "cell_type": "markdown",
   "metadata": {},
   "source": [
    "#### First, make a basic plot of the DEM data."
   ]
  },
  {
   "cell_type": "code",
   "execution_count": 44,
   "metadata": {},
   "outputs": [
    {
     "data": {
      "image/png": "[encoded data removed]",
      "text/plain": [
       "<matplotlib.figure.Figure at 0x28580881c88>"
      ]
     },
     "metadata": {},
     "output_type": "display_data"
    }
   ],
   "source": [
    "plt.imshow(demData);  # Visualize a basic plot of the DEM data"
   ]
  },
  {
   "cell_type": "markdown",
   "metadata": {},
   "source": [
    "#### Next, add some additional parameters to the plot."
   ]
  },
  {
   "cell_type": "code",
   "execution_count": 45,
   "metadata": {},
   "outputs": [
    {
     "data": {
      "image/png": "[encoded data removed]",
      "text/plain": [
       "<matplotlib.figure.Figure at 0x28584a69940>"
      ]
     },
     "metadata": {},
     "output_type": "display_data"
    }
   ],
   "source": [
    "fig = plt.figure(figsize = (10,7.5))  # Set the figure size (x,y)\n",
    "plt.axis('off')                       # Remove the axes' values\n",
    "ax = fig.add_subplot(111)             \n",
    "\n",
    "# Plot the array, using a colormap and setting a custom linear stretch based on the min/max Elevation values\n",
    "plt.imshow(demData, vmin = np.nanmin(demData), vmax = np.nanmax(demData), cmap = 'terrain');"
   ]
  },
  {
   "cell_type": "markdown",
   "metadata": {},
   "source": [
    "#### Finally, add important map items including a legend and title."
   ]
  },
  {
   "cell_type": "code",
   "execution_count": 46,
   "metadata": {},
   "outputs": [
    {
     "data": {
      "image/png": "[encoded data removed]",
      "text/plain": [
       "<matplotlib.figure.Figure at 0x28584e2e198>"
      ]
     },
     "metadata": {},
     "output_type": "display_data"
    }
   ],
   "source": [
    "plt.style.use(\"dark_background\")                                                       # Default to a black background\n",
    "fig2 = plt.figure(figsize=(10,7.5))                                                    # Set the figure size\n",
    "plt.axis('off')                                                                        # Remove the axes' values\n",
    "ax1 = fig2.add_subplot(111)                                                            # Make a subplot\n",
    "fig2.subplots_adjust(top=3.8)                                                          # Adjust spacing\n",
    "ax1.set_title('SRTM DEM: Grand Canyon NP',fontsize=15,fontweight='bold',color='white') # Add title\n",
    "\n",
    "# Plot the masked data, using a colormap and setting a custom linear stretch based on the min/max DEM values\n",
    "im = plt.imshow(demData, vmin = np.nanmin(demData), vmax = np.nanmax(demData), cmap = 'terrain');\n",
    "\n",
    "cb = plt.colorbar(im, orientation='horizontal', fraction=0.047, pad=0.004, shrink=0.6) # Add a colormap legend\n",
    "cb.set_label(label='Elevation (m)', color = 'white')                                   # Set Label and color\n",
    "cb.outline.set_edgecolor('white')                                                      # Set edge color"
   ]
  },
  {
   "cell_type": "markdown",
   "metadata": {},
   "source": [
    "### This example can provide a template to use for your own research workflows. Leveraging the AρρEEARS API for searching, extracting, and formatting analysis ready data, and importing it directly into Python means that you can keep your entire research workflow in a single software program, from start to finish. "
   ]
  },
  {
   "cell_type": "markdown",
   "metadata": {},
   "source": [
    "***\n",
    "<div class=\"alert alert-block alert-info\">\n",
    "<h1> Contact Information </h1> \n",
    "<h3> Material written by Cole Krehbiel$^{1}$ </h3>\n",
    "<b>Contact:</b> LPDAAC@usgs.gov  \n",
    "<b>Voice:</b> +1-605-594-6116  \n",
    "<b>Organization:</b> Land Processes Distributed Active Archive Center (LP DAAC)  \n",
    "<b>Website:</b> https://lpdaac.usgs.gov/  \n",
    "<b>Date last modified:</b> 04-19-2018  \n",
    "\n",
    "$^{1}$Innovate! Inc., contractor to the U.S. Geological Survey, Earth Resources Observation and Science (EROS) Center, Sioux Falls, South Dakota, 57198-001, USA. Work performed under USGS contract G15PD00467 for LP DAAC$^{2}$.\n",
    "\n",
    "$^{2}$LP DAAC Work performed under NASA contract NNG14HH33I. "
   ]
  }
 ],
 "metadata": {
  "kernelspec": {
   "display_name": "Python 3",
   "language": "python",
   "name": "python3"
  },
  "language_info": {
   "codemirror_mode": {
    "name": "ipython",
    "version": 3
   },
   "file_extension": ".py",
   "mimetype": "text/x-python",
   "name": "python",
   "nbconvert_exporter": "python",
   "pygments_lexer": "ipython3",
   "version": "3.6.1"
  }
 },
 "nbformat": 4,
 "nbformat_minor": 2
}
